{
 "cells": [
  {
   "cell_type": "code",
   "execution_count": 1,
   "id": "fd9339b7-5f15-4349-b4a8-73bb2b27e0d4",
   "metadata": {},
   "outputs": [],
   "source": [
    "import numpy as np\n",
    "import pufferlib, pufferlib.vector\n",
    "from pufferlib.environments import classic_control"
   ]
  },
  {
   "cell_type": "code",
   "execution_count": 2,
   "id": "404c2cde-21cd-4eb5-af67-b1e213499852",
   "metadata": {},
   "outputs": [],
   "source": [
    "num_envs = 12"
   ]
  },
  {
   "cell_type": "code",
   "execution_count": 3,
   "id": "f92823ba-6ae0-4de7-8d77-704e62476f35",
   "metadata": {},
   "outputs": [],
   "source": [
    "vecenv = pufferlib.vector.make(\n",
    "    classic_control.env_creator(\"CartPole-v1\"),\n",
    "    num_envs=num_envs,\n",
    "    backend=pufferlib.vector.Multiprocessing,\n",
    ")"
   ]
  },
  {
   "cell_type": "code",
   "execution_count": 4,
   "id": "a912d8eb-03ca-4356-b480-cbad7e8e4b8c",
   "metadata": {},
   "outputs": [
    {
     "data": {
      "text/plain": [
       "((12, 4),\n",
       " array([[ 0.0273956 , -0.00611216,  0.03585979,  0.0197368 ],\n",
       "        [ 0.01522993, -0.04562247, -0.04799704,  0.03392126],\n",
       "        [-0.03774345, -0.02418869, -0.00942293,  0.0469184 ],\n",
       "        [ 0.00731307,  0.00284911,  0.02636502,  0.03116928],\n",
       "        [ 0.04056043, -0.04227732, -0.02274302,  0.01218505],\n",
       "        [ 0.0241802 ,  0.02536688, -0.00348195, -0.0396275 ],\n",
       "        [-0.01123001,  0.00957735,  0.00138005,  0.01944919],\n",
       "        [-0.01371458,  0.00932173, -0.01080498,  0.01236993],\n",
       "        [ 0.02874227,  0.03336693,  0.00479045,  0.04734491],\n",
       "        [ 0.04424412, -0.01928616, -0.02450934, -0.02773815],\n",
       "        [ 0.0115763 ,  0.00742263,  0.00195436, -0.04936105],\n",
       "        [-0.0488873 ,  0.02189106, -0.01688728,  0.04330887]],\n",
       "       dtype=float32))"
      ]
     },
     "execution_count": 4,
     "metadata": {},
     "output_type": "execute_result"
    }
   ],
   "source": [
    "initial_obs, _ = vecenv.reset()\n",
    "initial_obs.shape, initial_obs"
   ]
  },
  {
   "cell_type": "code",
   "execution_count": 5,
   "id": "90a699f3-0e26-4381-9e12-17bcf8e623af",
   "metadata": {},
   "outputs": [],
   "source": [
    "n_input = vecenv.single_observation_space.shape[0]\n",
    "n_actions = vecenv.single_action_space.n"
   ]
  },
  {
   "cell_type": "code",
   "execution_count": 6,
   "id": "4d48c621-dbd8-4601-80e9-347130af35b4",
   "metadata": {},
   "outputs": [
    {
     "data": {
      "text/plain": [
       "(4, 2)"
      ]
     },
     "execution_count": 6,
     "metadata": {},
     "output_type": "execute_result"
    }
   ],
   "source": [
    "n_input, n_actions"
   ]
  },
  {
   "cell_type": "code",
   "execution_count": 7,
   "id": "bbf3a594-1e0c-48d4-aca0-a751953057d6",
   "metadata": {},
   "outputs": [
    {
     "data": {
      "text/plain": [
       "(22.164, 1950)"
      ]
     },
     "execution_count": 7,
     "metadata": {},
     "output_type": "execute_result"
    }
   ],
   "source": [
    "env_rewards = [list() for _ in range(num_envs)]\n",
    "env_rewards\n",
    "\n",
    "returns = []\n",
    "\n",
    "from itertools import count\n",
    "\n",
    "dones = np.array([False] * num_envs)\n",
    "truncateds = np.array([False] * num_envs)\n",
    "dones, truncateds\n",
    "\n",
    "obs, _ = vecenv.reset()\n",
    "episodes = 0\n",
    "for t in count():\n",
    "    obs, rewards, dones, truncateds, _ = vecenv.step(vecenv.action_space.sample())\n",
    "    for i, reward in enumerate(rewards):\n",
    "        env_rewards[i].append(reward)\n",
    "    for i in np.where(dones | truncateds)[0]:\n",
    "        returns.append(sum(env_rewards[i]))\n",
    "        env_rewards[i] = []\n",
    "        episodes += 1\n",
    "    if episodes >= 1_000:\n",
    "        break\n",
    "\n",
    "np.mean([np.sum(rets) for rets in returns]), t"
   ]
  },
  {
   "cell_type": "code",
   "execution_count": 8,
   "id": "beae8073-5836-4fdc-aadb-07bdf55023be",
   "metadata": {},
   "outputs": [],
   "source": [
    "import torch\n",
    "from torch import nn"
   ]
  },
  {
   "cell_type": "code",
   "execution_count": 9,
   "id": "f8a70469-b3f6-4b3f-a431-1203c5b6aef9",
   "metadata": {},
   "outputs": [],
   "source": [
    "class QNetwork(nn.Module):\n",
    "    def __init__(self, n_input, n_hiddens, n_actions):\n",
    "        super().__init__()\n",
    "        self.mlp = nn.Sequential(\n",
    "            nn.Linear(n_input, n_hiddens),\n",
    "            nn.ReLU(),\n",
    "            nn.Linear(n_hiddens, n_actions),\n",
    "        )\n",
    "\n",
    "    def forward(self, x):\n",
    "        device = next(self.mlp.parameters()).device\n",
    "        x = torch.tensor(np.array(x), dtype=torch.float32, device=device)\n",
    "        \n",
    "        return self.mlp(x)"
   ]
  },
  {
   "cell_type": "code",
   "execution_count": 10,
   "id": "75a82159-6c09-4507-8700-9cc8cc78beb7",
   "metadata": {},
   "outputs": [],
   "source": [
    "n_hiddens = 8"
   ]
  },
  {
   "cell_type": "code",
   "execution_count": 11,
   "id": "b2e35d8f-336d-4031-9897-d7b88d00cb62",
   "metadata": {},
   "outputs": [
    {
     "data": {
      "text/plain": [
       "(QNetwork(\n",
       "   (mlp): Sequential(\n",
       "     (0): Linear(in_features=4, out_features=8, bias=True)\n",
       "     (1): ReLU()\n",
       "     (2): Linear(in_features=8, out_features=2, bias=True)\n",
       "   )\n",
       " ),\n",
       " QNetwork(\n",
       "   (mlp): Sequential(\n",
       "     (0): Linear(in_features=4, out_features=8, bias=True)\n",
       "     (1): ReLU()\n",
       "     (2): Linear(in_features=8, out_features=2, bias=True)\n",
       "   )\n",
       " ))"
      ]
     },
     "execution_count": 11,
     "metadata": {},
     "output_type": "execute_result"
    }
   ],
   "source": [
    "net = QNetwork(n_input, n_hiddens, n_actions)\n",
    "target_net = QNetwork(n_input, n_hiddens, n_actions)\n",
    "target_net.load_state_dict(net.state_dict())\n",
    "target_net.eval()\n",
    "net, target_net"
   ]
  },
  {
   "cell_type": "code",
   "execution_count": 12,
   "id": "f2d2bc87-7d58-4e0f-bf00-f102c9823da7",
   "metadata": {},
   "outputs": [
    {
     "name": "stdout",
     "output_type": "stream",
     "text": [
      "tensor(True)\n"
     ]
    }
   ],
   "source": [
    "obs, _ = vecenv.reset()\n",
    "with torch.no_grad():\n",
    "    print(torch.all(net(obs) == target_net(obs)))"
   ]
  },
  {
   "cell_type": "code",
   "execution_count": 13,
   "id": "3c4d6034-ce52-45d4-b9fd-7d28fab31574",
   "metadata": {},
   "outputs": [],
   "source": [
    "import random"
   ]
  },
  {
   "cell_type": "code",
   "execution_count": 14,
   "id": "b12c0c99-c683-4505-9a65-c3816f0a3d87",
   "metadata": {},
   "outputs": [],
   "source": [
    "def select_actions(q_values, epsilon):\n",
    "    batch_size, n_actions = q_values.shape\n",
    "    if random.random() < epsilon:\n",
    "        return np.random.choice(range(n_actions), batch_size)\n",
    "    return np.array(q_values.argmax(dim=-1).cpu())"
   ]
  },
  {
   "cell_type": "code",
   "execution_count": 15,
   "id": "8e9c5f07-f28b-48e6-91f8-1613dc3944c3",
   "metadata": {},
   "outputs": [
    {
     "name": "stdout",
     "output_type": "stream",
     "text": [
      "[0 0 0 0 0 0 0 0 0 0 0 0]\n"
     ]
    }
   ],
   "source": [
    "with torch.no_grad():\n",
    "    q_values = net(obs)\n",
    "    print(select_actions(q_values, 0.5))"
   ]
  },
  {
   "cell_type": "code",
   "execution_count": 16,
   "id": "adf893ca-68c2-4f7f-9bc4-523996916f42",
   "metadata": {},
   "outputs": [],
   "source": [
    "from collections import deque"
   ]
  },
  {
   "cell_type": "code",
   "execution_count": 17,
   "id": "2e208182-c144-44c0-927a-fdd0dac4331b",
   "metadata": {},
   "outputs": [],
   "source": [
    "class ReplayBuffer:\n",
    "    def __init__(self, capacity: int):\n",
    "        self.capacity = capacity\n",
    "        self.queue = deque(maxlen=capacity)\n",
    "\n",
    "    def store(self, transition):\n",
    "        self.queue.append(transition)\n",
    "\n",
    "    def extend(self, transitions):\n",
    "        for transition in transitions:\n",
    "            self.store(transition)\n",
    "\n",
    "    def sample(self, n_samples: int):\n",
    "        return [random.choice(self.queue) for _ in range(n_samples)]\n",
    "\n",
    "    def __len__(self):\n",
    "        return len(self.queue)\n",
    "\n",
    "    def __repr__(self):\n",
    "        return self.queue.__repr__()"
   ]
  },
  {
   "cell_type": "code",
   "execution_count": 18,
   "id": "bf979014-3a61-4539-9ba3-982976e1192a",
   "metadata": {},
   "outputs": [],
   "source": [
    "device = torch.device(\"cuda\" if torch.cuda.is_available() else \"cpu\")"
   ]
  },
  {
   "cell_type": "code",
   "execution_count": null,
   "id": "68154c48-58b2-4348-ac0b-1ce49f5804c7",
   "metadata": {},
   "outputs": [
    {
     "data": {
      "application/vnd.jupyter.widget-view+json": {
       "model_id": "79e8ab82c51a493092ab9171620e4b92",
       "version_major": 2,
       "version_minor": 0
      },
      "text/plain": [
       "Episodes:   0%|          | 0/4800 [00:00<?, ?it/s]"
      ]
     },
     "metadata": {},
     "output_type": "display_data"
    }
   ],
   "source": [
    "from torch import optim\n",
    "\n",
    "from itertools import count\n",
    "from tqdm.auto import tqdm\n",
    "\n",
    "net = QNetwork(n_input, n_hiddens, n_actions).to(device)\n",
    "target_net = QNetwork(n_input, n_hiddens, n_actions).to(device)\n",
    "target_net.load_state_dict(net.state_dict())\n",
    "target_net.eval()\n",
    "\n",
    "\n",
    "env_rewards = [list() for _ in range(num_envs)]\n",
    "env_rewards\n",
    "returns = []\n",
    "\n",
    "gamma = 1.0\n",
    "n_target_update_eps = 60\n",
    "n_episodes = 4_800\n",
    "buffer_size = 100_000\n",
    "update_batch_size = 512\n",
    "learning_rate = 1e-4\n",
    "epsilon_start = 1.0\n",
    "epsilon_end = 0.0\n",
    "epsilon_decay = 9 * n_episodes // 10\n",
    "epsilon_decay_rate = (epsilon_start - epsilon_end) / epsilon_decay\n",
    "epsilon = epsilon_start\n",
    "\n",
    "optimizer = optim.Adam(net.parameters(), lr=learning_rate)\n",
    "loss_fn = nn.SmoothL1Loss()\n",
    "buffer = ReplayBuffer(capacity=buffer_size)\n",
    "\n",
    "obs, _ = vecenv.reset()\n",
    "obs = obs.copy()\n",
    "episodes = 0\n",
    "bar = tqdm(\n",
    "    desc=\"Episodes\",\n",
    "    total=n_episodes,\n",
    "    initial=0,\n",
    ")\n",
    "\n",
    "debug = False\n",
    "debug_seen = False\n",
    "\n",
    "for t in count():\n",
    "    with torch.no_grad():\n",
    "        q_values = net(obs)\n",
    "        actions = select_actions(q_values, epsilon)\n",
    "\n",
    "    if debug and debug_seen:\n",
    "        print(\"Ob seen:\\t\", obs[0])\n",
    "        print(\"Action taken:\\t\", actions[0])\n",
    "    \n",
    "    next_obs, rewards, dones, truncateds, _ = vecenv.step(actions)\n",
    "\n",
    "    if debug and debug_seen:\n",
    "        print(\"Ob seen:\\t\", obs[0])\n",
    "    buffer.extend(zip(obs.copy(), actions.copy(), rewards.copy(), next_obs.copy(), (dones | truncateds).copy()))\n",
    "    obs = next_obs.copy()\n",
    "\n",
    "    for i, reward in enumerate(rewards):\n",
    "        env_rewards[i].append(reward)\n",
    "\n",
    "    if len(buffer) >= update_batch_size:\n",
    "        obs_s, actions_s, rewards_s, next_obs_s, dones_s = zip(*buffer.sample(update_batch_size))\n",
    "        if debug:\n",
    "            print(\"\\nOb:\\t\\t\", obs_s[0])\n",
    "            print(\"Action:\\t\", actions_s[0])\n",
    "            print(\"Reward:\\t\", rewards_s[0])\n",
    "            print(\"Next ob:\\t\", next_obs_s[0])\n",
    "            print(\"Done:\\t\\t\", dones_s[0])\n",
    "    \n",
    "            print(\"\\nBuffer length:\", len(buffer))\n",
    "            print(\"\\nBuffer items:\", buffer.queue[0])\n",
    "\n",
    "        actions_t = torch.tensor(actions_s, device=device).unsqueeze(1)\n",
    "        q_values_t = net(obs_s).gather(1, actions_t).squeeze(1)\n",
    "        rewards_t = torch.tensor(rewards_s, device=device) / 500.\n",
    "        dones_t = torch.tensor(dones_s, device=device)\n",
    "        with torch.no_grad():\n",
    "            target_q_values_t = target_net(next_obs_s).max(dim=1).values\n",
    "\n",
    "        target = rewards_t + gamma * ~dones_t * target_q_values_t\n",
    "        loss = loss_fn(target, q_values_t)\n",
    "\n",
    "        if debug:\n",
    "            print(\"Actions T:\\t\", actions_t[0])\n",
    "            print(\"Qs T:\\t\\t\", q_values_t[0])\n",
    "            print(\"Target Qs:\\t\", target_q_values_t[0])\n",
    "            print(\"TD Target:\\t\", target[0])\n",
    "            with torch.no_grad():\n",
    "                td_error = target - q_values_t\n",
    "            print(\"TD Error:\\t\", td_error[0])\n",
    "\n",
    "\n",
    "        optimizer.zero_grad()\n",
    "        loss.backward()\n",
    "        optimizer.step()\n",
    "\n",
    "        if debug:\n",
    "            with torch.no_grad():\n",
    "                q_values_t = net(obs_s).gather(1, actions_t).squeeze(1)\n",
    "                target_q_values_t = target_net(next_obs_s).max(dim=1).values\n",
    "                target = rewards_t + gamma * ~dones_t * target_q_values_t\n",
    "                td_error = target - q_values_t\n",
    "                \n",
    "            print(\"Actions T:\\t\", actions_t[0])\n",
    "            print(\"Qs T:\\t\\t\", q_values_t[0])\n",
    "            print(\"TD Target:\\t\", target[0])\n",
    "            print(\"Target Qs:\\t\", target_q_values_t[0])\n",
    "            print(\"TD Error:\\t\", td_error[0])\n",
    "    \n",
    "            break\n",
    "        \n",
    "    for i in np.where(dones | truncateds)[0]:\n",
    "        returns.append(sum(env_rewards[i]))\n",
    "        env_rewards[i] = []\n",
    "        episodes += 1\n",
    "        if epsilon >= epsilon_end:\n",
    "            epsilon -= epsilon_decay_rate\n",
    "        bar.update()\n",
    "        \n",
    "    if episodes >= n_episodes:\n",
    "        bar.close()\n",
    "        debug = True\n",
    "        #break\n",
    "\n",
    "    if episodes % n_target_update_eps == 0:\n",
    "        target_net.load_state_dict(net.state_dict())\n",
    "\n",
    "np.max([np.sum(rets) for rets in returns]), t"
   ]
  },
  {
   "cell_type": "code",
   "execution_count": null,
   "id": "dc3149ee-b892-4d88-89c7-493756e87a74",
   "metadata": {},
   "outputs": [],
   "source": [
    "np.mean([np.sum(rets) for rets in returns[-100:]])"
   ]
  },
  {
   "cell_type": "code",
   "execution_count": null,
   "id": "1744d8f2-80dc-41a3-9b77-1105a621735d",
   "metadata": {},
   "outputs": [],
   "source": [
    "import gymnasium as gym\n",
    "import numpy as np\n",
    "from datetime import datetime\n",
    "\n",
    "timestamp = datetime.now().strftime('%Y%m%d_%H%M%S')\n",
    "video_folder = f\"./videos/DQN_scratch_CartPole_{timestamp}\"\n",
    "\n",
    "env = gym.make(\"CartPole-v1\", render_mode=\"rgb_array\")\n",
    "env = gym.wrappers.RecordVideo(env, video_folder)\n",
    "\n",
    "epsilon = epsilon_end\n",
    "\n",
    "for _ in range(9):\n",
    "    ob, _ = env.reset()\n",
    "    ob = np.expand_dims(ob, 0)\n",
    "    ret = 0\n",
    "    done, truncated = False, False\n",
    "    while not (done or truncated):\n",
    "        with torch.no_grad():\n",
    "            q_values = net(ob)\n",
    "        actions = select_actions(q_values, epsilon)\n",
    "        ob, reward, done, truncated, _ = env.step(actions[0])\n",
    "        ob = np.expand_dims(ob, 0)\n",
    "        ret += reward\n",
    "    \n",
    "    print(ret)\n",
    "\n",
    "env.close()"
   ]
  }
 ],
 "metadata": {
  "kernelspec": {
   "display_name": "Python 3 (ipykernel)",
   "language": "python",
   "name": "python3"
  },
  "language_info": {
   "codemirror_mode": {
    "name": "ipython",
    "version": 3
   },
   "file_extension": ".py",
   "mimetype": "text/x-python",
   "name": "python",
   "nbconvert_exporter": "python",
   "pygments_lexer": "ipython3",
   "version": "3.11.11"
  }
 },
 "nbformat": 4,
 "nbformat_minor": 5
}
