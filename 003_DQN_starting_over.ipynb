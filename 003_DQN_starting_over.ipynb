{
 "cells": [
  {
   "cell_type": "code",
   "execution_count": 1,
   "id": "fd9339b7-5f15-4349-b4a8-73bb2b27e0d4",
   "metadata": {},
   "outputs": [],
   "source": [
    "import numpy as np\n",
    "import pufferlib, pufferlib.vector\n",
    "from pufferlib.environments import classic_control"
   ]
  },
  {
   "cell_type": "code",
   "execution_count": 2,
   "id": "404c2cde-21cd-4eb5-af67-b1e213499852",
   "metadata": {},
   "outputs": [],
   "source": [
    "num_envs = 12"
   ]
  },
  {
   "cell_type": "code",
   "execution_count": 3,
   "id": "f92823ba-6ae0-4de7-8d77-704e62476f35",
   "metadata": {},
   "outputs": [
    {
     "name": "stderr",
     "output_type": "stream",
     "text": [
      "Process Process-10:\n",
      "Process Process-5:\n",
      "Process Process-12:\n",
      "Process Process-4:\n",
      "Process Process-2:\n",
      "Process Process-11:\n",
      "Process Process-1:\n",
      "Process Process-3:\n",
      "Process Process-7:\n",
      "Process Process-6:\n",
      "Traceback (most recent call last):\n",
      "Traceback (most recent call last):\n",
      "Traceback (most recent call last):\n",
      "Traceback (most recent call last):\n",
      "Traceback (most recent call last):\n",
      "Traceback (most recent call last):\n",
      "Traceback (most recent call last):\n",
      "  File \"/home/fitti/.conda/envs/puffer/lib/python3.11/multiprocessing/process.py\", line 314, in _bootstrap\n",
      "    self.run()\n",
      "Traceback (most recent call last):\n",
      "Traceback (most recent call last):\n",
      "  File \"/home/fitti/.conda/envs/puffer/lib/python3.11/multiprocessing/process.py\", line 314, in _bootstrap\n",
      "    self.run()\n",
      "  File \"/home/fitti/.conda/envs/puffer/lib/python3.11/multiprocessing/process.py\", line 314, in _bootstrap\n",
      "    self.run()\n",
      "Traceback (most recent call last):\n",
      "  File \"/home/fitti/.conda/envs/puffer/lib/python3.11/multiprocessing/process.py\", line 108, in run\n",
      "    self._target(*self._args, **self._kwargs)\n",
      "  File \"/home/fitti/.conda/envs/puffer/lib/python3.11/multiprocessing/process.py\", line 314, in _bootstrap\n",
      "    self.run()\n",
      "  File \"/home/fitti/.conda/envs/puffer/lib/python3.11/multiprocessing/process.py\", line 314, in _bootstrap\n",
      "    self.run()\n",
      "  File \"/home/fitti/.conda/envs/puffer/lib/python3.11/multiprocessing/process.py\", line 314, in _bootstrap\n",
      "    self.run()\n",
      "  File \"/home/fitti/.conda/envs/puffer/lib/python3.11/multiprocessing/process.py\", line 314, in _bootstrap\n",
      "    self.run()\n",
      "  File \"/home/fitti/.conda/envs/puffer/lib/python3.11/multiprocessing/process.py\", line 108, in run\n",
      "    self._target(*self._args, **self._kwargs)\n",
      "  File \"/home/fitti/.conda/envs/puffer/lib/python3.11/multiprocessing/process.py\", line 108, in run\n",
      "    self._target(*self._args, **self._kwargs)\n",
      "  File \"/home/fitti/.conda/envs/puffer/lib/python3.11/multiprocessing/process.py\", line 314, in _bootstrap\n",
      "    self.run()\n",
      "  File \"/home/fitti/.conda/envs/puffer/lib/python3.11/multiprocessing/process.py\", line 314, in _bootstrap\n",
      "    self.run()\n",
      "  File \"/home/fitti/.conda/envs/puffer/lib/python3.11/multiprocessing/process.py\", line 314, in _bootstrap\n",
      "    self.run()\n",
      "  File \"/home/fitti/.conda/envs/puffer/lib/python3.11/site-packages/pufferlib/vector.py\", line 176, in _worker_process\n",
      "    if time.time() - start > 0.5:\n",
      "       ^^^^^^^^^^^\n",
      "  File \"/home/fitti/.conda/envs/puffer/lib/python3.11/multiprocessing/process.py\", line 108, in run\n",
      "    self._target(*self._args, **self._kwargs)\n",
      "  File \"/home/fitti/.conda/envs/puffer/lib/python3.11/multiprocessing/process.py\", line 108, in run\n",
      "    self._target(*self._args, **self._kwargs)\n",
      "  File \"/home/fitti/.conda/envs/puffer/lib/python3.11/multiprocessing/process.py\", line 108, in run\n",
      "    self._target(*self._args, **self._kwargs)\n",
      "  File \"/home/fitti/.conda/envs/puffer/lib/python3.11/multiprocessing/process.py\", line 108, in run\n",
      "    self._target(*self._args, **self._kwargs)\n",
      "  File \"/home/fitti/.conda/envs/puffer/lib/python3.11/site-packages/pufferlib/vector.py\", line 176, in _worker_process\n",
      "    if time.time() - start > 0.5:\n",
      "       ^^^^^^^^^^^\n",
      "  File \"/home/fitti/.conda/envs/puffer/lib/python3.11/multiprocessing/process.py\", line 108, in run\n",
      "    self._target(*self._args, **self._kwargs)\n",
      "  File \"/home/fitti/.conda/envs/puffer/lib/python3.11/multiprocessing/process.py\", line 108, in run\n",
      "    self._target(*self._args, **self._kwargs)\n",
      "  File \"/home/fitti/.conda/envs/puffer/lib/python3.11/site-packages/pufferlib/vector.py\", line 176, in _worker_process\n",
      "    if time.time() - start > 0.5:\n",
      "       ^^^^^^^^^^^\n",
      "KeyboardInterrupt\n",
      "  File \"/home/fitti/.conda/envs/puffer/lib/python3.11/site-packages/pufferlib/vector.py\", line 176, in _worker_process\n",
      "    if time.time() - start > 0.5:\n",
      "       ^^^^^^^^^^^\n",
      "  File \"/home/fitti/.conda/envs/puffer/lib/python3.11/multiprocessing/process.py\", line 108, in run\n",
      "    self._target(*self._args, **self._kwargs)\n",
      "  File \"/home/fitti/.conda/envs/puffer/lib/python3.11/site-packages/pufferlib/vector.py\", line 176, in _worker_process\n",
      "    if time.time() - start > 0.5:\n",
      "       ^^^^^^^^^^^\n",
      "  File \"/home/fitti/.conda/envs/puffer/lib/python3.11/site-packages/pufferlib/vector.py\", line 176, in _worker_process\n",
      "    if time.time() - start > 0.5:\n",
      "       ^^^^^^^^^^^\n",
      "  File \"/home/fitti/.conda/envs/puffer/lib/python3.11/site-packages/pufferlib/vector.py\", line 176, in _worker_process\n",
      "    if time.time() - start > 0.5:\n",
      "       ^^^^^^^^^^^\n",
      "KeyboardInterrupt\n",
      "  File \"/home/fitti/.conda/envs/puffer/lib/python3.11/site-packages/pufferlib/vector.py\", line 176, in _worker_process\n",
      "    if time.time() - start > 0.5:\n",
      "       ^^^^^^^^^^^\n",
      "KeyboardInterrupt\n",
      "  File \"/home/fitti/.conda/envs/puffer/lib/python3.11/site-packages/pufferlib/vector.py\", line 176, in _worker_process\n",
      "    if time.time() - start > 0.5:\n",
      "       ^^^^^^^^^^^\n",
      "KeyboardInterrupt\n",
      "  File \"/home/fitti/.conda/envs/puffer/lib/python3.11/site-packages/pufferlib/vector.py\", line 176, in _worker_process\n",
      "    if time.time() - start > 0.5:\n",
      "       ^^^^^^^^^^^\n",
      "KeyboardInterrupt\n",
      "KeyboardInterrupt\n",
      "KeyboardInterrupt\n",
      "KeyboardInterrupt\n",
      "KeyboardInterrupt\n",
      "KeyboardInterrupt\n",
      "Process Process-9:\n",
      "Traceback (most recent call last):\n",
      "  File \"/home/fitti/.conda/envs/puffer/lib/python3.11/multiprocessing/process.py\", line 314, in _bootstrap\n",
      "    self.run()\n",
      "  File \"/home/fitti/.conda/envs/puffer/lib/python3.11/multiprocessing/process.py\", line 108, in run\n",
      "    self._target(*self._args, **self._kwargs)\n",
      "  File \"/home/fitti/.conda/envs/puffer/lib/python3.11/site-packages/pufferlib/vector.py\", line 176, in _worker_process\n",
      "    if time.time() - start > 0.5:\n",
      "       ^^^^^^^^^^^\n",
      "KeyboardInterrupt\n",
      "Process Process-8:\n",
      "Traceback (most recent call last):\n",
      "  File \"/home/fitti/.conda/envs/puffer/lib/python3.11/multiprocessing/process.py\", line 314, in _bootstrap\n",
      "    self.run()\n",
      "  File \"/home/fitti/.conda/envs/puffer/lib/python3.11/multiprocessing/process.py\", line 108, in run\n",
      "    self._target(*self._args, **self._kwargs)\n",
      "  File \"/home/fitti/.conda/envs/puffer/lib/python3.11/site-packages/pufferlib/vector.py\", line 176, in _worker_process\n",
      "    if time.time() - start > 0.5:\n",
      "       ^^^^^^^^^^^\n",
      "KeyboardInterrupt\n"
     ]
    }
   ],
   "source": [
    "vecenv = pufferlib.vector.make(\n",
    "    classic_control.env_creator(\"CartPole-v1\"),\n",
    "    num_envs=num_envs,\n",
    "    backend=pufferlib.vector.Multiprocessing,\n",
    ")"
   ]
  },
  {
   "cell_type": "code",
   "execution_count": 4,
   "id": "bbf3a594-1e0c-48d4-aca0-a751953057d6",
   "metadata": {},
   "outputs": [
    {
     "data": {
      "text/plain": [
       "(21.426, 1887)"
      ]
     },
     "execution_count": 4,
     "metadata": {},
     "output_type": "execute_result"
    }
   ],
   "source": [
    "env_rewards = [list() for _ in range(num_envs)]\n",
    "env_rewards\n",
    "\n",
    "returns = []\n",
    "\n",
    "from itertools import count\n",
    "\n",
    "dones = np.array([False] * num_envs)\n",
    "truncateds = np.array([False] * num_envs)\n",
    "dones, truncateds\n",
    "\n",
    "obs, _ = vecenv.reset()\n",
    "episodes = 0\n",
    "for t in count():\n",
    "    obs, rewards, dones, truncateds, _ = vecenv.step(vecenv.action_space.sample())\n",
    "    for i, reward in enumerate(rewards):\n",
    "        env_rewards[i].append(reward)\n",
    "    for i in np.where(dones | truncateds)[0]:\n",
    "        returns.append(sum(env_rewards[i]))\n",
    "        env_rewards[i] = []\n",
    "        episodes += 1\n",
    "    if episodes >= 1_000:\n",
    "        break\n",
    "\n",
    "np.mean([np.sum(rets) for rets in returns]), t"
   ]
  },
  {
   "cell_type": "code",
   "execution_count": 5,
   "id": "beae8073-5836-4fdc-aadb-07bdf55023be",
   "metadata": {},
   "outputs": [],
   "source": [
    "import torch\n",
    "from torch import nn"
   ]
  },
  {
   "cell_type": "code",
   "execution_count": 6,
   "id": "f8a70469-b3f6-4b3f-a431-1203c5b6aef9",
   "metadata": {},
   "outputs": [],
   "source": [
    "class QNetwork(nn.Module):\n",
    "    def __init__(self, n_input, n_hiddens, n_actions):\n",
    "        super().__init__()\n",
    "        self.mlp = nn.Sequential(\n",
    "            nn.Linear(n_input, n_hiddens),\n",
    "            nn.ReLU(),\n",
    "            nn.Linear(n_hiddens, n_actions),\n",
    "        )\n",
    "\n",
    "    def forward(self, x):\n",
    "        device = next(self.mlp.parameters()).device\n",
    "        x = torch.tensor(np.array(x), dtype=torch.float32, device=device)\n",
    "        \n",
    "        return self.mlp(x)"
   ]
  },
  {
   "cell_type": "code",
   "execution_count": 7,
   "id": "3c4d6034-ce52-45d4-b9fd-7d28fab31574",
   "metadata": {},
   "outputs": [],
   "source": [
    "import random"
   ]
  },
  {
   "cell_type": "code",
   "execution_count": 8,
   "id": "b12c0c99-c683-4505-9a65-c3816f0a3d87",
   "metadata": {},
   "outputs": [],
   "source": [
    "def select_actions(q_values, epsilon):\n",
    "    batch_size, n_actions = q_values.shape\n",
    "    if random.random() < epsilon:\n",
    "        return np.random.choice(range(n_actions), batch_size)\n",
    "    return np.array(q_values.argmax(dim=-1).cpu())"
   ]
  },
  {
   "cell_type": "code",
   "execution_count": 9,
   "id": "adf893ca-68c2-4f7f-9bc4-523996916f42",
   "metadata": {},
   "outputs": [],
   "source": [
    "from collections import deque"
   ]
  },
  {
   "cell_type": "code",
   "execution_count": 10,
   "id": "2e208182-c144-44c0-927a-fdd0dac4331b",
   "metadata": {},
   "outputs": [],
   "source": [
    "class ReplayBuffer:\n",
    "    def __init__(self, capacity: int):\n",
    "        self.capacity = capacity\n",
    "        self.queue = deque(maxlen=capacity)\n",
    "\n",
    "    def store(self, transition):\n",
    "        self.queue.append(transition)\n",
    "\n",
    "    def extend(self, transitions):\n",
    "        for transition in transitions:\n",
    "            self.store(transition)\n",
    "\n",
    "    def sample(self, n_samples: int):\n",
    "        return [random.choice(self.queue) for _ in range(n_samples)]\n",
    "\n",
    "    def __len__(self):\n",
    "        return len(self.queue)\n",
    "\n",
    "    def __repr__(self):\n",
    "        return self.queue.__repr__()"
   ]
  },
  {
   "cell_type": "code",
   "execution_count": 11,
   "id": "bf979014-3a61-4539-9ba3-982976e1192a",
   "metadata": {},
   "outputs": [],
   "source": [
    "device = torch.device(\"cuda\" if torch.cuda.is_available() else \"cpu\")"
   ]
  },
  {
   "cell_type": "code",
   "execution_count": 12,
   "id": "eec0e14a-0153-4013-b9ca-e7f6ce219412",
   "metadata": {},
   "outputs": [],
   "source": [
    "from torch import optim\n",
    "\n",
    "from itertools import count\n",
    "from tqdm.auto import tqdm\n",
    "\n",
    "import wandb"
   ]
  },
  {
   "cell_type": "code",
   "execution_count": 13,
   "id": "59c88949-607b-4710-b806-796a5654e963",
   "metadata": {},
   "outputs": [],
   "source": [
    "def train(\n",
    "    n_target_update_eps = 60,\n",
    "    n_episodes = 8_000,\n",
    "    update_batch_size = 128,\n",
    "    learning_rate = 1e-4,\n",
    "    epsilon_start = 1.0,\n",
    "    epsilon_end = 0.0,\n",
    "    epsilon_decay_percent = 0.9,\n",
    "    leave_bar = True,\n",
    "    suggestion_uuid = None,\n",
    "):  \n",
    "    net = QNetwork(n_input, n_hiddens, n_actions).to(device)\n",
    "    target_net = QNetwork(n_input, n_hiddens, n_actions).to(device)\n",
    "    target_net.load_state_dict(net.state_dict())\n",
    "    target_net.eval()\n",
    "\n",
    "    if wandb.run is not None:\n",
    "        wandb.watch(net, log=\"all\")\n",
    "    \n",
    "    env_rewards = [list() for _ in range(num_envs)]\n",
    "    env_rewards\n",
    "    returns = []\n",
    "    loss = None\n",
    "    \n",
    "    gamma = 1.0\n",
    "    buffer_size = 1_000_000\n",
    "    epsilon_decay = epsilon_decay_percent * n_episodes\n",
    "    epsilon_decay_rate = (epsilon_start - epsilon_end) / epsilon_decay\n",
    "    epsilon = epsilon_start\n",
    "    \n",
    "    optimizer = optim.Adam(net.parameters(), lr=learning_rate)\n",
    "    loss_fn = nn.SmoothL1Loss()\n",
    "    buffer = ReplayBuffer(capacity=buffer_size)\n",
    "    \n",
    "    obs, _ = vecenv.reset()\n",
    "    obs = obs.copy()\n",
    "    episodes = 0\n",
    "    bar = tqdm(\n",
    "        desc=\"Episodes\",\n",
    "        total=n_episodes,\n",
    "        initial=0,\n",
    "        leave=leave_bar,\n",
    "    )\n",
    "    \n",
    "    debug = False\n",
    "    debug_seen = False\n",
    "\n",
    "    try:\n",
    "        for t in count():\n",
    "            with torch.no_grad():\n",
    "                q_values = net(obs)\n",
    "                actions = select_actions(q_values, epsilon)\n",
    "        \n",
    "            if debug and debug_seen:\n",
    "                print(\"Ob seen:\\t\", obs[0])\n",
    "                print(\"Action taken:\\t\", actions[0])\n",
    "            \n",
    "            next_obs, rewards, dones, truncateds, _ = vecenv.step(actions)\n",
    "        \n",
    "            if debug and debug_seen:\n",
    "                print(\"Ob seen:\\t\", obs[0])\n",
    "            buffer.extend(zip(obs.copy(), actions.copy(), rewards.copy(), next_obs.copy(), (dones | truncateds).copy()))\n",
    "            obs = next_obs.copy()\n",
    "        \n",
    "            for i, reward in enumerate(rewards):\n",
    "                env_rewards[i].append(reward)\n",
    "\n",
    "            if len(buffer) >= update_batch_size:\n",
    "                obs_s, actions_s, rewards_s, next_obs_s, dones_s = zip(*buffer.sample(update_batch_size))\n",
    "                if debug:\n",
    "                    print(\"\\nOb:\\t\\t\", obs_s[0])\n",
    "                    print(\"Action:\\t\", actions_s[0])\n",
    "                    print(\"Reward:\\t\", rewards_s[0])\n",
    "                    print(\"Next ob:\\t\", next_obs_s[0])\n",
    "                    print(\"Done:\\t\\t\", dones_s[0])\n",
    "            \n",
    "                    print(\"\\nBuffer length:\", len(buffer))\n",
    "                    print(\"\\nBuffer items:\", buffer.queue[0])\n",
    "        \n",
    "                actions_t = torch.tensor(actions_s, device=device).unsqueeze(1)\n",
    "                q_values_t = net(obs_s).gather(1, actions_t).squeeze(1)\n",
    "                rewards_t = torch.tensor(rewards_s, device=device) / 500.\n",
    "                dones_t = torch.tensor(dones_s, device=device)\n",
    "                with torch.no_grad():\n",
    "                    target_q_values_t = target_net(next_obs_s).max(dim=1).values\n",
    "        \n",
    "                target = rewards_t + gamma * ~dones_t * target_q_values_t\n",
    "                loss = loss_fn(target, q_values_t)\n",
    "        \n",
    "                if debug:\n",
    "                    print(\"Actions T:\\t\", actions_t[0])\n",
    "                    print(\"Qs T:\\t\\t\", q_values_t[0])\n",
    "                    print(\"Target Qs:\\t\", target_q_values_t[0])\n",
    "                    print(\"TD Target:\\t\", target[0])\n",
    "                    with torch.no_grad():\n",
    "                        td_error = target - q_values_t\n",
    "                    print(\"TD Error:\\t\", td_error[0])\n",
    "        \n",
    "        \n",
    "                optimizer.zero_grad()\n",
    "                loss.backward()\n",
    "                optimizer.step()\n",
    "                \n",
    "                if debug:\n",
    "                    with torch.no_grad():\n",
    "                        q_values_t = net(obs_s).gather(1, actions_t).squeeze(1)\n",
    "                        target_q_values_t = target_net(next_obs_s).max(dim=1).values\n",
    "                        target = rewards_t + gamma * ~dones_t * target_q_values_t\n",
    "                        td_error = target - q_values_t\n",
    "                        \n",
    "                    print(\"Actions T:\\t\", actions_t[0])\n",
    "                    print(\"Qs T:\\t\\t\", q_values_t[0])\n",
    "                    print(\"TD Target:\\t\", target[0])\n",
    "                    print(\"Target Qs:\\t\", target_q_values_t[0])\n",
    "                    print(\"TD Error:\\t\", td_error[0])\n",
    "            \n",
    "                    break\n",
    "\n",
    "            step_returns = []\n",
    "                \n",
    "            for i in np.where(dones | truncateds)[0]:\n",
    "                ret = sum(env_rewards[i])\n",
    "                returns.append(ret)\n",
    "                env_rewards[i] = []\n",
    "                episodes += 1\n",
    "                if epsilon >= epsilon_end:\n",
    "                    epsilon -= epsilon_decay_rate\n",
    "                bar.update()\n",
    "\n",
    "                if wandb.run is not None:\n",
    "                    wandb.log(\n",
    "                        data={\n",
    "                            \"avg_return\": ret,\n",
    "                            \"epsilon\": epsilon,\n",
    "                            \"loss\": loss,\n",
    "                        },\n",
    "                        commit=True,\n",
    "                    )\n",
    "        \n",
    "            if episodes >= n_episodes:\n",
    "                bar.close()\n",
    "                model_path = \"./models/DQN_scratch_CartPole_latest.pt\"\n",
    "                torch.save(net.state_dict(), model_path)\n",
    "                wandb.log_model(model_path, \"latest\")\n",
    "                wandb.unwatch()\n",
    "                net.eval()\n",
    "                break\n",
    "                #debug = True\n",
    "        \n",
    "            if episodes % n_target_update_eps == 0:\n",
    "                target_net.load_state_dict(net.state_dict())\n",
    "\n",
    "    except KeyboardInterrupt:\n",
    "        print(\"Training halted manually.\")\n",
    "    \n",
    "    mean_last_100 = np.mean([np.sum(rets) for rets in returns[-100:]])\n",
    "    max_last_100 = np.max([np.sum(rets) for rets in returns[-100:]])\n",
    "    return net, mean_last_100, max_last_100, t"
   ]
  },
  {
   "cell_type": "code",
   "execution_count": 14,
   "id": "0f1a3add-5193-4da5-aa9d-e3d0787113ed",
   "metadata": {},
   "outputs": [],
   "source": [
    "from carbs import CARBS, CARBSParams, LinearSpace, LogSpace, LogitSpace, ObservationInParam, ParamDictType, Param\n",
    "import time"
   ]
  },
  {
   "cell_type": "raw",
   "id": "69287e95-d6ca-4894-9941-2f7b7862705f",
   "metadata": {
    "jupyter": {
     "source_hidden": true
    }
   },
   "source": [
    "n_input = vecenv.single_observation_space.shape[0]\n",
    "n_actions = vecenv.single_action_space.n\n",
    "n_hiddens = 16\n",
    "\n",
    "n_target_update_eps = 60\n",
    "n_episodes = 600\n",
    "update_batch_size = 128\n",
    "learning_rate = 1e-4\n",
    "epsilon_start = 1.0\n",
    "epsilon_end = 0.05\n",
    "epsilon_decay_percent = 0.8\n",
    "\n",
    "param_spaces = [\n",
    "    Param(name=\"n_target_update_eps\", space=LinearSpace(is_integer=True, scale=3, min=10, max=10_000), search_center=60),\n",
    "    Param(name=\"n_episodes\", space=LogSpace(is_integer=True, min=5_000, max=10_000), search_center=8_000),\n",
    "    Param(name=\"update_batch_size\", space=LogSpace(is_integer=True, min=2, max=512), search_center=128),\n",
    "    Param(name=\"learning_rate\", space=LogSpace(scale=0.5), search_center=1e-4),\n",
    "    Param(name=\"epsilon_start\", space=LinearSpace(min=0.5, max=1.0), search_center=1.0),\n",
    "    Param(name=\"epsilon_end\", space=LinearSpace(min=0.0, max=0.5), search_center=0.1),\n",
    "    Param(name=\"epsilon_decay_percent\", space=LogitSpace(), search_center=0.9),\n",
    "]\n",
    "\n",
    "carbs_params = CARBSParams(\n",
    "    is_wandb_logging_enabled=False,\n",
    ")\n",
    "\n",
    "carbs = CARBS(carbs_params, param_spaces)\n",
    "\n",
    "best_return = -1.0\n",
    "best_time = 1e37\n",
    "best_suggestion = None\n",
    "pefects = 0\n",
    "\n",
    "for run in count(1):\n",
    "    suggestion = carbs.suggest().suggestion\n",
    "    \n",
    "    start_time = time.time()\n",
    "    net, mean_return, max_return, t = train(leave_bar=False, **suggestion)\n",
    "    elapsed_time = time.time() - start_time\n",
    "\n",
    "    if mean_return > best_return or (mean_return == best_return and elapsed_time < best_time):\n",
    "        best_return = mean_return\n",
    "        best_time = elapsed_time\n",
    "        best_suggestion = suggestion\n",
    "    \n",
    "    print(f\"Run {run:<3}   \", end=\"\")\n",
    "    print(f\"Time: {elapsed_time:6.2f}s\", end=\"\\t\")\n",
    "    \n",
    "    print(f\"Mean ret: {mean_return:6.2f}, \", end=\"\")\n",
    "    print(f\"Max ret: {max_return:6.2f}\", end=\"\\t\")\n",
    "    print(f\"\\tBest: {best_return:6.2f}, {best_time:6.2f}s\", end=\"\\t\\r\")\n",
    "    \n",
    "    obs_out = carbs.observe(ObservationInParam(input=suggestion, output=mean_return, cost=elapsed_time))\n",
    "\n",
    "    if mean_return >= 500.0:\n",
    "        perfects += 1\n",
    "        if perfects >= 10:\n",
    "            break"
   ]
  },
  {
   "cell_type": "raw",
   "id": "6d966926-d7fb-43bd-9983-54c847f41c3f",
   "metadata": {
    "jupyter": {
     "source_hidden": true
    }
   },
   "source": [
    "from pprint import pprint\n",
    "pprint(best_suggestion)"
   ]
  },
  {
   "cell_type": "raw",
   "id": "5a3019c5-73de-45ab-87f8-c10265bbbdf1",
   "metadata": {
    "jupyter": {
     "source_hidden": true
    }
   },
   "source": [
    "net, mean_last_100, max_last_100, t = train(**best_suggestion)\n",
    "mean_last_100, max_last_100, t"
   ]
  },
  {
   "cell_type": "code",
   "execution_count": 15,
   "id": "58ee1511-10f8-47e2-a8be-4933d045bedc",
   "metadata": {},
   "outputs": [
    {
     "name": "stderr",
     "output_type": "stream",
     "text": [
      "\u001b[34m\u001b[1mwandb\u001b[0m: Using wandb-core as the SDK backend.  Please refer to https://wandb.me/wandb-core for more information.\n",
      "\u001b[34m\u001b[1mwandb\u001b[0m: Currently logged in as: \u001b[33mfitti\u001b[0m. Use \u001b[1m`wandb login --relogin`\u001b[0m to force relogin\n"
     ]
    },
    {
     "data": {
      "text/html": [
       "Tracking run with wandb version 0.19.1"
      ],
      "text/plain": [
       "<IPython.core.display.HTML object>"
      ]
     },
     "metadata": {},
     "output_type": "display_data"
    },
    {
     "data": {
      "text/html": [
       "Run data is saved locally in <code>/home/fitti/projects/puffer/wandb/run-20250216_195638-o8oqlwuy</code>"
      ],
      "text/plain": [
       "<IPython.core.display.HTML object>"
      ]
     },
     "metadata": {},
     "output_type": "display_data"
    },
    {
     "data": {
      "text/html": [
       "Syncing run <strong><a href='https://wandb.ai/fitti/DQN-scratch-CartPole/runs/o8oqlwuy' target=\"_blank\">fanciful-dawn-27</a></strong> to <a href='https://wandb.ai/fitti/DQN-scratch-CartPole' target=\"_blank\">Weights & Biases</a> (<a href='https://wandb.me/developer-guide' target=\"_blank\">docs</a>)<br>"
      ],
      "text/plain": [
       "<IPython.core.display.HTML object>"
      ]
     },
     "metadata": {},
     "output_type": "display_data"
    },
    {
     "data": {
      "text/html": [
       " View project at <a href='https://wandb.ai/fitti/DQN-scratch-CartPole' target=\"_blank\">https://wandb.ai/fitti/DQN-scratch-CartPole</a>"
      ],
      "text/plain": [
       "<IPython.core.display.HTML object>"
      ]
     },
     "metadata": {},
     "output_type": "display_data"
    },
    {
     "data": {
      "text/html": [
       " View run at <a href='https://wandb.ai/fitti/DQN-scratch-CartPole/runs/o8oqlwuy' target=\"_blank\">https://wandb.ai/fitti/DQN-scratch-CartPole/runs/o8oqlwuy</a>"
      ],
      "text/plain": [
       "<IPython.core.display.HTML object>"
      ]
     },
     "metadata": {},
     "output_type": "display_data"
    },
    {
     "data": {
      "application/vnd.jupyter.widget-view+json": {
       "model_id": "c43f24fd8bf34cc09fd54c5eb7caa596",
       "version_major": 2,
       "version_minor": 0
      },
      "text/plain": [
       "Episodes:   0%|          | 0/8000 [00:00<?, ?it/s]"
      ]
     },
     "metadata": {},
     "output_type": "display_data"
    },
    {
     "name": "stdout",
     "output_type": "stream",
     "text": [
      "Training halted manually.\n"
     ]
    },
    {
     "data": {
      "text/plain": [
       "(368.57, 500.0)"
      ]
     },
     "execution_count": 15,
     "metadata": {},
     "output_type": "execute_result"
    }
   ],
   "source": [
    "n_input = vecenv.single_observation_space.shape[0]\n",
    "n_actions = vecenv.single_action_space.n\n",
    "n_hiddens = 16\n",
    "\n",
    "n_target_update_eps = 60\n",
    "n_episodes = 8_000\n",
    "update_batch_size = 256\n",
    "learning_rate = 1e-4\n",
    "epsilon_start = 0.9\n",
    "epsilon_end = 0.0\n",
    "epsilon_decay_percent = 0.8\n",
    "\n",
    "project = \"DQN-scratch-CartPole\"\n",
    "config = {\n",
    "    \"num_envs\": num_envs,\n",
    "    \"n_hiddens\": n_hiddens,\n",
    "    \"n_target_update_eps\": n_target_update_eps,\n",
    "    \"n_episodes\": n_episodes,\n",
    "    \"update_batch_size\": update_batch_size,\n",
    "    \"learning_rate\": learning_rate,\n",
    "    \"epsilon_start\": epsilon_start,\n",
    "    \"epsilon_end\": epsilon_end,\n",
    "    \"epsilon_decay_percent\": epsilon_decay_percent,\n",
    "}\n",
    "\n",
    "wandb.init(\n",
    "    project=project,\n",
    "    config=config,\n",
    ")\n",
    "    \n",
    "net, mean_return, max_return, t = train(\n",
    "    n_target_update_eps=n_target_update_eps,\n",
    "    n_episodes=n_episodes,\n",
    "    update_batch_size=update_batch_size,\n",
    "    learning_rate=learning_rate,\n",
    "    epsilon_start=epsilon_start,\n",
    "    epsilon_end=epsilon_end,\n",
    "    epsilon_decay_percent=epsilon_decay_percent,\n",
    ")\n",
    "\n",
    "mean_return, max_return"
   ]
  },
  {
   "cell_type": "code",
   "execution_count": 16,
   "id": "1744d8f2-80dc-41a3-9b77-1105a621735d",
   "metadata": {},
   "outputs": [
    {
     "name": "stdout",
     "output_type": "stream",
     "text": [
      "MoviePy - Building video /home/fitti/projects/puffer/videos/DQN_scratch_CartPole_20250216_200453/rl-video-episode-0.mp4.\n",
      "MoviePy - Writing video /home/fitti/projects/puffer/videos/DQN_scratch_CartPole_20250216_200453/rl-video-episode-0.mp4\n",
      "\n"
     ]
    },
    {
     "name": "stderr",
     "output_type": "stream",
     "text": [
      "\n",
      "\u001b[Ame_index:   0%|          | 0/289 [00:00<?, ?it/s, now=None]\n",
      "\u001b[Ame_index:  39%|███▉      | 113/289 [00:00<00:00, 1127.01it/s, now=None]\n",
      "\u001b[Ame_index:  88%|████████▊ | 255/289 [00:00<00:00, 1294.73it/s, now=None]\n",
      "\u001b[A                                                                       "
     ]
    },
    {
     "name": "stdout",
     "output_type": "stream",
     "text": [
      "MoviePy - Done !\n",
      "MoviePy - video ready /home/fitti/projects/puffer/videos/DQN_scratch_CartPole_20250216_200453/rl-video-episode-0.mp4\n",
      "289.0\n",
      "MoviePy - Building video /home/fitti/projects/puffer/videos/DQN_scratch_CartPole_20250216_200453/rl-video-episode-1.mp4.\n",
      "MoviePy - Writing video /home/fitti/projects/puffer/videos/DQN_scratch_CartPole_20250216_200453/rl-video-episode-1.mp4\n",
      "\n"
     ]
    },
    {
     "name": "stderr",
     "output_type": "stream",
     "text": [
      "\n",
      "\u001b[Ame_index:   0%|          | 0/374 [00:00<?, ?it/s, now=None]\n",
      "\u001b[Ame_index:  31%|███       | 115/374 [00:00<00:00, 1145.78it/s, now=None]\n",
      "\u001b[Ame_index:  68%|██████▊   | 253/374 [00:00<00:00, 1279.77it/s, now=None]\n",
      "\u001b[A                                                                       "
     ]
    },
    {
     "name": "stdout",
     "output_type": "stream",
     "text": [
      "MoviePy - Done !\n",
      "MoviePy - video ready /home/fitti/projects/puffer/videos/DQN_scratch_CartPole_20250216_200453/rl-video-episode-1.mp4\n",
      "374.0\n",
      "326.0\n",
      "279.0\n",
      "326.0\n",
      "330.0\n",
      "311.0\n",
      "295.0\n",
      "MoviePy - Building video /home/fitti/projects/puffer/videos/DQN_scratch_CartPole_20250216_200453/rl-video-episode-8.mp4.\n",
      "MoviePy - Writing video /home/fitti/projects/puffer/videos/DQN_scratch_CartPole_20250216_200453/rl-video-episode-8.mp4\n",
      "\n"
     ]
    },
    {
     "name": "stderr",
     "output_type": "stream",
     "text": [
      "\n",
      "\u001b[Ame_index:   0%|          | 0/327 [00:00<?, ?it/s, now=None]\n",
      "\u001b[Ame_index:  35%|███▌      | 115/327 [00:00<00:00, 1149.99it/s, now=None]\n",
      "\u001b[Ame_index:  78%|███████▊  | 255/327 [00:00<00:00, 1292.90it/s, now=None]\n",
      "\u001b[A                                                                       "
     ]
    },
    {
     "name": "stdout",
     "output_type": "stream",
     "text": [
      "MoviePy - Done !\n",
      "MoviePy - video ready /home/fitti/projects/puffer/videos/DQN_scratch_CartPole_20250216_200453/rl-video-episode-8.mp4\n",
      "327.0\n"
     ]
    },
    {
     "data": {
      "text/html": [],
      "text/plain": [
       "<IPython.core.display.HTML object>"
      ]
     },
     "metadata": {},
     "output_type": "display_data"
    },
    {
     "data": {
      "text/html": [
       "<br>    <style><br>        .wandb-row {<br>            display: flex;<br>            flex-direction: row;<br>            flex-wrap: wrap;<br>            justify-content: flex-start;<br>            width: 100%;<br>        }<br>        .wandb-col {<br>            display: flex;<br>            flex-direction: column;<br>            flex-basis: 100%;<br>            flex: 1;<br>            padding: 10px;<br>        }<br>    </style><br><div class=\"wandb-row\"><div class=\"wandb-col\"><h3>Run history:</h3><br/><table class=\"wandb\"><tr><td>avg_return</td><td>▁▁▁▁▁▁▁▁▁▁▁▂▂▂▂▂▁▁▂▂▄▁▃▃▂▄▂▃▂▅▅▃▅▅▆▆▇▆█▆</td></tr><tr><td>epsilon</td><td>███▇▇▇▇▇▇▆▆▆▆▆▆▆▅▅▅▅▅▅▅▅▄▄▄▄▄▄▄▄▃▃▃▃▂▂▂▁</td></tr><tr><td>loss</td><td>▁▁▁▃▂▂▄▂▂▂▃▄▂▅▅▅▃▂▅▃▄▃▃▃▇▅▅▅▂▅▇▅▂▇█▄▄▂▃▆</td></tr></table><br/></div><div class=\"wandb-col\"><h3>Run summary:</h3><br/><table class=\"wandb\"><tr><td>avg_return</td><td>348</td></tr><tr><td>epsilon</td><td>0.01955</td></tr><tr><td>loss</td><td>0.00293</td></tr></table><br/></div></div>"
      ],
      "text/plain": [
       "<IPython.core.display.HTML object>"
      ]
     },
     "metadata": {},
     "output_type": "display_data"
    },
    {
     "data": {
      "text/html": [
       " View run <strong style=\"color:#cdcd00\">fanciful-dawn-27</strong> at: <a href='https://wandb.ai/fitti/DQN-scratch-CartPole/runs/o8oqlwuy' target=\"_blank\">https://wandb.ai/fitti/DQN-scratch-CartPole/runs/o8oqlwuy</a><br> View project at: <a href='https://wandb.ai/fitti/DQN-scratch-CartPole' target=\"_blank\">https://wandb.ai/fitti/DQN-scratch-CartPole</a><br>Synced 5 W&B file(s), 0 media file(s), 0 artifact file(s) and 1 other file(s)"
      ],
      "text/plain": [
       "<IPython.core.display.HTML object>"
      ]
     },
     "metadata": {},
     "output_type": "display_data"
    },
    {
     "data": {
      "text/html": [
       "Find logs at: <code>./wandb/run-20250216_195638-o8oqlwuy/logs</code>"
      ],
      "text/plain": [
       "<IPython.core.display.HTML object>"
      ]
     },
     "metadata": {},
     "output_type": "display_data"
    }
   ],
   "source": [
    "import gymnasium as gym\n",
    "import numpy as np\n",
    "from datetime import datetime\n",
    "from pathlib import Path\n",
    "\n",
    "timestamp = datetime.now().strftime('%Y%m%d_%H%M%S')\n",
    "video_folder = f\"./videos/DQN_scratch_CartPole_{timestamp}\"\n",
    "\n",
    "env = gym.make(\"CartPole-v1\", render_mode=\"rgb_array\")\n",
    "env = gym.wrappers.RecordVideo(env, video_folder)\n",
    "\n",
    "epsilon = 0.0\n",
    "\n",
    "for _ in range(9):\n",
    "    ob, _ = env.reset()\n",
    "    ob = np.expand_dims(ob, 0)\n",
    "    ret = 0\n",
    "    done, truncated = False, False\n",
    "    while not (done or truncated):\n",
    "        with torch.no_grad():\n",
    "            q_values = net(ob)\n",
    "        actions = select_actions(q_values, epsilon)\n",
    "        ob, reward, done, truncated, _ = env.step(actions[0])\n",
    "        ob = np.expand_dims(ob, 0)\n",
    "        ret += reward\n",
    "    \n",
    "    print(ret)\n",
    "\n",
    "if wandb.run is not None:\n",
    "    latest_video = max(\n",
    "        Path(video_folder).glob(\"*.mp4\"),\n",
    "        key=lambda x: x.stat().st_mtime\n",
    "    )\n",
    "    wandb.log({\n",
    "        \"video\": wandb.Video(str(latest_video))\n",
    "    })\n",
    "    wandb.finish()\n",
    "    \n",
    "env.close()"
   ]
  }
 ],
 "metadata": {
  "kernelspec": {
   "display_name": "Python 3 (ipykernel)",
   "language": "python",
   "name": "python3"
  },
  "language_info": {
   "codemirror_mode": {
    "name": "ipython",
    "version": 3
   },
   "file_extension": ".py",
   "mimetype": "text/x-python",
   "name": "python",
   "nbconvert_exporter": "python",
   "pygments_lexer": "ipython3",
   "version": "3.11.11"
  }
 },
 "nbformat": 4,
 "nbformat_minor": 5
}
