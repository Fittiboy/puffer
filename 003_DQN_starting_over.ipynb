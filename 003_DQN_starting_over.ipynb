{
 "cells": [
  {
   "cell_type": "code",
   "execution_count": 1,
   "id": "fd9339b7-5f15-4349-b4a8-73bb2b27e0d4",
   "metadata": {},
   "outputs": [],
   "source": [
    "import numpy as np\n",
    "import pufferlib, pufferlib.vector\n",
    "from pufferlib.environments import classic_control"
   ]
  },
  {
   "cell_type": "code",
   "execution_count": 2,
   "id": "404c2cde-21cd-4eb5-af67-b1e213499852",
   "metadata": {},
   "outputs": [],
   "source": [
    "num_envs = 12"
   ]
  },
  {
   "cell_type": "code",
   "execution_count": 3,
   "id": "f92823ba-6ae0-4de7-8d77-704e62476f35",
   "metadata": {},
   "outputs": [],
   "source": [
    "vecenv = pufferlib.vector.make(\n",
    "    classic_control.env_creator(\"CartPole-v1\"),\n",
    "    num_envs=num_envs,\n",
    "    backend=pufferlib.vector.Multiprocessing,\n",
    ")"
   ]
  },
  {
   "cell_type": "code",
   "execution_count": 7,
   "id": "bbf3a594-1e0c-48d4-aca0-a751953057d6",
   "metadata": {},
   "outputs": [
    {
     "data": {
      "text/plain": [
       "(22.759, 1987)"
      ]
     },
     "execution_count": 7,
     "metadata": {},
     "output_type": "execute_result"
    }
   ],
   "source": [
    "env_rewards = [list() for _ in range(num_envs)]\n",
    "env_rewards\n",
    "\n",
    "returns = []\n",
    "\n",
    "from itertools import count\n",
    "\n",
    "dones = np.array([False] * num_envs)\n",
    "truncateds = np.array([False] * num_envs)\n",
    "dones, truncateds\n",
    "\n",
    "obs, _ = vecenv.reset()\n",
    "episodes = 0\n",
    "for t in count():\n",
    "    obs, rewards, dones, truncateds, _ = vecenv.step(vecenv.action_space.sample())\n",
    "    for i, reward in enumerate(rewards):\n",
    "        env_rewards[i].append(reward)\n",
    "    for i in np.where(dones | truncateds)[0]:\n",
    "        returns.append(sum(env_rewards[i]))\n",
    "        env_rewards[i] = []\n",
    "        episodes += 1\n",
    "    if episodes >= 1_000:\n",
    "        break\n",
    "\n",
    "np.mean([np.sum(rets) for rets in returns]), t"
   ]
  },
  {
   "cell_type": "code",
   "execution_count": 8,
   "id": "beae8073-5836-4fdc-aadb-07bdf55023be",
   "metadata": {},
   "outputs": [],
   "source": [
    "import torch\n",
    "from torch import nn"
   ]
  },
  {
   "cell_type": "code",
   "execution_count": 9,
   "id": "f8a70469-b3f6-4b3f-a431-1203c5b6aef9",
   "metadata": {},
   "outputs": [],
   "source": [
    "class QNetwork(nn.Module):\n",
    "    def __init__(self, n_input, n_hiddens, n_actions):\n",
    "        super().__init__()\n",
    "        self.mlp = nn.Sequential(\n",
    "            nn.Linear(n_input, n_hiddens),\n",
    "            nn.ReLU(),\n",
    "            nn.Linear(n_hiddens, n_actions),\n",
    "        )\n",
    "\n",
    "    def forward(self, x):\n",
    "        device = next(self.mlp.parameters()).device\n",
    "        x = torch.tensor(np.array(x), dtype=torch.float32, device=device)\n",
    "        \n",
    "        return self.mlp(x)"
   ]
  },
  {
   "cell_type": "code",
   "execution_count": 13,
   "id": "3c4d6034-ce52-45d4-b9fd-7d28fab31574",
   "metadata": {},
   "outputs": [],
   "source": [
    "import random"
   ]
  },
  {
   "cell_type": "code",
   "execution_count": 14,
   "id": "b12c0c99-c683-4505-9a65-c3816f0a3d87",
   "metadata": {},
   "outputs": [],
   "source": [
    "def select_actions(q_values, epsilon):\n",
    "    batch_size, n_actions = q_values.shape\n",
    "    if random.random() < epsilon:\n",
    "        return np.random.choice(range(n_actions), batch_size)\n",
    "    return np.array(q_values.argmax(dim=-1).cpu())"
   ]
  },
  {
   "cell_type": "code",
   "execution_count": 16,
   "id": "adf893ca-68c2-4f7f-9bc4-523996916f42",
   "metadata": {},
   "outputs": [],
   "source": [
    "from collections import deque"
   ]
  },
  {
   "cell_type": "code",
   "execution_count": 17,
   "id": "2e208182-c144-44c0-927a-fdd0dac4331b",
   "metadata": {},
   "outputs": [],
   "source": [
    "class ReplayBuffer:\n",
    "    def __init__(self, capacity: int):\n",
    "        self.capacity = capacity\n",
    "        self.queue = deque(maxlen=capacity)\n",
    "\n",
    "    def store(self, transition):\n",
    "        self.queue.append(transition)\n",
    "\n",
    "    def extend(self, transitions):\n",
    "        for transition in transitions:\n",
    "            self.store(transition)\n",
    "\n",
    "    def sample(self, n_samples: int):\n",
    "        return [random.choice(self.queue) for _ in range(n_samples)]\n",
    "\n",
    "    def __len__(self):\n",
    "        return len(self.queue)\n",
    "\n",
    "    def __repr__(self):\n",
    "        return self.queue.__repr__()"
   ]
  },
  {
   "cell_type": "code",
   "execution_count": 18,
   "id": "bf979014-3a61-4539-9ba3-982976e1192a",
   "metadata": {},
   "outputs": [],
   "source": [
    "device = torch.device(\"cuda\" if torch.cuda.is_available() else \"cpu\")"
   ]
  },
  {
   "cell_type": "code",
   "execution_count": 19,
   "id": "34e38240-4acc-418b-89f3-771065bb0326",
   "metadata": {},
   "outputs": [],
   "source": [
    "from torch import optim\n",
    "\n",
    "from itertools import count\n",
    "from tqdm.auto import tqdm"
   ]
  },
  {
   "cell_type": "code",
   "execution_count": 20,
   "id": "59c88949-607b-4710-b806-796a5654e963",
   "metadata": {},
   "outputs": [],
   "source": [
    "def train(\n",
    "    n_target_update_eps = 60,\n",
    "    n_episodes = 8_000,\n",
    "    update_batch_size = 128,\n",
    "    learning_rate = 1e-4,\n",
    "    epsilon_start = 1.0,\n",
    "    epsilon_end = 0.0,\n",
    "    epsilon_decay_percent = 0.9,\n",
    "):\n",
    "    net = QNetwork(n_input, n_hiddens, n_actions).to(device)\n",
    "    target_net = QNetwork(n_input, n_hiddens, n_actions).to(device)\n",
    "    target_net.load_state_dict(net.state_dict())\n",
    "    target_net.eval()\n",
    "    \n",
    "    env_rewards = [list() for _ in range(num_envs)]\n",
    "    env_rewards\n",
    "    returns = []\n",
    "    \n",
    "    gamma = 1.0\n",
    "    buffer_size = 100_000\n",
    "    epsilon_decay = epsilon_decay_percent * n_episodes\n",
    "    epsilon_decay_rate = (epsilon_start - epsilon_end) / epsilon_decay\n",
    "    epsilon = epsilon_start\n",
    "    \n",
    "    optimizer = optim.Adam(net.parameters(), lr=learning_rate)\n",
    "    loss_fn = nn.SmoothL1Loss()\n",
    "    buffer = ReplayBuffer(capacity=buffer_size)\n",
    "    \n",
    "    obs, _ = vecenv.reset()\n",
    "    obs = obs.copy()\n",
    "    episodes = 0\n",
    "    bar = tqdm(\n",
    "        desc=\"Episodes\",\n",
    "        total=n_episodes,\n",
    "        initial=0,\n",
    "    )\n",
    "    \n",
    "    debug = False\n",
    "    debug_seen = False\n",
    "    \n",
    "    for t in count():\n",
    "        with torch.no_grad():\n",
    "            q_values = net(obs)\n",
    "            actions = select_actions(q_values, epsilon)\n",
    "    \n",
    "        if debug and debug_seen:\n",
    "            print(\"Ob seen:\\t\", obs[0])\n",
    "            print(\"Action taken:\\t\", actions[0])\n",
    "        \n",
    "        next_obs, rewards, dones, truncateds, _ = vecenv.step(actions)\n",
    "    \n",
    "        if debug and debug_seen:\n",
    "            print(\"Ob seen:\\t\", obs[0])\n",
    "        buffer.extend(zip(obs.copy(), actions.copy(), rewards.copy(), next_obs.copy(), (dones | truncateds).copy()))\n",
    "        obs = next_obs.copy()\n",
    "    \n",
    "        for i, reward in enumerate(rewards):\n",
    "            env_rewards[i].append(reward)\n",
    "    \n",
    "        if len(buffer) >= update_batch_size:\n",
    "            obs_s, actions_s, rewards_s, next_obs_s, dones_s = zip(*buffer.sample(update_batch_size))\n",
    "            if debug:\n",
    "                print(\"\\nOb:\\t\\t\", obs_s[0])\n",
    "                print(\"Action:\\t\", actions_s[0])\n",
    "                print(\"Reward:\\t\", rewards_s[0])\n",
    "                print(\"Next ob:\\t\", next_obs_s[0])\n",
    "                print(\"Done:\\t\\t\", dones_s[0])\n",
    "        \n",
    "                print(\"\\nBuffer length:\", len(buffer))\n",
    "                print(\"\\nBuffer items:\", buffer.queue[0])\n",
    "    \n",
    "            actions_t = torch.tensor(actions_s, device=device).unsqueeze(1)\n",
    "            q_values_t = net(obs_s).gather(1, actions_t).squeeze(1)\n",
    "            rewards_t = torch.tensor(rewards_s, device=device) / 500.\n",
    "            dones_t = torch.tensor(dones_s, device=device)\n",
    "            with torch.no_grad():\n",
    "                target_q_values_t = target_net(next_obs_s).max(dim=1).values\n",
    "    \n",
    "            target = rewards_t + gamma * ~dones_t * target_q_values_t\n",
    "            loss = loss_fn(target, q_values_t)\n",
    "    \n",
    "            if debug:\n",
    "                print(\"Actions T:\\t\", actions_t[0])\n",
    "                print(\"Qs T:\\t\\t\", q_values_t[0])\n",
    "                print(\"Target Qs:\\t\", target_q_values_t[0])\n",
    "                print(\"TD Target:\\t\", target[0])\n",
    "                with torch.no_grad():\n",
    "                    td_error = target - q_values_t\n",
    "                print(\"TD Error:\\t\", td_error[0])\n",
    "    \n",
    "    \n",
    "            optimizer.zero_grad()\n",
    "            loss.backward()\n",
    "            optimizer.step()\n",
    "    \n",
    "            if debug:\n",
    "                with torch.no_grad():\n",
    "                    q_values_t = net(obs_s).gather(1, actions_t).squeeze(1)\n",
    "                    target_q_values_t = target_net(next_obs_s).max(dim=1).values\n",
    "                    target = rewards_t + gamma * ~dones_t * target_q_values_t\n",
    "                    td_error = target - q_values_t\n",
    "                    \n",
    "                print(\"Actions T:\\t\", actions_t[0])\n",
    "                print(\"Qs T:\\t\\t\", q_values_t[0])\n",
    "                print(\"TD Target:\\t\", target[0])\n",
    "                print(\"Target Qs:\\t\", target_q_values_t[0])\n",
    "                print(\"TD Error:\\t\", td_error[0])\n",
    "        \n",
    "                break\n",
    "            \n",
    "        for i in np.where(dones | truncateds)[0]:\n",
    "            returns.append(sum(env_rewards[i]))\n",
    "            env_rewards[i] = []\n",
    "            episodes += 1\n",
    "            if epsilon >= epsilon_end:\n",
    "                epsilon -= epsilon_decay_rate\n",
    "            bar.update()\n",
    "            \n",
    "        if episodes >= n_episodes:\n",
    "            bar.close()\n",
    "            #debug = True\n",
    "    \n",
    "        if episodes % n_target_update_eps == 0:\n",
    "            target_net.load_state_dict(net.state_dict())\n",
    "    \n",
    "    mean_last_100 = np.mean([np.sum(rets) for rets in returns[-100:]])\n",
    "    max_last_100 = np.max([np.sum(rets) for rets in returns[-100:]])\n",
    "    return net, mean_last_100, max_last_100"
   ]
  },
  {
   "cell_type": "code",
   "execution_count": 35,
   "id": "0f1a3add-5193-4da5-aa9d-e3d0787113ed",
   "metadata": {},
   "outputs": [
    {
     "ename": "ImportError",
     "evalue": "cannot import name 'CARBS' from 'carbs' (unknown location)",
     "output_type": "error",
     "traceback": [
      "\u001b[0;31m---------------------------------------------------------------------------\u001b[0m",
      "\u001b[0;31mImportError\u001b[0m                               Traceback (most recent call last)",
      "Cell \u001b[0;32mIn[35], line 1\u001b[0m\n\u001b[0;32m----> 1\u001b[0m \u001b[38;5;28;01mfrom\u001b[39;00m\u001b[38;5;250m \u001b[39m\u001b[38;5;21;01mcarbs\u001b[39;00m\u001b[38;5;250m \u001b[39m\u001b[38;5;28;01mimport\u001b[39;00m CARBS\n\u001b[1;32m      2\u001b[0m \u001b[38;5;28;01mfrom\u001b[39;00m\u001b[38;5;250m \u001b[39m\u001b[38;5;21;01mcarbs\u001b[39;00m\u001b[38;5;250m \u001b[39m\u001b[38;5;28;01mimport\u001b[39;00m CARBSParams\n\u001b[1;32m      3\u001b[0m \u001b[38;5;28;01mfrom\u001b[39;00m\u001b[38;5;250m \u001b[39m\u001b[38;5;21;01mcarbs\u001b[39;00m\u001b[38;5;250m \u001b[39m\u001b[38;5;28;01mimport\u001b[39;00m LogSpace\n",
      "\u001b[0;31mImportError\u001b[0m: cannot import name 'CARBS' from 'carbs' (unknown location)"
     ]
    }
   ],
   "source": [
    "from carbs import CARBS\n",
    "from carbs import CARBSParams\n",
    "from carbs import LogSpace\n",
    "from carbs import LogitSpace\n",
    "from carbs import ObservationInParam\n",
    "from carbs import ParamDictType\n",
    "from carbs import Param"
   ]
  },
  {
   "cell_type": "code",
   "execution_count": 25,
   "id": "a7d29395-d22d-447e-aba4-6f3ae2976f5a",
   "metadata": {},
   "outputs": [
    {
     "data": {
      "application/vnd.jupyter.widget-view+json": {
       "model_id": "db03992549414ef9922464314a0a110f",
       "version_major": 2,
       "version_minor": 0
      },
      "text/plain": [
       "Episodes:   0%|          | 0/8000 [00:00<?, ?it/s]"
      ]
     },
     "metadata": {},
     "output_type": "display_data"
    },
    {
     "name": "stdout",
     "output_type": "stream",
     "text": [
      "\n",
      "Ob:\t\t [0.64082915 1.         0.12894282 0.19858733]\n",
      "Action:\t 1\n",
      "Reward:\t 1.0\n",
      "Next ob:\t [ 0.6629998   1.          0.13291457 -0.05080111]\n",
      "Done:\t\t False\n",
      "\n",
      "Buffer length: 100000\n",
      "\n",
      "Buffer items: (array([0.44415563, 0.73636013, 0.10414605, 0.32727414], dtype=float32), 1, 1.0, array([0.45888284, 0.9298571 , 0.11069153, 0.06916493], dtype=float32), False)\n",
      "Actions T:\t tensor([1], device='cuda:0')\n",
      "Qs T:\t\t tensor(0.4918, device='cuda:0', grad_fn=<SelectBackward0>)\n",
      "Target Qs:\t tensor(0.4954, device='cuda:0')\n",
      "TD Target:\t tensor(0.4974, device='cuda:0')\n",
      "TD Error:\t tensor(0.0056, device='cuda:0')\n",
      "Actions T:\t tensor([1], device='cuda:0')\n",
      "Qs T:\t\t tensor(0.4920, device='cuda:0')\n",
      "TD Target:\t tensor(0.4974, device='cuda:0')\n",
      "Target Qs:\t tensor(0.4954, device='cuda:0')\n",
      "TD Error:\t tensor(0.0054, device='cuda:0')\n"
     ]
    },
    {
     "data": {
      "text/plain": [
       "(110.59, 136.0)"
      ]
     },
     "execution_count": 25,
     "metadata": {},
     "output_type": "execute_result"
    }
   ],
   "source": [
    "n_target_update_eps = 60\n",
    "n_episodes = 600\n",
    "update_batch_size = 128\n",
    "learning_rate = 1e-4\n",
    "epsilon_start = 1.0\n",
    "epsilon_end = 0.05\n",
    "epsilon_decay_percent = 0.8\n",
    "\n",
    "\n",
    "\n",
    "net, mean_last_100, max_last_100 = train(\n",
    "    n_target_update_eps = n_target_update_eps,\n",
    "    n_episodes = n_episodes,\n",
    "    update_batch_size = update_batch_size,\n",
    "    learning_rate = learning_rate,\n",
    "    epsilon_start = epsilon_start,\n",
    "    epsilon_end = epsilon_end,\n",
    "    epsilon_decay_percent = epsilon_decay_percent,\n",
    ")\n",
    "mean_last_100, max_last_100"
   ]
  },
  {
   "cell_type": "code",
   "execution_count": 26,
   "id": "1744d8f2-80dc-41a3-9b77-1105a621735d",
   "metadata": {},
   "outputs": [
    {
     "name": "stdout",
     "output_type": "stream",
     "text": [
      "MoviePy - Building video /home/fitti/projects/puffer/videos/DQN_scratch_CartPole_20250216_111825/rl-video-episode-0.mp4.\n",
      "MoviePy - Writing video /home/fitti/projects/puffer/videos/DQN_scratch_CartPole_20250216_111825/rl-video-episode-0.mp4\n",
      "\n"
     ]
    },
    {
     "name": "stderr",
     "output_type": "stream",
     "text": [
      "                                                                        "
     ]
    },
    {
     "name": "stdout",
     "output_type": "stream",
     "text": [
      "MoviePy - Done !\n",
      "MoviePy - video ready /home/fitti/projects/puffer/videos/DQN_scratch_CartPole_20250216_111825/rl-video-episode-0.mp4\n",
      "107.0\n"
     ]
    },
    {
     "name": "stderr",
     "output_type": "stream",
     "text": []
    },
    {
     "name": "stdout",
     "output_type": "stream",
     "text": [
      "MoviePy - Building video /home/fitti/projects/puffer/videos/DQN_scratch_CartPole_20250216_111825/rl-video-episode-1.mp4.\n",
      "MoviePy - Writing video /home/fitti/projects/puffer/videos/DQN_scratch_CartPole_20250216_111825/rl-video-episode-1.mp4\n",
      "\n"
     ]
    },
    {
     "name": "stderr",
     "output_type": "stream",
     "text": [
      "                                                                          "
     ]
    },
    {
     "name": "stdout",
     "output_type": "stream",
     "text": [
      "MoviePy - Done !\n",
      "MoviePy - video ready /home/fitti/projects/puffer/videos/DQN_scratch_CartPole_20250216_111825/rl-video-episode-1.mp4\n",
      "107.0\n",
      "112.0\n",
      "107.0\n",
      "114.0\n",
      "109.0\n",
      "105.0\n"
     ]
    },
    {
     "name": "stderr",
     "output_type": "stream",
     "text": []
    },
    {
     "name": "stdout",
     "output_type": "stream",
     "text": [
      "109.0\n",
      "MoviePy - Building video /home/fitti/projects/puffer/videos/DQN_scratch_CartPole_20250216_111825/rl-video-episode-8.mp4.\n",
      "MoviePy - Writing video /home/fitti/projects/puffer/videos/DQN_scratch_CartPole_20250216_111825/rl-video-episode-8.mp4\n",
      "\n"
     ]
    },
    {
     "name": "stderr",
     "output_type": "stream",
     "text": [
      "                                                              "
     ]
    },
    {
     "name": "stdout",
     "output_type": "stream",
     "text": [
      "MoviePy - Done !\n",
      "MoviePy - video ready /home/fitti/projects/puffer/videos/DQN_scratch_CartPole_20250216_111825/rl-video-episode-8.mp4\n",
      "102.0\n"
     ]
    },
    {
     "name": "stderr",
     "output_type": "stream",
     "text": []
    }
   ],
   "source": [
    "import gymnasium as gym\n",
    "import numpy as np\n",
    "from datetime import datetime\n",
    "\n",
    "timestamp = datetime.now().strftime('%Y%m%d_%H%M%S')\n",
    "video_folder = f\"./videos/DQN_scratch_CartPole_{timestamp}\"\n",
    "\n",
    "env = gym.make(\"CartPole-v1\", render_mode=\"rgb_array\")\n",
    "env = gym.wrappers.RecordVideo(env, video_folder)\n",
    "\n",
    "epsilon = epsilon_end\n",
    "\n",
    "for _ in range(9):\n",
    "    ob, _ = env.reset()\n",
    "    ob = np.expand_dims(ob, 0)\n",
    "    ret = 0\n",
    "    done, truncated = False, False\n",
    "    while not (done or truncated):\n",
    "        with torch.no_grad():\n",
    "            q_values = net(ob)\n",
    "        actions = select_actions(q_values, epsilon)\n",
    "        ob, reward, done, truncated, _ = env.step(actions[0])\n",
    "        ob = np.expand_dims(ob, 0)\n",
    "        ret += reward\n",
    "    \n",
    "    print(ret)\n",
    "\n",
    "env.close()"
   ]
  }
 ],
 "metadata": {
  "kernelspec": {
   "display_name": "Python 3 (ipykernel)",
   "language": "python",
   "name": "python3"
  },
  "language_info": {
   "codemirror_mode": {
    "name": "ipython",
    "version": 3
   },
   "file_extension": ".py",
   "mimetype": "text/x-python",
   "name": "python",
   "nbconvert_exporter": "python",
   "pygments_lexer": "ipython3",
   "version": "3.11.11"
  }
 },
 "nbformat": 4,
 "nbformat_minor": 5
}
