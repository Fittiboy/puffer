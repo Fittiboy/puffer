{
 "cells": [
  {
   "cell_type": "markdown",
   "id": "e6ba064d-649d-41e6-b1c7-5b00bdb26157",
   "metadata": {},
   "source": [
    "# PufferLib Docs"
   ]
  },
  {
   "cell_type": "code",
   "execution_count": 1,
   "id": "ee3eb606-ab1c-4d6f-a7f8-98ea739a40f0",
   "metadata": {},
   "outputs": [],
   "source": [
    "from pufferlib.environments import atari\n",
    "env_creator = atari.env_creator('breakout')"
   ]
  },
  {
   "cell_type": "code",
   "execution_count": 2,
   "id": "8b9ccc7a-9319-49b1-a58f-efdbcf939b39",
   "metadata": {},
   "outputs": [
    {
     "name": "stderr",
     "output_type": "stream",
     "text": [
      "A.L.E: Arcade Learning Environment (version 0.9.0+750d7f9)\n",
      "[Powered by Stella]\n"
     ]
    }
   ],
   "source": [
    "import pufferlib.vector\n",
    "vecenv = pufferlib.vector.make(\n",
    "    env_creator, # A callable (class or function) that returns an env\n",
    "    env_args = None, # A list of arguments to pass to each environment\n",
    "    env_kwargs = None, # A list of dictionary keyword arguments to pass to each environment\n",
    "    backend = pufferlib.vector.Serial, # pufferlib.vector.[Serial|Multiprocessing|Native|Ray]\n",
    "    num_envs = 1, # The total number of environments to create\n",
    ")"
   ]
  },
  {
   "cell_type": "markdown",
   "id": "b76f13f8-5d17-4ceb-9882-049728797d75",
   "metadata": {},
   "source": [
    "Make 4 copies of Breakout on the current process"
   ]
  },
  {
   "cell_type": "code",
   "execution_count": 3,
   "id": "b863974a-2c48-41df-a0e1-a4ce602fe0e3",
   "metadata": {},
   "outputs": [],
   "source": [
    "vecenv = pufferlib.vector.make(env_creator, num_envs=4,\n",
    "    backend=pufferlib.vector.Serial)"
   ]
  },
  {
   "cell_type": "markdown",
   "id": "9be79225-299e-4433-a645-b058cfa87a60",
   "metadata": {},
   "source": [
    "Make 4 copies of Breakout, each on a separate process"
   ]
  },
  {
   "cell_type": "code",
   "execution_count": 4,
   "id": "1f7708f4-e080-4e88-87d5-7020ea9bba86",
   "metadata": {},
   "outputs": [],
   "source": [
    "vecenv = pufferlib.vector.make(env_creator, num_envs=4,\n",
    "    backend=pufferlib.vector.Multiprocessing)"
   ]
  },
  {
   "cell_type": "markdown",
   "id": "d5456e2f-7d29-411e-9211-583f4732b2c6",
   "metadata": {},
   "source": [
    "Make 4 copies of Breakout, 2 on each of 2 processes"
   ]
  },
  {
   "cell_type": "code",
   "execution_count": 5,
   "id": "811808c2-e07b-4dd2-a9ec-4932684302c1",
   "metadata": {},
   "outputs": [],
   "source": [
    "vecenv = pufferlib.vector.make(env_creator, num_envs=4,\n",
    "    backend=pufferlib.vector.Multiprocessing, num_workers=2)"
   ]
  },
  {
   "cell_type": "markdown",
   "id": "c9703e84-a8a9-4aad-8622-841128a76e23",
   "metadata": {},
   "source": [
    "Make 4 copies of Breakout, 2 on each of 2 processes,\n",
    "but only get two observations per step"
   ]
  },
  {
   "cell_type": "code",
   "execution_count": 6,
   "id": "0d4765db-7feb-4a0a-97b4-c1c78610dbec",
   "metadata": {},
   "outputs": [],
   "source": [
    "vecenv = pufferlib.vector.make(env_creator, num_envs=4,\n",
    "    backend=pufferlib.vector.Multiprocessing, num_workers=2,\n",
    "    batch_size=2)"
   ]
  },
  {
   "cell_type": "markdown",
   "id": "611ac138-18c8-4dfd-bbb3-83a3c8555c97",
   "metadata": {},
   "source": [
    "Make 1024 instances of Ocean breakout on the current process"
   ]
  },
  {
   "cell_type": "code",
   "execution_count": 7,
   "id": "2bbffd5a-3306-473c-aeff-01cacebaa10d",
   "metadata": {},
   "outputs": [],
   "source": [
    "from pufferlib.ocean import Breakout\n",
    "vecenv = pufferlib.vector.make(Breakout,\n",
    "    backend=pufferlib.vector.Serial,\n",
    "    env_kwargs={'num_envs': 1024},\n",
    ")"
   ]
  },
  {
   "cell_type": "markdown",
   "id": "ac64e88c-9cc8-43ad-bb33-76884eb938f3",
   "metadata": {},
   "source": [
    "Notice that Native envs handle multiple instances internally.\n",
    "You can still multiprocess/async, but don't make multiple external\n",
    "copies per process."
   ]
  },
  {
   "cell_type": "code",
   "execution_count": 8,
   "id": "e0ee4a5a-332f-4d06-a430-c6ce50a131ca",
   "metadata": {},
   "outputs": [
    {
     "name": "stderr",
     "output_type": "stream",
     "text": [
      "Process Process-10:\n",
      "Traceback (most recent call last):\n",
      "  File \"/home/fitti/.conda/envs/puffer/lib/python3.11/site-packages/pufferlib/ocean/breakout/breakout.py\", line 44, in step\n",
      "    if self.tick % self.report_interval == 0:\n",
      "       ^^^^^^^^^\n",
      "  File \"/home/fitti/.conda/envs/puffer/lib/python3.11/multiprocessing/process.py\", line 314, in _bootstrap\n",
      "    self.run()\n",
      "  File \"/home/fitti/.conda/envs/puffer/lib/python3.11/multiprocessing/process.py\", line 108, in run\n",
      "    self._target(*self._args, **self._kwargs)\n",
      "  File \"/home/fitti/.conda/envs/puffer/lib/python3.11/site-packages/pufferlib/vector.py\", line 185, in _worker_process\n",
      "    _, _, _, _, infos = envs.step(atn_arr)\n",
      "                        ^^^^^^^^^^^^^^^^^^\n",
      "AttributeError: 'Breakout' object has no attribute 'tick'\n",
      "Process Process-9:\n",
      "  File \"/home/fitti/.conda/envs/puffer/lib/python3.11/site-packages/pufferlib/vector.py\", line 185, in _worker_process\n",
      "    _, _, _, _, infos = envs.step(atn_arr)\n",
      "                        ^^^^^^^^^^^^^^^^^^\n",
      "Traceback (most recent call last):\n",
      "  File \"/home/fitti/.conda/envs/puffer/lib/python3.11/multiprocessing/process.py\", line 314, in _bootstrap\n",
      "    self.run()\n",
      "  File \"/home/fitti/.conda/envs/puffer/lib/python3.11/multiprocessing/process.py\", line 108, in run\n",
      "    self._target(*self._args, **self._kwargs)\n",
      "  File \"/home/fitti/.conda/envs/puffer/lib/python3.11/site-packages/pufferlib/ocean/breakout/breakout.py\", line 44, in step\n",
      "    if self.tick % self.report_interval == 0:\n",
      "       ^^^^^^^^^\n",
      "AttributeError: 'Breakout' object has no attribute 'tick'\n"
     ]
    }
   ],
   "source": [
    "vecenv = pufferlib.vector.make(Breakout, num_envs=2,\n",
    "    backend=pufferlib.vector.Multiprocessing, batch_size=1)"
   ]
  },
  {
   "cell_type": "markdown",
   "id": "2849d52f-c16a-4372-a0f9-5a0b2e0c7df6",
   "metadata": {},
   "source": [
    "## FPS Comparison — Synchronous API vs. Async API"
   ]
  },
  {
   "cell_type": "markdown",
   "id": "8335d315-6ed2-40fa-a1c3-ffd27b3ee92f",
   "metadata": {},
   "source": [
    "### Synchronous API - reset/step"
   ]
  },
  {
   "cell_type": "code",
   "execution_count": 9,
   "id": "9bf8bc76-7f2e-4f1c-aa71-393bfdeba306",
   "metadata": {},
   "outputs": [
    {
     "name": "stdout",
     "output_type": "stream",
     "text": [
      "Puffer FPS: 212672.00\n"
     ]
    }
   ],
   "source": [
    "import time\n",
    "vecenv = pufferlib.vector.make(Breakout, num_envs=2,\n",
    "    backend=pufferlib.vector.Multiprocessing)\n",
    "vecenv.reset()\n",
    "start, steps, TIMEOUT = time.time(), 0, 3\n",
    "while time.time() - start < TIMEOUT:\n",
    "    vecenv.step(vecenv.action_space.sample())\n",
    "    steps += 1\n",
    "\n",
    "vecenv.close()\n",
    "print('Puffer FPS: {:.2f}'.format(steps*vecenv.num_envs/TIMEOUT))"
   ]
  },
  {
   "cell_type": "markdown",
   "id": "12e5e1f5-49c8-4291-b113-2898cc2dc990",
   "metadata": {},
   "source": [
    "### Async API - async_reset, send/recv"
   ]
  },
  {
   "cell_type": "markdown",
   "id": "2762cfe2-56e3-490a-9f41-8f19a5d6099a",
   "metadata": {},
   "source": [
    "Call your model between recv() and send()"
   ]
  },
  {
   "cell_type": "code",
   "execution_count": 10,
   "id": "4709abcd-7297-4b1a-9209-7c3ab3f11818",
   "metadata": {},
   "outputs": [
    {
     "name": "stdout",
     "output_type": "stream",
     "text": [
      "Puffer Async FPS: 215312.67\n"
     ]
    }
   ],
   "source": [
    "vecenv = pufferlib.vector.make(Breakout, num_envs=2,\n",
    "    backend=pufferlib.vector.Multiprocessing, batch_size=1)\n",
    "vecenv.async_reset()\n",
    "start, steps, TIMEOUT = time.time(), 0, 3\n",
    "while time.time() - start < TIMEOUT:\n",
    "    vecenv.recv()\n",
    "    vecenv.send(vecenv.action_space.sample())\n",
    "    steps += 1\n",
    "\n",
    "vecenv.close()\n",
    "print('Puffer Async FPS: {:.2f}'.format(steps*vecenv.num_envs/TIMEOUT))"
   ]
  },
  {
   "cell_type": "markdown",
   "id": "d590b770-94d8-4a10-ad2c-5498e426acb7",
   "metadata": {},
   "source": [
    "## My own experimentation"
   ]
  },
  {
   "cell_type": "markdown",
   "id": "3e2da1ea-05aa-4e64-acc1-340db6989a51",
   "metadata": {},
   "source": [
    "### Breakout"
   ]
  },
  {
   "cell_type": "code",
   "execution_count": 11,
   "id": "9f8ec5d1-01ab-4d2e-a99f-d7a17bc8c41a",
   "metadata": {},
   "outputs": [],
   "source": [
    "vecenv = pufferlib.vector.make(env_creator, num_envs=4,\n",
    "    backend=pufferlib.vector.Multiprocessing)"
   ]
  },
  {
   "cell_type": "code",
   "execution_count": 12,
   "id": "79f31345-3f46-4a7e-83d0-46af7c09b448",
   "metadata": {},
   "outputs": [
    {
     "name": "stdout",
     "output_type": "stream",
     "text": [
      "<class 'numpy.ndarray'>\n",
      "<class 'list'>\n"
     ]
    }
   ],
   "source": [
    "reset_return = vecenv.reset()\n",
    "for thing in reset_return:\n",
    "    print(type(thing))"
   ]
  },
  {
   "cell_type": "code",
   "execution_count": 13,
   "id": "ba69547b-f2c5-4baa-851c-2865d242f852",
   "metadata": {},
   "outputs": [],
   "source": [
    "first, second = reset_return"
   ]
  },
  {
   "cell_type": "code",
   "execution_count": 14,
   "id": "acf05456-9a93-4321-b76a-4bb0d1671ed7",
   "metadata": {},
   "outputs": [
    {
     "data": {
      "text/plain": [
       "(4, 1, 105, 80)"
      ]
     },
     "execution_count": 14,
     "metadata": {},
     "output_type": "execute_result"
    }
   ],
   "source": [
    "first.shape"
   ]
  },
  {
   "cell_type": "code",
   "execution_count": 15,
   "id": "eebddf36-16a7-4c5f-8818-7783d64bbbaa",
   "metadata": {},
   "outputs": [
    {
     "data": {
      "text/plain": [
       "[{}, {}, {}, {}]"
      ]
     },
     "execution_count": 15,
     "metadata": {},
     "output_type": "execute_result"
    }
   ],
   "source": [
    "second # Info?"
   ]
  },
  {
   "cell_type": "code",
   "execution_count": 16,
   "id": "d453edab-3152-4320-9589-7f137c240c5b",
   "metadata": {},
   "outputs": [
    {
     "data": {
      "text/plain": [
       "\u001b[0;31mSignature:\u001b[0m \u001b[0mvecenv\u001b[0m\u001b[0;34m.\u001b[0m\u001b[0mreset\u001b[0m\u001b[0;34m(\u001b[0m\u001b[0mseed\u001b[0m\u001b[0;34m=\u001b[0m\u001b[0;36m42\u001b[0m\u001b[0;34m)\u001b[0m\u001b[0;34m\u001b[0m\u001b[0;34m\u001b[0m\u001b[0m\n",
       "\u001b[0;31mDocstring:\u001b[0m <no docstring>\n",
       "\u001b[0;31mFile:\u001b[0m      ~/.conda/envs/puffer/lib/python3.11/site-packages/pufferlib/vector.py\n",
       "\u001b[0;31mType:\u001b[0m      method"
      ]
     },
     "metadata": {},
     "output_type": "display_data"
    }
   ],
   "source": [
    "vecenv.reset?"
   ]
  },
  {
   "cell_type": "markdown",
   "id": "323d908d-e185-47ae-8b0a-bc82c9cb771e",
   "metadata": {},
   "source": [
    "Interesting to note: Default seed set!"
   ]
  },
  {
   "cell_type": "code",
   "execution_count": 17,
   "id": "80cc54c2-cef8-413f-80fb-5167fd70ad2f",
   "metadata": {},
   "outputs": [
    {
     "name": "stdout",
     "output_type": "stream",
     "text": [
      "<class 'numpy.ndarray'>\n",
      "<class 'numpy.ndarray'>\n",
      "<class 'numpy.ndarray'>\n",
      "<class 'numpy.ndarray'>\n",
      "<class 'list'>\n"
     ]
    }
   ],
   "source": [
    "step_return = vecenv.step(vecenv.action_space.sample())\n",
    "for thing in step_return:\n",
    "    print(type(thing))"
   ]
  },
  {
   "cell_type": "code",
   "execution_count": 18,
   "id": "cac82729-312b-4e83-a9fc-09b32b0dd35f",
   "metadata": {},
   "outputs": [],
   "source": [
    "next_states, rewards, dones, truncateds, infos = step_return"
   ]
  },
  {
   "cell_type": "code",
   "execution_count": 19,
   "id": "930c85cc-bb75-49ea-89cb-c063b879cb99",
   "metadata": {},
   "outputs": [
    {
     "data": {
      "text/plain": [
       "((4, 1, 105, 80), (4,), (4,), (4,), [])"
      ]
     },
     "execution_count": 19,
     "metadata": {},
     "output_type": "execute_result"
    }
   ],
   "source": [
    "next_states.shape, rewards.shape, dones.shape, truncateds.shape, infos"
   ]
  },
  {
   "cell_type": "code",
   "execution_count": 20,
   "id": "43b57a3d-3923-4e4a-82ad-9451613d98e7",
   "metadata": {},
   "outputs": [
    {
     "data": {
      "text/plain": [
       "(array([0., 0., 0., 0.], dtype=float32),\n",
       " array([False, False, False, False]),\n",
       " array([False, False, False, False]))"
      ]
     },
     "execution_count": 20,
     "metadata": {},
     "output_type": "execute_result"
    }
   ],
   "source": [
    "rewards, dones, truncateds"
   ]
  },
  {
   "cell_type": "markdown",
   "id": "98730c20-fe4c-49d3-9a88-7a49e77590e0",
   "metadata": {},
   "source": [
    "### Crafter"
   ]
  },
  {
   "cell_type": "code",
   "execution_count": 21,
   "id": "95c96906-e3cd-4f38-869a-a9695f3a98c6",
   "metadata": {},
   "outputs": [],
   "source": [
    "from pufferlib.environments import crafter"
   ]
  },
  {
   "cell_type": "code",
   "execution_count": 22,
   "id": "955c21ee-1edb-4982-90e7-4322a5c09a8b",
   "metadata": {},
   "outputs": [
    {
     "data": {
      "text/plain": [
       "\u001b[0;31mType:\u001b[0m        module\n",
       "\u001b[0;31mString form:\u001b[0m <module 'pufferlib.environments.crafter' from '/home/fitti/.conda/envs/puffer/lib/python3.11/site-packages/pufferlib/environments/crafter/__init__.py'>\n",
       "\u001b[0;31mFile:\u001b[0m        ~/.conda/envs/puffer/lib/python3.11/site-packages/pufferlib/environments/crafter/__init__.py\n",
       "\u001b[0;31mDocstring:\u001b[0m   <no docstring>"
      ]
     },
     "metadata": {},
     "output_type": "display_data"
    }
   ],
   "source": [
    "crafter?"
   ]
  },
  {
   "cell_type": "code",
   "execution_count": 23,
   "id": "29a02f0b-a906-4cf3-b3d8-433da657ab2c",
   "metadata": {},
   "outputs": [
    {
     "name": "stdout",
     "output_type": "stream",
     "text": [
      "Help on package pufferlib.environments.crafter in pufferlib.environments:\n",
      "\n",
      "NAME\n",
      "    pufferlib.environments.crafter\n",
      "\n",
      "PACKAGE CONTENTS\n",
      "    environment\n",
      "    torch\n",
      "\n",
      "DATA\n",
      "    Recurrent = None\n",
      "\n",
      "FILE\n",
      "    /home/fitti/.conda/envs/puffer/lib/python3.11/site-packages/pufferlib/environments/crafter/__init__.py\n",
      "\n",
      "\n"
     ]
    }
   ],
   "source": [
    "help(crafter)"
   ]
  },
  {
   "cell_type": "code",
   "execution_count": 24,
   "id": "ff1e7e07-3d13-43f8-9365-8d62063ec4c6",
   "metadata": {},
   "outputs": [
    {
     "name": "stdout",
     "output_type": "stream",
     "text": [
      "Help on function env_creator in module pufferlib.environments.crafter.environment:\n",
      "\n",
      "env_creator(name='crafter')\n",
      "\n"
     ]
    }
   ],
   "source": [
    "help(crafter.environment.env_creator)"
   ]
  },
  {
   "cell_type": "code",
   "execution_count": 25,
   "id": "acdad8dc-d1a1-4014-ba8a-5f886b2dca05",
   "metadata": {},
   "outputs": [],
   "source": [
    "env_creator = crafter.environment.env_creator()"
   ]
  },
  {
   "cell_type": "code",
   "execution_count": 26,
   "id": "43931f1d-0925-439b-862c-4b1f7814e506",
   "metadata": {},
   "outputs": [
    {
     "data": {
      "text/plain": [
       "\u001b[0;31mSignature:\u001b[0m      \u001b[0menv_creator\u001b[0m\u001b[0;34m(\u001b[0m\u001b[0mbuf\u001b[0m\u001b[0;34m=\u001b[0m\u001b[0;32mNone\u001b[0m\u001b[0;34m)\u001b[0m\u001b[0;34m\u001b[0m\u001b[0;34m\u001b[0m\u001b[0m\n",
       "\u001b[0;31mCall signature:\u001b[0m \u001b[0menv_creator\u001b[0m\u001b[0;34m(\u001b[0m\u001b[0;34m*\u001b[0m\u001b[0margs\u001b[0m\u001b[0;34m,\u001b[0m \u001b[0;34m**\u001b[0m\u001b[0mkwargs\u001b[0m\u001b[0;34m)\u001b[0m\u001b[0;34m\u001b[0m\u001b[0;34m\u001b[0m\u001b[0m\n",
       "\u001b[0;31mType:\u001b[0m           partial\n",
       "\u001b[0;31mString form:\u001b[0m    functools.partial(<function make at 0x7fe8aa3e0e00>, 'crafter')\n",
       "\u001b[0;31mFile:\u001b[0m           ~/.conda/envs/puffer/lib/python3.11/functools.py\n",
       "\u001b[0;31mDocstring:\u001b[0m     \n",
       "partial(func, *args, **keywords) - new function with partial application\n",
       "of the given arguments and keywords."
      ]
     },
     "metadata": {},
     "output_type": "display_data"
    }
   ],
   "source": [
    "env_creator?"
   ]
  },
  {
   "cell_type": "code",
   "execution_count": 27,
   "id": "756486e2-44c9-4e10-8b1d-e19f6f3dd1c1",
   "metadata": {},
   "outputs": [],
   "source": [
    "vecenv = pufferlib.vector.make(env_creator, num_envs=4,\n",
    "    backend=pufferlib.vector.Multiprocessing)"
   ]
  },
  {
   "cell_type": "code",
   "execution_count": 28,
   "id": "c340b72a-5524-48ad-8334-6317dbbbca6f",
   "metadata": {},
   "outputs": [
    {
     "name": "stdout",
     "output_type": "stream",
     "text": [
      "<class 'numpy.ndarray'>\n",
      "<class 'list'>\n"
     ]
    }
   ],
   "source": [
    "reset_return = vecenv.reset()\n",
    "for thing in reset_return:\n",
    "    print(type(thing))"
   ]
  },
  {
   "cell_type": "code",
   "execution_count": 29,
   "id": "fdb03ebc-4a62-4dac-95a7-503cab5ae043",
   "metadata": {},
   "outputs": [],
   "source": [
    "first, second = reset_return"
   ]
  },
  {
   "cell_type": "code",
   "execution_count": 30,
   "id": "abeae30c-7187-4ce8-91a7-a512cd63bd27",
   "metadata": {},
   "outputs": [
    {
     "data": {
      "text/plain": [
       "(4, 64, 64, 3)"
      ]
     },
     "execution_count": 30,
     "metadata": {},
     "output_type": "execute_result"
    }
   ],
   "source": [
    "first.shape"
   ]
  },
  {
   "cell_type": "code",
   "execution_count": 31,
   "id": "4236adbf-63c8-4a57-a802-d05f8f2e4137",
   "metadata": {},
   "outputs": [
    {
     "data": {
      "text/plain": [
       "[{}, {}, {}, {}]"
      ]
     },
     "execution_count": 31,
     "metadata": {},
     "output_type": "execute_result"
    }
   ],
   "source": [
    "second # Info?"
   ]
  },
  {
   "cell_type": "code",
   "execution_count": 32,
   "id": "56cb160a-1de3-47d5-b92a-034b3150da05",
   "metadata": {},
   "outputs": [
    {
     "name": "stdout",
     "output_type": "stream",
     "text": [
      "Object `env.reset` not found.\n"
     ]
    }
   ],
   "source": [
    "env.reset?"
   ]
  },
  {
   "cell_type": "markdown",
   "id": "d32340f4-b69c-4358-acbd-dd426b639162",
   "metadata": {},
   "source": [
    "Interesting to note: No default seed set for this one!"
   ]
  },
  {
   "cell_type": "code",
   "execution_count": 33,
   "id": "33682800-5e52-4220-bf7d-fbb59e5910ec",
   "metadata": {},
   "outputs": [
    {
     "name": "stdout",
     "output_type": "stream",
     "text": [
      "<class 'numpy.ndarray'>\n",
      "<class 'numpy.ndarray'>\n",
      "<class 'numpy.ndarray'>\n",
      "<class 'numpy.ndarray'>\n",
      "<class 'list'>\n"
     ]
    }
   ],
   "source": [
    "step_return = vecenv.step(vecenv.action_space.sample())\n",
    "for thing in step_return:\n",
    "    print(type(thing))"
   ]
  },
  {
   "cell_type": "code",
   "execution_count": 34,
   "id": "f0dcbd5d-0870-4e04-82e4-2313851a0088",
   "metadata": {},
   "outputs": [],
   "source": [
    "next_states, rewards, dones, truncateds, infos = step_return"
   ]
  },
  {
   "cell_type": "code",
   "execution_count": 35,
   "id": "425f37e3-aa6c-4307-a640-fc03858eac70",
   "metadata": {},
   "outputs": [
    {
     "data": {
      "text/plain": [
       "((4, 64, 64, 3), (4,), (4,), (4,), [])"
      ]
     },
     "execution_count": 35,
     "metadata": {},
     "output_type": "execute_result"
    }
   ],
   "source": [
    "next_states.shape, rewards.shape, dones.shape, truncateds.shape, infos"
   ]
  },
  {
   "cell_type": "code",
   "execution_count": 36,
   "id": "457348fa-1bfa-4404-84d2-d81064b6443e",
   "metadata": {},
   "outputs": [
    {
     "data": {
      "text/plain": [
       "(array([0., 0., 0., 0.], dtype=float32),\n",
       " array([False, False, False, False]),\n",
       " array([False, False, False, False]))"
      ]
     },
     "execution_count": 36,
     "metadata": {},
     "output_type": "execute_result"
    }
   ],
   "source": [
    "rewards, dones, truncateds"
   ]
  },
  {
   "cell_type": "markdown",
   "id": "b9da5603-4220-4d5c-bbd8-c37b6b62686e",
   "metadata": {},
   "source": [
    "### Random stuff"
   ]
  },
  {
   "cell_type": "code",
   "execution_count": 37,
   "id": "42e841d3-ae1d-4f25-be68-e30234ada2eb",
   "metadata": {},
   "outputs": [
    {
     "name": "stdout",
     "output_type": "stream",
     "text": [
      "Box([-4.8000002e+00 -3.4028235e+38 -4.1887903e-01 -3.4028235e+38], [4.8000002e+00 3.4028235e+38 4.1887903e-01 3.4028235e+38], (4,), float32) Discrete(2)\n"
     ]
    }
   ],
   "source": [
    "import gymnasium as gym\n",
    "import pufferlib.emulation as emulation\n",
    "\n",
    "# Create a standard Gym environment\n",
    "base_env = gym.make(\"CartPole-v1\")\n",
    "\n",
    "# Wrap it with PufferLib for consistency\n",
    "env = emulation.GymnasiumPufferEnv(env=base_env)\n",
    "\n",
    "obs = env.reset()  # reset works like Gym, returns initial observation\n",
    "print(env.observation_space, env.action_space)  # still standard spaces"
   ]
  },
  {
   "cell_type": "code",
   "execution_count": 41,
   "id": "62fa0a26-c798-45af-b3d7-d30b303c09eb",
   "metadata": {},
   "outputs": [],
   "source": [
    "from pufferlib import wrappers"
   ]
  },
  {
   "cell_type": "code",
   "execution_count": 42,
   "id": "566ffb64-718b-4af6-b414-6544bb8d4fd8",
   "metadata": {},
   "outputs": [
    {
     "name": "stdout",
     "output_type": "stream",
     "text": [
      "Help on module pufferlib.wrappers in pufferlib:\n",
      "\n",
      "NAME\n",
      "    pufferlib.wrappers\n",
      "\n",
      "CLASSES\n",
      "    builtins.object\n",
      "        GymToGymnasium\n",
      "        PettingZooTruncatedWrapper\n",
      "    \n",
      "    class GymToGymnasium(builtins.object)\n",
      "     |  GymToGymnasium(env)\n",
      "     |  \n",
      "     |  Methods defined here:\n",
      "     |  \n",
      "     |  __init__(self, env)\n",
      "     |      Initialize self.  See help(type(self)) for accurate signature.\n",
      "     |  \n",
      "     |  close(self)\n",
      "     |  \n",
      "     |  reset(self, seed=None, options=None)\n",
      "     |  \n",
      "     |  step(self, action)\n",
      "     |  \n",
      "     |  ----------------------------------------------------------------------\n",
      "     |  Data descriptors defined here:\n",
      "     |  \n",
      "     |  __dict__\n",
      "     |      dictionary for instance variables\n",
      "     |  \n",
      "     |  __weakref__\n",
      "     |      list of weak references to the object\n",
      "    \n",
      "    class PettingZooTruncatedWrapper(builtins.object)\n",
      "     |  PettingZooTruncatedWrapper(env)\n",
      "     |  \n",
      "     |  Methods defined here:\n",
      "     |  \n",
      "     |  __init__(self, env)\n",
      "     |      Initialize self.  See help(type(self)) for accurate signature.\n",
      "     |  \n",
      "     |  close(self)\n",
      "     |  \n",
      "     |  reset(self, seed=None)\n",
      "     |  \n",
      "     |  step(self, actions)\n",
      "     |  \n",
      "     |  ----------------------------------------------------------------------\n",
      "     |  Readonly properties defined here:\n",
      "     |  \n",
      "     |  agents\n",
      "     |  \n",
      "     |  possible_agents\n",
      "     |  \n",
      "     |  render_mode\n",
      "     |  \n",
      "     |  ----------------------------------------------------------------------\n",
      "     |  Data descriptors defined here:\n",
      "     |  \n",
      "     |  __dict__\n",
      "     |      dictionary for instance variables\n",
      "     |  \n",
      "     |  __weakref__\n",
      "     |      list of weak references to the object\n",
      "\n",
      "FILE\n",
      "    /home/fitti/.conda/envs/puffer/lib/python3.11/site-packages/pufferlib/wrappers.py\n",
      "\n",
      "\n"
     ]
    }
   ],
   "source": [
    "help(wrappers)"
   ]
  }
 ],
 "metadata": {
  "kernelspec": {
   "display_name": "Python 3 (ipykernel)",
   "language": "python",
   "name": "python3"
  },
  "language_info": {
   "codemirror_mode": {
    "name": "ipython",
    "version": 3
   },
   "file_extension": ".py",
   "mimetype": "text/x-python",
   "name": "python",
   "nbconvert_exporter": "python",
   "pygments_lexer": "ipython3",
   "version": "3.11.11"
  }
 },
 "nbformat": 4,
 "nbformat_minor": 5
}
