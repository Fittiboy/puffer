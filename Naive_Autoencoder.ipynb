{
 "cells": [
  {
   "cell_type": "code",
   "execution_count": 1,
   "id": "61adca48-2dd6-4205-bf65-948d3f6c1ad6",
   "metadata": {},
   "outputs": [
    {
     "name": "stderr",
     "output_type": "stream",
     "text": [
      "/home/fitti/.conda/envs/puffer/lib/python3.11/site-packages/gymnasium/envs/registration.py:596: UserWarning: \u001b[33mWARN: plugin: shimmy.registration:register_gymnasium_envs raised Traceback (most recent call last):\n",
      "  File \"/home/fitti/.conda/envs/puffer/lib/python3.11/site-packages/gymnasium/envs/registration.py\", line 594, in load_plugin_envs\n",
      "    fn()\n",
      "  File \"/home/fitti/.conda/envs/puffer/lib/python3.11/site-packages/shimmy/registration.py\", line 304, in register_gymnasium_envs\n",
      "    _register_atari_envs()\n",
      "  File \"/home/fitti/.conda/envs/puffer/lib/python3.11/site-packages/shimmy/registration.py\", line 205, in _register_atari_envs\n",
      "    import ale_py\n",
      "  File \"/home/fitti/.conda/envs/puffer/lib/python3.11/site-packages/ale_py/__init__.py\", line 66, in <module>\n",
      "    register_v0_v4_envs()\n",
      "  File \"/home/fitti/.conda/envs/puffer/lib/python3.11/site-packages/ale_py/registration.py\", line 176, in register_v0_v4_envs\n",
      "    _register_rom_configs(legacy_games, obs_types, versions)\n",
      "  File \"/home/fitti/.conda/envs/puffer/lib/python3.11/site-packages/ale_py/registration.py\", line 62, in _register_rom_configs\n",
      "    gymnasium.register(\n",
      "    ^^^^^^^^^^^^^^^^^^\n",
      "AttributeError: partially initialized module 'gymnasium' has no attribute 'register' (most likely due to a circular import)\n",
      "\u001b[0m\n",
      "  logger.warn(f\"plugin: {plugin.value} raised {traceback.format_exc()}\")\n"
     ]
    }
   ],
   "source": [
    "import einops\n",
    "import numpy as np\n",
    "import torch\n",
    "from torch import nn, optim\n",
    "import gymnasium as gym\n",
    "import ale_py"
   ]
  },
  {
   "cell_type": "code",
   "execution_count": 2,
   "id": "3f22cd7f-4910-468b-b906-01117e87df40",
   "metadata": {},
   "outputs": [],
   "source": [
    "device = torch.device(\"cuda\" if torch.cuda.is_available() else \"cpu\")"
   ]
  },
  {
   "cell_type": "code",
   "execution_count": 3,
   "id": "06352afc-851c-41e8-a92f-636bd4d2b215",
   "metadata": {},
   "outputs": [
    {
     "name": "stderr",
     "output_type": "stream",
     "text": [
      "A.L.E: Arcade Learning Environment (version 0.9.0+750d7f9)\n",
      "[Powered by Stella]\n"
     ]
    }
   ],
   "source": [
    "env = gym.make(\"ALE/Breakout-v5\")"
   ]
  },
  {
   "cell_type": "code",
   "execution_count": 4,
   "id": "4d82e003-0361-4ea9-bc75-26656ff476bf",
   "metadata": {},
   "outputs": [],
   "source": [
    "ob, _ = env.reset()\n",
    "ob = einops.rearrange(ob, \"h w c -> c h w\")\n",
    "frames = [ob]\n",
    "done, truncated = False, False\n",
    "while not (done or truncated):\n",
    "    ob, _, done, truncated, _ = env.step(env.action_space.sample())\n",
    "    ob = einops.rearrange(ob, \"h w c -> c h w\")\n",
    "    frames.append(ob.copy())"
   ]
  },
  {
   "cell_type": "code",
   "execution_count": 5,
   "id": "a5e6f317-8edc-4995-bb8f-a938d68b67be",
   "metadata": {},
   "outputs": [
    {
     "data": {
      "text/plain": [
       "torch.Size([140, 3, 210, 160])"
      ]
     },
     "execution_count": 5,
     "metadata": {},
     "output_type": "execute_result"
    }
   ],
   "source": [
    "frames = torch.tensor(np.array(frames) / 255.0, dtype=torch.float32, device=device)\n",
    "frames.shape"
   ]
  },
  {
   "cell_type": "code",
   "execution_count": 6,
   "id": "44a72659-f494-468a-aedc-45e2779970d0",
   "metadata": {},
   "outputs": [
    {
     "data": {
      "text/plain": [
       "torch.Size([3, 210, 160])"
      ]
     },
     "execution_count": 6,
     "metadata": {},
     "output_type": "execute_result"
    }
   ],
   "source": [
    "ob_shape = frames[0].shape\n",
    "ob_shape"
   ]
  },
  {
   "cell_type": "code",
   "execution_count": 7,
   "id": "6ff95521-e5d3-4c98-95a1-fb9c299d2e57",
   "metadata": {},
   "outputs": [
    {
     "data": {
      "text/plain": [
       "<matplotlib.image.AxesImage at 0x71b7a9219b50>"
      ]
     },
     "execution_count": 7,
     "metadata": {},
     "output_type": "execute_result"
    },
    {
     "data": {
      "image/png": "[encoded data removed]",
      "text/plain": [
       "<Figure size 640x480 with 1 Axes>"
      ]
     },
     "metadata": {},
     "output_type": "display_data"
    }
   ],
   "source": [
    "import matplotlib.pyplot as plt\n",
    "\n",
    "plt.imshow(frames[0].cpu().permute(1, 2, 0))"
   ]
  },
  {
   "cell_type": "code",
   "execution_count": 8,
   "id": "7308fd94-a689-4f75-8ec6-867aa28d7ac9",
   "metadata": {},
   "outputs": [],
   "source": [
    "class EncoderBlock(nn.Module):\n",
    "    def __init__(self, in_channels, first_channels, second_channels, out_channels):\n",
    "        super().__init__()\n",
    "        self.encoder = nn.Sequential(\n",
    "            nn.Conv2d(in_channels, first_channels, kernel_size=3, padding=1),\n",
    "            nn.ReLU(),\n",
    "            nn.Conv2d(first_channels, second_channels, kernel_size=3, padding=1),\n",
    "            nn.ReLU(),\n",
    "            nn.Conv2d(second_channels, out_channels, kernel_size=3, padding=1),\n",
    "            nn.ReLU(),\n",
    "            nn.MaxPool2d(2, 2),\n",
    "        )\n",
    "\n",
    "    def forward(self, x):\n",
    "        return self.encoder(x)"
   ]
  },
  {
   "cell_type": "code",
   "execution_count": 9,
   "id": "ba8b3ca6-0de5-4667-99dd-b1bc5c7fbe15",
   "metadata": {},
   "outputs": [],
   "source": [
    "class DecoderBlock(nn.Module):\n",
    "    def __init__(self, in_channels, first_channels, second_channels, out_channels, out_size=None):\n",
    "        super().__init__()\n",
    "        if out_size:\n",
    "            upsampler = nn.UpsamplingBilinear2d(size=out_size)\n",
    "        else:\n",
    "            upsampler = nn.UpsamplingBilinear2d(scale_factor=2)\n",
    "        self.decoder = nn.Sequential(\n",
    "            upsampler,\n",
    "            nn.Conv2d(in_channels, first_channels, kernel_size=3, padding=1),\n",
    "            nn.ReLU(),\n",
    "            nn.Conv2d(first_channels, second_channels, kernel_size=3, padding=1),\n",
    "            nn.ReLU(),\n",
    "            nn.Conv2d(second_channels, out_channels, kernel_size=3, padding=1),\n",
    "            nn.ReLU(),\n",
    "        )\n",
    "\n",
    "    def forward(self, x):\n",
    "        return self.decoder(x)"
   ]
  },
  {
   "cell_type": "code",
   "execution_count": 10,
   "id": "31c22e71-1ea4-4b5b-961b-b527ebeaece5",
   "metadata": {},
   "outputs": [],
   "source": [
    "class Autoencoder(nn.Module):\n",
    "    def __init__(self, ob_shape):\n",
    "        super().__init__()\n",
    "        c, h, w = ob_shape\n",
    "\n",
    "        self.encoder = nn.Sequential(\n",
    "            EncoderBlock(c, 16, 32, 64),\n",
    "            EncoderBlock(64, 64, 128, 128),\n",
    "            EncoderBlock(128, 128, 64, 64),\n",
    "        )\n",
    "\n",
    "        self.decoder = nn.Sequential(\n",
    "            DecoderBlock(64, 64, 128, 128),\n",
    "            DecoderBlock(128, 128, 64, 64),\n",
    "            DecoderBlock(64, 32, 16, c, out_size=[h, w]),\n",
    "        )\n",
    "\n",
    "    def forward(self, x):\n",
    "        return self.decoder(self.encoder(x))"
   ]
  },
  {
   "cell_type": "code",
   "execution_count": 11,
   "id": "af9fb463-7917-444e-9531-b0aefc30c5a8",
   "metadata": {},
   "outputs": [
    {
     "name": "stdout",
     "output_type": "stream",
     "text": [
      "1,080,451\n"
     ]
    }
   ],
   "source": [
    "net = Autoencoder(ob_shape).to(device=device)\n",
    "net.compile()\n",
    "print(f\"{sum(p.numel() for p in net.parameters()):,}\")"
   ]
  },
  {
   "cell_type": "code",
   "execution_count": 12,
   "id": "138fcd0b-aeee-4500-8149-6ffdf4bce91d",
   "metadata": {},
   "outputs": [
    {
     "name": "stderr",
     "output_type": "stream",
     "text": [
      "W0222 16:17:29.911000 54312 site-packages/torch/_inductor/utils.py:1137] [0/0] Not enough SMs to use max_autotune_gemm mode\n"
     ]
    },
    {
     "data": {
      "text/plain": [
       "torch.Size([1, 3, 210, 160])"
      ]
     },
     "execution_count": 12,
     "metadata": {},
     "output_type": "execute_result"
    }
   ],
   "source": [
    "with torch.no_grad():\n",
    "    pred = net(frames[0:1])\n",
    "pred.shape"
   ]
  },
  {
   "cell_type": "code",
   "execution_count": 13,
   "id": "4641c39e-136b-4054-9c1b-e01ceb8f5268",
   "metadata": {},
   "outputs": [
    {
     "data": {
      "text/plain": [
       "<matplotlib.image.AxesImage at 0x71b787e16c50>"
      ]
     },
     "execution_count": 13,
     "metadata": {},
     "output_type": "execute_result"
    },
    {
     "data": {
      "image/png": "[encoded data removed]",
      "text/plain": [
       "<Figure size 640x480 with 1 Axes>"
      ]
     },
     "metadata": {},
     "output_type": "display_data"
    }
   ],
   "source": [
    "img = einops.rearrange(pred[0], \"c h w -> h w c\")\n",
    "plt.imshow(img.cpu())"
   ]
  },
  {
   "cell_type": "code",
   "execution_count": 14,
   "id": "8908ef38-f1ef-4461-9aca-314a592a897c",
   "metadata": {},
   "outputs": [],
   "source": [
    "optimizer = optim.Adam(net.parameters(), lr=1e-4)\n",
    "loss_fn = nn.MSELoss()"
   ]
  },
  {
   "cell_type": "code",
   "execution_count": 15,
   "id": "3098f615-ddc8-4641-b8c9-0541faa248bb",
   "metadata": {},
   "outputs": [],
   "source": [
    "num_epochs = 5_000\n",
    "batch_size = 16\n",
    "frames = frames[:64]\n",
    "num_batches = len(frames) // batch_size"
   ]
  },
  {
   "cell_type": "code",
   "execution_count": 16,
   "id": "507f094c-d6ac-4e5d-9a06-4815da130e03",
   "metadata": {},
   "outputs": [],
   "source": [
    "from tqdm.auto import tqdm"
   ]
  },
  {
   "cell_type": "code",
   "execution_count": 17,
   "id": "27fd0a7c-f548-4d18-95ad-defd8f40b68b",
   "metadata": {},
   "outputs": [
    {
     "data": {
      "application/vnd.jupyter.widget-view+json": {
       "model_id": "e6617ae2b90646a191ebeeb439e73754",
       "version_major": 2,
       "version_minor": 0
      },
      "text/plain": [
       "Epochs:   0%|          | 0/5000 [00:00<?, ?it/s]"
      ]
     },
     "metadata": {},
     "output_type": "display_data"
    }
   ],
   "source": [
    "for epoch in tqdm(range(num_epochs), desc=\"Epochs\"):\n",
    "    indices = torch.randperm(len(frames))\n",
    "    for batch in range(num_batches):\n",
    "        start = batch * batch_size\n",
    "        end = start + batch_size\n",
    "        batch_indices = indices[start:end]\n",
    "        batch_data = frames[batch_indices]\n",
    "        \n",
    "        preds = net(batch_data)\n",
    "        loss = loss_fn(preds, batch_data)\n",
    "        optimizer.zero_grad()\n",
    "        loss.backward()\n",
    "        optimizer.step()"
   ]
  },
  {
   "cell_type": "code",
   "execution_count": 18,
   "id": "442765c7-4ed2-45b3-9476-e9b8d6b69819",
   "metadata": {},
   "outputs": [
    {
     "data": {
      "text/plain": [
       "(torch.Size([64, 3, 210, 160]), torch.Size([64, 3, 210, 160]))"
      ]
     },
     "execution_count": 18,
     "metadata": {},
     "output_type": "execute_result"
    }
   ],
   "source": [
    "with torch.no_grad():\n",
    "    preds = net(frames)\n",
    "preds.shape, frames.shape"
   ]
  },
  {
   "cell_type": "code",
   "execution_count": 19,
   "id": "99cbec6b-bb1b-4eac-a471-207aa8709a5c",
   "metadata": {},
   "outputs": [
    {
     "data": {
      "image/png": "[encoded data removed]",
      "text/plain": [
       "<Figure size 640x480 with 10 Axes>"
      ]
     },
     "metadata": {},
     "output_type": "display_data"
    }
   ],
   "source": [
    "fig, axes = plt.subplots(2, 5)\n",
    "axes = axes.flatten()\n",
    "\n",
    "indices = torch.randperm(len(frames))[:5]\n",
    "\n",
    "for i, ax in enumerate(axes[:5]):\n",
    "    img = einops.rearrange(preds[indices[i]], \"c h w -> h w c\")\n",
    "    ax.set_xticks([])\n",
    "    ax.set_yticks([])\n",
    "    ax.imshow(img.cpu())\n",
    "    \n",
    "for i, ax in enumerate(axes[5:]):\n",
    "    img = einops.rearrange(frames[indices[i]], \"c h w -> h w c\")\n",
    "    ax.set_xticks([])\n",
    "    ax.set_yticks([])\n",
    "    ax.imshow(img.cpu())\n",
    "\n",
    "plt.tight_layout()\n",
    "plt.show()"
   ]
  }
 ],
 "metadata": {
  "kernelspec": {
   "display_name": "Python 3 (ipykernel)",
   "language": "python",
   "name": "python3"
  },
  "language_info": {
   "codemirror_mode": {
    "name": "ipython",
    "version": 3
   },
   "file_extension": ".py",
   "mimetype": "text/x-python",
   "name": "python",
   "nbconvert_exporter": "python",
   "pygments_lexer": "ipython3",
   "version": "3.11.11"
  }
 },
 "nbformat": 4,
 "nbformat_minor": 5
}
