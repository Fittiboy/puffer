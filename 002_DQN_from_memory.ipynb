{
 "cells": [
  {
   "cell_type": "markdown",
   "id": "ac02b509-a063-4b90-bc97-070fa55a4fad",
   "metadata": {},
   "source": [
    "# DQN from Memory in Breakout"
   ]
  },
  {
   "cell_type": "markdown",
   "id": "9f6f71e5-06fd-4076-b17b-7c5dfbcec29c",
   "metadata": {},
   "source": [
    "I need:\n",
    "* [x] The actual Q network\n",
    "* [x] A replay buffer\n",
    "* [x] Action selection\n",
    "* [x] Training loop"
   ]
  },
  {
   "cell_type": "markdown",
   "id": "4d305b5f-f764-4f31-8136-f8d74b422982",
   "metadata": {},
   "source": [
    "The process:\n",
    "1. Set up online Q network and target network\n",
    "1. Initialize (vectorized) environment\n",
    "1. Perform training loop (Optional: With logging)\n",
    "1. Evalute and record an episode"
   ]
  },
  {
   "cell_type": "markdown",
   "id": "55eaf9b0-3d67-4300-ab9e-961ff304637d",
   "metadata": {},
   "source": [
    "## The Q network"
   ]
  },
  {
   "cell_type": "code",
   "execution_count": 1,
   "id": "b41c807d-614e-4b2e-a9a7-57c3ef306b7d",
   "metadata": {},
   "outputs": [],
   "source": [
    "import torch\n",
    "from torch import nn\n",
    "from torch.nn import functional as F"
   ]
  },
  {
   "cell_type": "code",
   "execution_count": 2,
   "id": "fe48ec66-c92d-4227-8656-0254cd978ac7",
   "metadata": {},
   "outputs": [],
   "source": [
    "class QNetwork(nn.Module):\n",
    "    def __init__(self, obs_shape, n_actions, n_hiddens=128):\n",
    "        super().__init__()\n",
    "        # The observations are Batch x width x stack (channels) x height, for some reason\n",
    "        in_shape = (obs_shape[0], obs_shape[2], obs_shape[3], obs_shape[1])\n",
    "\n",
    "        # Convolutional layers\n",
    "        self.convs = nn.Sequential(\n",
    "            nn.Conv2d(in_channels=in_shape[1], out_channels=16, kernel_size=3, stride=1, padding=1),\n",
    "            nn.MaxPool2d(kernel_size=2, stride=2),\n",
    "            nn.Conv2d(16, 32, 3, padding=1),\n",
    "            nn.MaxPool2d(2, 2),\n",
    "            nn.Conv2d(32, 64, 3, padding=1),\n",
    "            nn.MaxPool2d(2, 2),\n",
    "        )\n",
    "\n",
    "        # Calculate the input size for the first fully connected layer\n",
    "        dummy_in = torch.zeros(*in_shape[1:])\n",
    "        dummy_out = self.convs(dummy_in)\n",
    "        n_input = dummy_out.shape.numel()\n",
    "\n",
    "        # Fully connected layers\n",
    "        self.mlp = nn.Sequential(\n",
    "            nn.Flatten(),\n",
    "            nn.Linear(n_input, n_hiddens),\n",
    "            nn.ReLU(),\n",
    "            nn.Linear(n_hiddens, n_actions),\n",
    "        )\n",
    "\n",
    "    def forward(self, x):\n",
    "        device = next(self.mlp.parameters())[0].device\n",
    "        x = torch.tensor(np.array(x) / 255.0, dtype=torch.float32, device=device)\n",
    "        x = x.permute(0, 2, 3, 1)\n",
    "        \n",
    "        x = self.convs(x)\n",
    "        return self.mlp(x)"
   ]
  },
  {
   "cell_type": "markdown",
   "id": "7987489b-c870-453e-86f1-b0b4c780ea10",
   "metadata": {
    "jp-MarkdownHeadingCollapsed": true
   },
   "source": [
    "### Testing things"
   ]
  },
  {
   "cell_type": "code",
   "execution_count": 3,
   "id": "b3c91732-1f70-47ba-a233-c3be5b194a2c",
   "metadata": {},
   "outputs": [],
   "source": [
    "import numpy as np"
   ]
  },
  {
   "cell_type": "code",
   "execution_count": 4,
   "id": "6f30bcb7-05db-436f-98d7-e8cb805d083f",
   "metadata": {},
   "outputs": [],
   "source": [
    "import pufferlib\n",
    "from pufferlib.environments import atari"
   ]
  },
  {
   "cell_type": "code",
   "execution_count": 5,
   "id": "86f3768a-59b1-4e76-92a7-2340d8821609",
   "metadata": {},
   "outputs": [],
   "source": [
    "env_name = \"breakout\"\n",
    "env_creator = atari.env_creator(env_name)"
   ]
  },
  {
   "cell_type": "code",
   "execution_count": 6,
   "id": "ce0ee372-6e13-44b9-9409-c0a02defbfb0",
   "metadata": {},
   "outputs": [],
   "source": [
    "import pufferlib.vector"
   ]
  },
  {
   "cell_type": "code",
   "execution_count": 7,
   "id": "ada37f34-1343-446b-a754-75de133cf46b",
   "metadata": {},
   "outputs": [
    {
     "name": "stderr",
     "output_type": "stream",
     "text": [
      "A.L.E: Arcade Learning Environment (version 0.9.0+750d7f9)\n",
      "[Powered by Stella]\n"
     ]
    }
   ],
   "source": [
    "vecenv = pufferlib.vector.make(\n",
    "    env_creator,\n",
    "    env_kwargs={\n",
    "        \"framestack\": 4,\n",
    "    },\n",
    "    backend=pufferlib.vector.Multiprocessing,\n",
    "    num_envs=8\n",
    ")"
   ]
  },
  {
   "cell_type": "code",
   "execution_count": 8,
   "id": "9d84c82d-bd04-4ac0-a6cf-e37938ba1f21",
   "metadata": {},
   "outputs": [
    {
     "data": {
      "text/plain": [
       "(8, 80, 4, 105)"
      ]
     },
     "execution_count": 8,
     "metadata": {},
     "output_type": "execute_result"
    }
   ],
   "source": [
    "obs_shape = vecenv.obs_batch_shape\n",
    "obs_shape"
   ]
  },
  {
   "cell_type": "code",
   "execution_count": 9,
   "id": "93ba38d3-3b52-4933-9584-1da1b75ac80c",
   "metadata": {},
   "outputs": [
    {
     "data": {
      "text/plain": [
       "4"
      ]
     },
     "execution_count": 9,
     "metadata": {},
     "output_type": "execute_result"
    }
   ],
   "source": [
    "n_actions = vecenv.action_space.nvec[0]\n",
    "n_actions"
   ]
  },
  {
   "cell_type": "code",
   "execution_count": 10,
   "id": "e2154f06-8b33-45ee-b377-28022a0f1b1d",
   "metadata": {},
   "outputs": [
    {
     "data": {
      "text/plain": [
       "(8, 4, 105, 80)"
      ]
     },
     "execution_count": 10,
     "metadata": {},
     "output_type": "execute_result"
    }
   ],
   "source": [
    "obs, _ = vecenv.reset()\n",
    "obs.transpose(0,2,3,1).shape"
   ]
  },
  {
   "cell_type": "code",
   "execution_count": 11,
   "id": "52dd2622-7327-4d66-86ad-ac18288c46fe",
   "metadata": {},
   "outputs": [
    {
     "name": "stdout",
     "output_type": "stream",
     "text": [
      "QNetwork(\n",
      "  (convs): Sequential(\n",
      "    (0): Conv2d(4, 16, kernel_size=(3, 3), stride=(1, 1), padding=(1, 1))\n",
      "    (1): MaxPool2d(kernel_size=2, stride=2, padding=0, dilation=1, ceil_mode=False)\n",
      "    (2): Conv2d(16, 32, kernel_size=(3, 3), stride=(1, 1), padding=(1, 1))\n",
      "    (3): MaxPool2d(kernel_size=2, stride=2, padding=0, dilation=1, ceil_mode=False)\n",
      "    (4): Conv2d(32, 64, kernel_size=(3, 3), stride=(1, 1), padding=(1, 1))\n",
      "    (5): MaxPool2d(kernel_size=2, stride=2, padding=0, dilation=1, ceil_mode=False)\n",
      "  )\n",
      "  (mlp): Sequential(\n",
      "    (0): Flatten(start_dim=1, end_dim=-1)\n",
      "    (1): Linear(in_features=8320, out_features=128, bias=True)\n",
      "    (2): ReLU()\n",
      "    (3): Linear(in_features=128, out_features=4, bias=True)\n",
      "  )\n",
      ") \n",
      "1,089,332\n"
     ]
    }
   ],
   "source": [
    "test_network = QNetwork(obs_shape, n_actions)\n",
    "print(test_network, f\"\\n{sum(p.numel() for p in test_network.parameters()):,}\")"
   ]
  },
  {
   "cell_type": "code",
   "execution_count": 12,
   "id": "c807c19a-9cf6-404c-8c9c-2da9efbd4881",
   "metadata": {},
   "outputs": [],
   "source": [
    "obs, _ = vecenv.reset()"
   ]
  },
  {
   "cell_type": "code",
   "execution_count": 13,
   "id": "f98eff5d-605c-4570-80e3-71491955e52c",
   "metadata": {},
   "outputs": [
    {
     "data": {
      "text/plain": [
       "tensor([[-0.0334,  0.0302, -0.0121, -0.0764],\n",
       "        [-0.0334,  0.0302, -0.0121, -0.0764],\n",
       "        [-0.0334,  0.0302, -0.0121, -0.0764],\n",
       "        [-0.0334,  0.0302, -0.0121, -0.0764],\n",
       "        [-0.0334,  0.0302, -0.0121, -0.0764],\n",
       "        [-0.0334,  0.0302, -0.0121, -0.0764],\n",
       "        [-0.0334,  0.0302, -0.0121, -0.0764],\n",
       "        [-0.0334,  0.0302, -0.0121, -0.0764]], grad_fn=<AddmmBackward0>)"
      ]
     },
     "execution_count": 13,
     "metadata": {},
     "output_type": "execute_result"
    }
   ],
   "source": [
    "q_values = test_network(obs)\n",
    "q_values"
   ]
  },
  {
   "cell_type": "markdown",
   "id": "d1b43d0d-9380-4e9d-b853-68cb75eb4c7e",
   "metadata": {},
   "source": [
    "## Replay Buffer"
   ]
  },
  {
   "cell_type": "markdown",
   "id": "7fe666c1-9b1b-42a5-8492-fb7733c1d7e6",
   "metadata": {},
   "source": [
    "* Needs to be able to store some number of transitions\n",
    "* Needs to automatically kick out old transitions\n",
    "* Needs `store`\n",
    "* Needs `extend`\n",
    "* Needs `__len__()`\n",
    "* Neesd `sample()`"
   ]
  },
  {
   "cell_type": "code",
   "execution_count": 14,
   "id": "ba5c4b66-3b51-4e3f-a8a0-d4fa14d91e0f",
   "metadata": {},
   "outputs": [],
   "source": [
    "from collections import deque\n",
    "import random"
   ]
  },
  {
   "cell_type": "code",
   "execution_count": 15,
   "id": "2e208182-c144-44c0-927a-fdd0dac4331b",
   "metadata": {},
   "outputs": [],
   "source": [
    "class ReplayBuffer:\n",
    "    def __init__(self, capacity: int):\n",
    "        self.capacity = capacity\n",
    "        self.queue = deque(maxlen=capacity)\n",
    "\n",
    "    def store(self, transition):\n",
    "        self.queue.append(transition)\n",
    "\n",
    "    def extend(self, transitions):\n",
    "        for transition in transitions:\n",
    "            self.store(transition)\n",
    "\n",
    "    def sample(self, n_samples: int):\n",
    "        return [random.choice(self.queue) for _ in range(n_samples)]\n",
    "\n",
    "    def __len__(self):\n",
    "        return len(self.queue)\n",
    "\n",
    "    def __repr__(self):\n",
    "        return self.queue.__repr__()"
   ]
  },
  {
   "cell_type": "markdown",
   "id": "cd12d62b-b776-45fe-9053-ff48f943cf5a",
   "metadata": {
    "jp-MarkdownHeadingCollapsed": true
   },
   "source": [
    "### Testing things"
   ]
  },
  {
   "cell_type": "code",
   "execution_count": 16,
   "id": "3e7005b5-5443-45d5-b57e-0259ac24231d",
   "metadata": {},
   "outputs": [],
   "source": [
    "buf = ReplayBuffer(5)"
   ]
  },
  {
   "cell_type": "code",
   "execution_count": 17,
   "id": "30c32009-6dae-4c3c-ab0f-be0e3291e23d",
   "metadata": {},
   "outputs": [
    {
     "data": {
      "text/plain": [
       "(deque([5, 6, 7, 8, 9], maxlen=5), [5, 7])"
      ]
     },
     "execution_count": 17,
     "metadata": {},
     "output_type": "execute_result"
    }
   ],
   "source": [
    "for i in range(10):\n",
    "    buf.store(i)\n",
    "\n",
    "buf, buf.sample(2)"
   ]
  },
  {
   "cell_type": "code",
   "execution_count": 18,
   "id": "5637a581-4f90-4172-ab89-f25c36640db7",
   "metadata": {},
   "outputs": [
    {
     "data": {
      "text/plain": [
       "(deque([4, 5, 6, 7, 8], maxlen=5), [6, 8])"
      ]
     },
     "execution_count": 18,
     "metadata": {},
     "output_type": "execute_result"
    }
   ],
   "source": [
    "for i in range(10):\n",
    "    buf.extend(range(i))\n",
    "\n",
    "buf, buf.sample(2)"
   ]
  },
  {
   "cell_type": "markdown",
   "id": "f559d473-fb8b-40fd-a502-6c1d2cfe8682",
   "metadata": {},
   "source": [
    "## Action Selection"
   ]
  },
  {
   "cell_type": "code",
   "execution_count": 19,
   "id": "b7baf269-b5c7-4871-9d4c-91c4d50684d3",
   "metadata": {},
   "outputs": [],
   "source": [
    "def select_actions(q_values, epsilon):\n",
    "    batch_size, n_actions = q_values.shape\n",
    "    if random.random() < epsilon:\n",
    "        return torch.randint(0, n_actions, [batch_size])\n",
    "    return torch.argmax(q_values, dim=1).cpu()"
   ]
  },
  {
   "cell_type": "markdown",
   "id": "16b3d2fc-204a-403b-95ae-c1ecdf51aa38",
   "metadata": {
    "jp-MarkdownHeadingCollapsed": true
   },
   "source": [
    "### Testing things"
   ]
  },
  {
   "cell_type": "code",
   "execution_count": 20,
   "id": "0711b421-efa1-4b86-9986-2635fa4c0574",
   "metadata": {},
   "outputs": [
    {
     "data": {
      "text/plain": [
       "torch.Size([8, 4])"
      ]
     },
     "execution_count": 20,
     "metadata": {},
     "output_type": "execute_result"
    }
   ],
   "source": [
    "q_values.shape"
   ]
  },
  {
   "cell_type": "code",
   "execution_count": 21,
   "id": "a5625dc6-dcdb-40b5-b97f-52de633c43ec",
   "metadata": {},
   "outputs": [
    {
     "data": {
      "text/plain": [
       "tensor([1, 1, 1, 1, 1, 1, 1, 1])"
      ]
     },
     "execution_count": 21,
     "metadata": {},
     "output_type": "execute_result"
    }
   ],
   "source": [
    "select_actions(q_values, 0.5)"
   ]
  },
  {
   "cell_type": "markdown",
   "id": "475041b7-50b1-4881-90c7-bb97ec5f4852",
   "metadata": {},
   "source": [
    "## Training Loop"
   ]
  },
  {
   "cell_type": "markdown",
   "id": "22278c0c-a165-448f-92dc-ea1a24931ccb",
   "metadata": {},
   "source": [
    "1. [x] Initialize replay buffer\n",
    "1. [x] Reset `env`\n",
    "1. [x] Initialize `returns` array\n",
    "1. [x] Initialize `episodes` counter\n",
    "1. [x] For `n_steps`\n",
    "    1. [x] Take step in environment\n",
    "    1. [x] (Optional) Add `rewards` to `returns` array\n",
    "    1. [x] (Optional) Add `np.sum(dones | truncateds)` to episodes\n",
    "    1. [x] (Optional) Log `returns` for done/truncated episodes in W&B\n",
    "    1. [x] Store transition in buffer\n",
    "    1. [x] If enough transitions: Update online network\n",
    "    1. [x] If enough steps: Update target network"
   ]
  },
  {
   "cell_type": "code",
   "execution_count": 22,
   "id": "6a684344-0fec-4994-9062-0dfbe7b1cd9f",
   "metadata": {},
   "outputs": [],
   "source": [
    "from torch import optim\n",
    "from tqdm.auto import tqdm"
   ]
  },
  {
   "cell_type": "code",
   "execution_count": 23,
   "id": "29acfd0d-61c2-4885-a647-5ac3870c33e6",
   "metadata": {},
   "outputs": [],
   "source": [
    "import wandb"
   ]
  },
  {
   "cell_type": "code",
   "execution_count": 24,
   "id": "9a1c1397-dbbf-4e21-a429-7ca08c0e9cec",
   "metadata": {},
   "outputs": [],
   "source": [
    "def train(\n",
    "    net: nn.Module,\n",
    "    target_net: nn.Module,\n",
    "    optimizer: optim.Optimizer,\n",
    "    loss_fn,\n",
    "    env,\n",
    "    epsilon_start: float,\n",
    "    epsilon_end: float,\n",
    "    epsilon_decay: int,\n",
    "    gamma: float,\n",
    "    buffer_size: int,\n",
    "    update_batch_size: int,\n",
    "    target_update_steps: int,\n",
    "    n_steps: int,\n",
    "):\n",
    "    assert update_batch_size < buffer_size, \"Buffer must be large enough to hold at least one batch\"\n",
    "    buffer = ReplayBuffer(capacity=buffer_size)\n",
    "    epsilon = epsilon_start\n",
    "    \n",
    "    obs, _ = env.reset()\n",
    "    \n",
    "    num_envs = obs.shape[0]\n",
    "    returns = np.zeros([num_envs])\n",
    "    episodes = 0\n",
    "\n",
    "    try:\n",
    "        for step in tqdm(range(1, n_steps + 1), desc=\"Steps\"):\n",
    "            with torch.no_grad():\n",
    "                q_values = net(obs)\n",
    "            actions = select_actions(q_values, epsilon)\n",
    "            next_obs, rewards, dones, truncateds, _ = env.step(actions)\n",
    "    \n",
    "            buffer.extend(zip(obs, actions, rewards, next_obs, (dones | truncateds)))\n",
    "            obs = next_obs\n",
    "    \n",
    "            returns += rewards\n",
    "            episodes += np.sum(dones | truncateds)\n",
    "    \n",
    "            done_indices = np.where(dones | truncateds)\n",
    "            if wandb.run is not None and len(returns[done_indices]) > 0:\n",
    "                wandb.log({\n",
    "                    \"avg_return\": np.mean(returns[done_indices]),\n",
    "                    \"epsilon\": epsilon,\n",
    "                })\n",
    "            returns[done_indices] = 0\n",
    "    \n",
    "            if len(buffer) >= update_batch_size:\n",
    "                obs_target, actions_target, rewards_target, next_obs_target, dones_target = zip(*buffer.sample(update_batch_size))\n",
    "    \n",
    "                q_target = net(obs_target).gather(1, torch.tensor(actions_target, device=device).unsqueeze(1)).squeeze(1)\n",
    "                rewards_t = torch.tensor(rewards_target, device=device)\n",
    "                with torch.no_grad():\n",
    "                    next_q_target = target_net(next_obs_target).max(dim=1).values\n",
    "                    dones_t = torch.tensor(dones_target, device=device)\n",
    "    \n",
    "                target = rewards_t + ~dones_t * gamma * next_q_target\n",
    "                loss = loss_fn(target, q_target)\n",
    "\n",
    "                wandb.log({\n",
    "                    \"loss\": loss.item(),\n",
    "                })\n",
    "                \n",
    "                optimizer.zero_grad()\n",
    "                loss.backward()\n",
    "                optimizer.step()\n",
    "    \n",
    "            if step % target_update_steps == 0:\n",
    "                target_net.load_state_dict(q_net.state_dict())\n",
    "    \n",
    "            epsilon = epsilon_start + (epsilon_end - epsilon_start) * min(1.0, (step / epsilon_decay))\n",
    "\n",
    "    except KeyboardInterrupt:\n",
    "        print(\"Training stopped manually.\")\n",
    "    \n",
    "    if wandb.run is not None:\n",
    "        wandb.unwatch()\n",
    "        wandb.finish()\n",
    "\n",
    "    env.close()"
   ]
  },
  {
   "cell_type": "markdown",
   "id": "8e76d6fd-6838-408b-bc93-c5366933c6a2",
   "metadata": {
    "jp-MarkdownHeadingCollapsed": true
   },
   "source": [
    "### Testing things"
   ]
  },
  {
   "cell_type": "code",
   "execution_count": 25,
   "id": "ac8af317-e703-4eaa-b6e6-d364ea9db75e",
   "metadata": {},
   "outputs": [],
   "source": [
    "_, rewards, *_ = vecenv.step(vecenv.action_space.sample())"
   ]
  },
  {
   "cell_type": "code",
   "execution_count": 26,
   "id": "5fae5381-5178-46ed-8bf0-459ec25ca9ae",
   "metadata": {},
   "outputs": [
    {
     "data": {
      "text/plain": [
       "array([0., 0., 0., 0., 0., 0., 0., 0.])"
      ]
     },
     "execution_count": 26,
     "metadata": {},
     "output_type": "execute_result"
    }
   ],
   "source": [
    "np.zeros(rewards.shape) + rewards"
   ]
  },
  {
   "cell_type": "code",
   "execution_count": 27,
   "id": "42f4d305-01f7-43d8-98c5-4be5344d0235",
   "metadata": {},
   "outputs": [],
   "source": [
    "obs, rewards, dones, truncateds, _ = vecenv.step(vecenv.action_space.sample())\n",
    "buf.extend(zip(obs, rewards, (dones | truncateds)))"
   ]
  },
  {
   "cell_type": "code",
   "execution_count": 28,
   "id": "97d849e1-2def-4570-9125-38833a5aef1d",
   "metadata": {},
   "outputs": [],
   "source": [
    "obs, rewards, dones = buf.sample(1)[0]"
   ]
  },
  {
   "cell_type": "code",
   "execution_count": 29,
   "id": "77efd155-e1c8-4e03-a69a-479ca480e957",
   "metadata": {},
   "outputs": [
    {
     "data": {
      "text/plain": [
       "((80, 4, 105), 0.0, False)"
      ]
     },
     "execution_count": 29,
     "metadata": {},
     "output_type": "execute_result"
    }
   ],
   "source": [
    "obs.shape, rewards, dones,"
   ]
  },
  {
   "cell_type": "code",
   "execution_count": 30,
   "id": "856d6ae8-97dc-49cc-b645-d04e1f819b23",
   "metadata": {},
   "outputs": [],
   "source": [
    "rewards = np.array([1, 1, 1, 1, 1, 1, 1, 1])\n",
    "dones = np.array([True, False, True, False, True, False, True, False])"
   ]
  },
  {
   "cell_type": "code",
   "execution_count": 31,
   "id": "93643424-6b24-4e0c-9d26-e3ab156c6671",
   "metadata": {},
   "outputs": [
    {
     "data": {
      "text/plain": [
       "array([0, 1, 0, 1, 0, 1, 0, 1])"
      ]
     },
     "execution_count": 31,
     "metadata": {},
     "output_type": "execute_result"
    }
   ],
   "source": [
    "rewards * ~dones"
   ]
  },
  {
   "cell_type": "code",
   "execution_count": 32,
   "id": "4f755ad0-b59e-4dca-b2f1-d30017f15176",
   "metadata": {},
   "outputs": [
    {
     "data": {
      "text/plain": [
       "(array([0, 2, 4, 6]),)"
      ]
     },
     "execution_count": 32,
     "metadata": {},
     "output_type": "execute_result"
    }
   ],
   "source": [
    "done_indices = np.where(dones)\n",
    "done_indices"
   ]
  },
  {
   "cell_type": "code",
   "execution_count": 33,
   "id": "3e708df4-06ff-466e-b722-e127da6bc5bd",
   "metadata": {},
   "outputs": [
    {
     "data": {
      "text/plain": [
       "array([1, 1, 1, 1, 1, 1, 1, 1])"
      ]
     },
     "execution_count": 33,
     "metadata": {},
     "output_type": "execute_result"
    }
   ],
   "source": [
    "rewards"
   ]
  },
  {
   "cell_type": "code",
   "execution_count": 34,
   "id": "188639c8-d13a-4ff4-9e02-186f0114350f",
   "metadata": {},
   "outputs": [
    {
     "data": {
      "text/plain": [
       "array([0, 1, 0, 1, 0, 1, 0, 1])"
      ]
     },
     "execution_count": 34,
     "metadata": {},
     "output_type": "execute_result"
    }
   ],
   "source": [
    "rewards[done_indices] = 0\n",
    "rewards"
   ]
  },
  {
   "cell_type": "code",
   "execution_count": 35,
   "id": "1aa373a8-a495-4799-b73c-785e1421040a",
   "metadata": {},
   "outputs": [
    {
     "data": {
      "text/plain": [
       "[('a', 'b'), (1, 2), (False, True)]"
      ]
     },
     "execution_count": 35,
     "metadata": {},
     "output_type": "execute_result"
    }
   ],
   "source": [
    "list(zip(*[[\"a\", 1, False], [\"b\", 2, True]]))"
   ]
  },
  {
   "cell_type": "code",
   "execution_count": 36,
   "id": "122d19ea-8091-41a4-abf3-0803ec1c628e",
   "metadata": {},
   "outputs": [
    {
     "data": {
      "text/plain": [
       "((2, 80, 4, 105), array([0., 0.], dtype=float32), array([False, False]))"
      ]
     },
     "execution_count": 36,
     "metadata": {},
     "output_type": "execute_result"
    }
   ],
   "source": [
    "obs, rewards, dones = zip(*buf.sample(2))\n",
    "np.array(obs).shape, np.array(rewards), np.array(dones)"
   ]
  },
  {
   "cell_type": "markdown",
   "id": "273b225d-aec4-4df8-a959-d9f428f4fe45",
   "metadata": {},
   "source": [
    "## Train an agent"
   ]
  },
  {
   "cell_type": "code",
   "execution_count": 37,
   "id": "9f023fbf-f2eb-4e57-88e0-94fe949f6f09",
   "metadata": {},
   "outputs": [],
   "source": [
    "import numpy as np\n",
    "import pufferlib\n",
    "import pufferlib.vector\n",
    "\n",
    "from pufferlib.environments import atari"
   ]
  },
  {
   "cell_type": "markdown",
   "id": "29e78625-66b8-4ce8-b2b5-607577e3851e",
   "metadata": {},
   "source": [
    "### Experiment Configuration"
   ]
  },
  {
   "cell_type": "code",
   "execution_count": 38,
   "id": "9ea1b293-1f21-48b0-907c-db5496f22e0e",
   "metadata": {},
   "outputs": [],
   "source": [
    "project = \"Puffer-Breakout-DQN\"\n",
    "env_name = \"breakout\"\n",
    "learning_rate = 1e-4\n",
    "num_envs = 8\n",
    "epsilon_start = 0.75\n",
    "epsilon_end = 0.01\n",
    "n_steps = int(1e6)\n",
    "epsilon_decay = 9 * n_steps // 10\n",
    "gamma = 1.0\n",
    "buffer_size = int(1e5)\n",
    "update_batch_size = 32\n",
    "target_update_steps = int(1e3)"
   ]
  },
  {
   "cell_type": "code",
   "execution_count": 39,
   "id": "f5b6f5e0-845d-4ba1-88d3-724f563df3d2",
   "metadata": {},
   "outputs": [
    {
     "name": "stderr",
     "output_type": "stream",
     "text": [
      "\u001b[34m\u001b[1mwandb\u001b[0m: Using wandb-core as the SDK backend.  Please refer to https://wandb.me/wandb-core for more information.\n",
      "\u001b[34m\u001b[1mwandb\u001b[0m: Currently logged in as: \u001b[33mfitti\u001b[0m. Use \u001b[1m`wandb login --relogin`\u001b[0m to force relogin\n"
     ]
    },
    {
     "data": {
      "text/html": [
       "Tracking run with wandb version 0.19.1"
      ],
      "text/plain": [
       "<IPython.core.display.HTML object>"
      ]
     },
     "metadata": {},
     "output_type": "display_data"
    },
    {
     "data": {
      "text/html": [
       "Run data is saved locally in <code>/home/fitti/projects/puffer/wandb/run-20250215_151512-rw2did43</code>"
      ],
      "text/plain": [
       "<IPython.core.display.HTML object>"
      ]
     },
     "metadata": {},
     "output_type": "display_data"
    },
    {
     "data": {
      "text/html": [
       "Syncing run <strong><a href='https://wandb.ai/fitti/Puffer-Breakout-DQN/runs/rw2did43' target=\"_blank\">eye-catching-heart-11</a></strong> to <a href='https://wandb.ai/fitti/Puffer-Breakout-DQN' target=\"_blank\">Weights & Biases</a> (<a href='https://wandb.me/developer-guide' target=\"_blank\">docs</a>)<br>"
      ],
      "text/plain": [
       "<IPython.core.display.HTML object>"
      ]
     },
     "metadata": {},
     "output_type": "display_data"
    },
    {
     "data": {
      "text/html": [
       " View project at <a href='https://wandb.ai/fitti/Puffer-Breakout-DQN' target=\"_blank\">https://wandb.ai/fitti/Puffer-Breakout-DQN</a>"
      ],
      "text/plain": [
       "<IPython.core.display.HTML object>"
      ]
     },
     "metadata": {},
     "output_type": "display_data"
    },
    {
     "data": {
      "text/html": [
       " View run at <a href='https://wandb.ai/fitti/Puffer-Breakout-DQN/runs/rw2did43' target=\"_blank\">https://wandb.ai/fitti/Puffer-Breakout-DQN/runs/rw2did43</a>"
      ],
      "text/plain": [
       "<IPython.core.display.HTML object>"
      ]
     },
     "metadata": {},
     "output_type": "display_data"
    },
    {
     "data": {
      "text/html": [
       "<button onClick=\"this.nextSibling.style.display='block';this.style.display='none';\">Display W&B run</button><iframe src='https://wandb.ai/fitti/Puffer-Breakout-DQN/runs/rw2did43?jupyter=true' style='border:none;width:100%;height:420px;display:none;'></iframe>"
      ],
      "text/plain": [
       "<wandb.sdk.wandb_run.Run at 0x7b780c118b10>"
      ]
     },
     "execution_count": 39,
     "metadata": {},
     "output_type": "execute_result"
    }
   ],
   "source": [
    "wandb.init(\n",
    "    project=project,\n",
    "    config={\n",
    "        \"lr\": learning_rate,\n",
    "        \"eps_start\": epsilon_start,\n",
    "        \"eps_end\": epsilon_end,\n",
    "        \"eps_decay\": epsilon_decay,\n",
    "        \"gamma\": gamma,\n",
    "        \"buffer_size\": buffer_size,\n",
    "        \"update_batch_size\": update_batch_size,\n",
    "        \"target_update_steps\": target_update_steps,\n",
    "        \"n_steps\": n_steps,\n",
    "    }\n",
    ")"
   ]
  },
  {
   "cell_type": "code",
   "execution_count": 40,
   "id": "50608578-3b2c-42fb-a804-4183646da162",
   "metadata": {},
   "outputs": [],
   "source": [
    "env_creator = atari.env_creator(env_name)\n",
    "\n",
    "vecenv = pufferlib.vector.make(\n",
    "    env_creator,\n",
    "    env_kwargs={\n",
    "        \"framestack\": 4,\n",
    "    },\n",
    "    backend=pufferlib.vector.Multiprocessing,\n",
    "    num_envs=num_envs\n",
    ")"
   ]
  },
  {
   "cell_type": "code",
   "execution_count": 41,
   "id": "d8f644b7-fe16-4196-a15d-83e6b981e09e",
   "metadata": {},
   "outputs": [
    {
     "data": {
      "text/plain": [
       "(8, 80, 4, 105)"
      ]
     },
     "execution_count": 41,
     "metadata": {},
     "output_type": "execute_result"
    }
   ],
   "source": [
    "obs_shape = vecenv.obs_batch_shape\n",
    "obs_shape"
   ]
  },
  {
   "cell_type": "code",
   "execution_count": 42,
   "id": "c0f62a16-c9eb-410e-86f9-756eb65e7679",
   "metadata": {},
   "outputs": [
    {
     "data": {
      "text/plain": [
       "4"
      ]
     },
     "execution_count": 42,
     "metadata": {},
     "output_type": "execute_result"
    }
   ],
   "source": [
    "n_actions = vecenv.action_space.nvec[0]\n",
    "n_actions"
   ]
  },
  {
   "cell_type": "code",
   "execution_count": 43,
   "id": "b0d67b0d-5c3b-49cf-9b9d-a618e89b374a",
   "metadata": {},
   "outputs": [],
   "source": [
    "device = torch.device(\"cuda\" if torch.cuda.is_available() else \"cpu\")"
   ]
  },
  {
   "cell_type": "code",
   "execution_count": 44,
   "id": "bf4ea0ae-7e49-4d62-9aa6-2478c1a46e3a",
   "metadata": {},
   "outputs": [
    {
     "name": "stdout",
     "output_type": "stream",
     "text": [
      "QNetwork(\n",
      "  (convs): Sequential(\n",
      "    (0): Conv2d(4, 16, kernel_size=(3, 3), stride=(1, 1), padding=(1, 1))\n",
      "    (1): MaxPool2d(kernel_size=2, stride=2, padding=0, dilation=1, ceil_mode=False)\n",
      "    (2): Conv2d(16, 32, kernel_size=(3, 3), stride=(1, 1), padding=(1, 1))\n",
      "    (3): MaxPool2d(kernel_size=2, stride=2, padding=0, dilation=1, ceil_mode=False)\n",
      "    (4): Conv2d(32, 64, kernel_size=(3, 3), stride=(1, 1), padding=(1, 1))\n",
      "    (5): MaxPool2d(kernel_size=2, stride=2, padding=0, dilation=1, ceil_mode=False)\n",
      "  )\n",
      "  (mlp): Sequential(\n",
      "    (0): Flatten(start_dim=1, end_dim=-1)\n",
      "    (1): Linear(in_features=8320, out_features=128, bias=True)\n",
      "    (2): ReLU()\n",
      "    (3): Linear(in_features=128, out_features=4, bias=True)\n",
      "  )\n",
      ") \n",
      "1,089,332\n"
     ]
    }
   ],
   "source": [
    "q_net = QNetwork(obs_shape, n_actions).to(device=device)\n",
    "target_net = QNetwork(obs_shape, n_actions).to(device=device)\n",
    "target_net.load_state_dict(q_net.state_dict())\n",
    "target_net.eval()\n",
    "print(q_net, f\"\\n{sum(p.numel() for p in q_net.parameters()):,}\")"
   ]
  },
  {
   "cell_type": "code",
   "execution_count": 45,
   "id": "dcee70bc-9de5-465c-8811-ff0c0ce67768",
   "metadata": {},
   "outputs": [],
   "source": [
    "if wandb.run is not None:\n",
    "    wandb.watch(q_net, log=\"all\")"
   ]
  },
  {
   "cell_type": "code",
   "execution_count": 46,
   "id": "d7d302b0-90dd-44d3-93c9-968ed1be9048",
   "metadata": {},
   "outputs": [],
   "source": [
    "optimizer = optim.Adam(q_net.parameters(), lr=learning_rate)"
   ]
  },
  {
   "cell_type": "code",
   "execution_count": 47,
   "id": "92a49058-59ad-41c2-b383-9f068ad0a205",
   "metadata": {},
   "outputs": [],
   "source": [
    "loss_fn = nn.SmoothL1Loss()"
   ]
  },
  {
   "cell_type": "code",
   "execution_count": null,
   "id": "6a9bf423-ec5c-4eb9-ba0a-f60dd4315590",
   "metadata": {},
   "outputs": [
    {
     "data": {
      "application/vnd.jupyter.widget-view+json": {
       "model_id": "18b43b547acf491ebd3a78e6f5d9276d",
       "version_major": 2,
       "version_minor": 0
      },
      "text/plain": [
       "Steps:   0%|          | 0/1000000 [00:00<?, ?it/s]"
      ]
     },
     "metadata": {},
     "output_type": "display_data"
    }
   ],
   "source": [
    "train(\n",
    "    net=q_net,\n",
    "    target_net=target_net,\n",
    "    optimizer=optimizer,\n",
    "    loss_fn=loss_fn,\n",
    "    env=vecenv,\n",
    "    epsilon_start=epsilon_start,\n",
    "    epsilon_end=epsilon_end,\n",
    "    epsilon_decay=epsilon_decay,\n",
    "    gamma=gamma,\n",
    "    buffer_size=buffer_size,\n",
    "    update_batch_size=update_batch_size,\n",
    "    target_update_steps=target_update_steps,\n",
    "    n_steps=n_steps,\n",
    ")"
   ]
  }
 ],
 "metadata": {
  "kernelspec": {
   "display_name": "Python 3 (ipykernel)",
   "language": "python",
   "name": "python3"
  },
  "language_info": {
   "codemirror_mode": {
    "name": "ipython",
    "version": 3
   },
   "file_extension": ".py",
   "mimetype": "text/x-python",
   "name": "python",
   "nbconvert_exporter": "python",
   "pygments_lexer": "ipython3",
   "version": "3.11.11"
  }
 },
 "nbformat": 4,
 "nbformat_minor": 5
}
