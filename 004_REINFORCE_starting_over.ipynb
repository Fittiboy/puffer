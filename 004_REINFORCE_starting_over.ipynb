{
 "cells": [
  {
   "cell_type": "code",
   "execution_count": 1,
   "id": "fd9339b7-5f15-4349-b4a8-73bb2b27e0d4",
   "metadata": {},
   "outputs": [],
   "source": [
    "import numpy as np\n",
    "import pufferlib, pufferlib.vector\n",
    "from pufferlib.environments import classic_control"
   ]
  },
  {
   "cell_type": "code",
   "execution_count": 2,
   "id": "404c2cde-21cd-4eb5-af67-b1e213499852",
   "metadata": {},
   "outputs": [],
   "source": [
    "num_envs = 12"
   ]
  },
  {
   "cell_type": "code",
   "execution_count": 3,
   "id": "f92823ba-6ae0-4de7-8d77-704e62476f35",
   "metadata": {},
   "outputs": [],
   "source": [
    "vecenv = pufferlib.vector.make(\n",
    "    classic_control.env_creator(\"CartPole-v1\"),\n",
    "    num_envs=num_envs,\n",
    "    backend=pufferlib.vector.Multiprocessing,\n",
    ")"
   ]
  },
  {
   "cell_type": "code",
   "execution_count": 4,
   "id": "bbf3a594-1e0c-48d4-aca0-a751953057d6",
   "metadata": {},
   "outputs": [
    {
     "data": {
      "text/plain": [
       "(22.064, 1933)"
      ]
     },
     "execution_count": 4,
     "metadata": {},
     "output_type": "execute_result"
    }
   ],
   "source": [
    "env_rewards = [list() for _ in range(num_envs)]\n",
    "env_rewards\n",
    "\n",
    "returns = []\n",
    "\n",
    "from itertools import count\n",
    "\n",
    "dones = np.array([False] * num_envs)\n",
    "truncateds = np.array([False] * num_envs)\n",
    "dones, truncateds\n",
    "\n",
    "obs, _ = vecenv.reset()\n",
    "episodes = 0\n",
    "for t in count():\n",
    "    obs, rewards, dones, truncateds, _ = vecenv.step(vecenv.action_space.sample())\n",
    "    for i, reward in enumerate(rewards):\n",
    "        env_rewards[i].append(reward)\n",
    "    for i in np.where(dones | truncateds)[0]:\n",
    "        returns.append(sum(env_rewards[i]))\n",
    "        env_rewards[i] = []\n",
    "        episodes += 1\n",
    "    if episodes >= 1_000:\n",
    "        break\n",
    "\n",
    "np.mean([np.sum(rets) for rets in returns]), t"
   ]
  },
  {
   "cell_type": "code",
   "execution_count": 5,
   "id": "beae8073-5836-4fdc-aadb-07bdf55023be",
   "metadata": {},
   "outputs": [],
   "source": [
    "import torch\n",
    "from torch import nn"
   ]
  },
  {
   "cell_type": "code",
   "execution_count": 6,
   "id": "f8a70469-b3f6-4b3f-a431-1203c5b6aef9",
   "metadata": {},
   "outputs": [],
   "source": [
    "class PolicyNetwork(nn.Module):\n",
    "    def __init__(self, n_input, n_hiddens, n_actions):\n",
    "        super().__init__()\n",
    "        self.mlp = nn.Sequential(\n",
    "            nn.Linear(n_input, n_hiddens),\n",
    "            nn.ReLU(),\n",
    "            nn.Linear(n_hiddens, n_actions),\n",
    "        )\n",
    "\n",
    "    def forward(self, x):\n",
    "        device = next(self.mlp.parameters()).device\n",
    "        x = torch.tensor(np.array(x), dtype=torch.float32, device=device)\n",
    "        \n",
    "        return self.mlp(x)"
   ]
  },
  {
   "cell_type": "code",
   "execution_count": 7,
   "id": "3c4d6034-ce52-45d4-b9fd-7d28fab31574",
   "metadata": {},
   "outputs": [],
   "source": [
    "import random"
   ]
  },
  {
   "cell_type": "code",
   "execution_count": 8,
   "id": "b12c0c99-c683-4505-9a65-c3816f0a3d87",
   "metadata": {},
   "outputs": [],
   "source": [
    "def select_actions(logits):\n",
    "    dist = torch.distributions.Categorical(logits=logits) # shape [batch_size, n_actions]\n",
    "    \n",
    "    actions = dist.sample() # Shape: [n_actions]\n",
    "    log_probs = dist.log_prob(actions)\n",
    "    entropies = dist.entropy()\n",
    "\n",
    "    return actions.cpu(), log_probs, entropies"
   ]
  },
  {
   "cell_type": "code",
   "execution_count": 9,
   "id": "bf979014-3a61-4539-9ba3-982976e1192a",
   "metadata": {},
   "outputs": [],
   "source": [
    "device = torch.device(\"cuda\" if torch.cuda.is_available() else \"cpu\")"
   ]
  },
  {
   "cell_type": "code",
   "execution_count": 10,
   "id": "eec0e14a-0153-4013-b9ca-e7f6ce219412",
   "metadata": {},
   "outputs": [],
   "source": [
    "from torch import optim\n",
    "\n",
    "from itertools import count\n",
    "from tqdm.auto import tqdm\n",
    "\n",
    "import wandb"
   ]
  },
  {
   "cell_type": "markdown",
   "id": "638c7823-1979-49f4-b1b9-983468e9ef4f",
   "metadata": {},
   "source": [
    "* We need to perform gradient ascent on the objective, $\\nabla_\\theta J(\\theta)=\\nabla_\\theta\\operatorname{log}\\pi_\\theta(a_t|s_t)G_t$, which means descending the negative $\\operatorname{log}$ gradient\n",
    "* We have to store rewards at each step, as well as log probs\n",
    "* Tracking entropy can be useful for diagnosing issues"
   ]
  },
  {
   "cell_type": "code",
   "execution_count": null,
   "id": "59c88949-607b-4710-b806-796a5654e963",
   "metadata": {},
   "outputs": [],
   "source": [
    "def train(\n",
    "    n_episodes = 8_000,\n",
    "    learning_rate = 1e-4,\n",
    "    leave_bar = True,\n",
    "    suggestion_uuid = None,\n",
    "):  \n",
    "    net = PolicyNetwork(n_input, n_hiddens, n_actions).to(device)\n",
    "\n",
    "    if wandb.run is not None:\n",
    "        wandb.watch(net, log=\"all\")\n",
    "\n",
    "    env_log_probs = [list() for _ in range(num_envs)]\n",
    "    env_entropies = [list() for _ in range(num_envs)]\n",
    "    env_rewards = [list() for _ in range(num_envs)]\n",
    "    returns = []\n",
    "    loss = None\n",
    "    \n",
    "    gamma = 1.0\n",
    "    \n",
    "    optimizer = optim.Adam(net.parameters(), lr=learning_rate)\n",
    "    \n",
    "    obs, _ = vecenv.reset()\n",
    "    obs = obs.copy()\n",
    "    episodes = 0\n",
    "    bar = tqdm(\n",
    "        desc=\"Episodes\",\n",
    "        total=n_episodes,\n",
    "        initial=0,\n",
    "        leave=leave_bar,\n",
    "    )\n",
    "    \n",
    "    try:\n",
    "        for t in count():\n",
    "            with torch.no_grad():\n",
    "                logits = net(obs)\n",
    "                actions, log_probs, entropies = select_actions(logits)\n",
    "        \n",
    "            next_obs, rewards, dones, truncateds, _ = vecenv.step(actions)\n",
    "            obs = next_obs.copy()\n",
    "        \n",
    "            for i, (log_prob, entropy, reward) in enumerate(zip(log_probs, entropies, rewards)):\n",
    "                env_log_probs[i].append(log_prob)\n",
    "                env_entropies[i].append(entropy)\n",
    "                env_rewards[i].append(reward)\n",
    "\n",
    "            if len(buffer) >= update_batch_size:\n",
    "                obs_s, actions_s, rewards_s, next_obs_s, dones_s = zip(*buffer.sample(update_batch_size))\n",
    "                \n",
    "                actions_t = torch.tensor(actions_s, device=device).unsqueeze(1)\n",
    "                q_values_t = net(obs_s).gather(1, actions_t).squeeze(1)\n",
    "                rewards_t = torch.tensor(rewards_s, device=device) / 500.\n",
    "                dones_t = torch.tensor(dones_s, device=device)\n",
    "                with torch.no_grad():\n",
    "                    target_q_values_t = target_net(next_obs_s).max(dim=1).values\n",
    "        \n",
    "                target = rewards_t + gamma * ~dones_t * target_q_values_t\n",
    "                loss = loss_fn(target, q_values_t)\n",
    "        \n",
    "        \n",
    "                optimizer.zero_grad()\n",
    "                loss.backward()\n",
    "                optimizer.step()\n",
    "                \n",
    "            step_returns = []\n",
    "                \n",
    "            for i in np.where(dones | truncateds)[0]:\n",
    "                ret = sum(env_rewards[i])\n",
    "                returns.append(ret)\n",
    "                env_rewards[i] = []\n",
    "                episodes += 1\n",
    "                if epsilon >= epsilon_end:\n",
    "                    epsilon -= epsilon_decay_rate\n",
    "                bar.update()\n",
    "\n",
    "                if wandb.run is not None:\n",
    "                    wandb.log(\n",
    "                        data={\n",
    "                            \"avg_return\": ret,\n",
    "                            \"epsilon\": epsilon,\n",
    "                            \"loss\": loss,\n",
    "                        },\n",
    "                        commit=True,\n",
    "                    )\n",
    "        \n",
    "            if episodes >= n_episodes:\n",
    "                bar.close()\n",
    "                model_path = \"./models/REINFORCE_scratch_CartPole_latest.pt\"\n",
    "                torch.save(net.state_dict(), model_path)\n",
    "                wandb.log_model(model_path, \"latest\")\n",
    "                wandb.unwatch()\n",
    "                net.eval()\n",
    "                break\n",
    "        \n",
    "            if episodes % n_target_update_eps == 0:\n",
    "                target_net.load_state_dict(net.state_dict())\n",
    "\n",
    "    except KeyboardInterrupt:\n",
    "        print(\"Training halted manually.\")\n",
    "    \n",
    "    mean_last_100 = np.mean([np.sum(rets) for rets in returns[-100:]])\n",
    "    max_last_100 = np.max([np.sum(rets) for rets in returns[-100:]])\n",
    "    return net, mean_last_100, max_last_100, t"
   ]
  },
  {
   "cell_type": "code",
   "execution_count": null,
   "id": "0f1a3add-5193-4da5-aa9d-e3d0787113ed",
   "metadata": {},
   "outputs": [],
   "source": [
    "from carbs import CARBS, CARBSParams, LinearSpace, LogSpace, LogitSpace, ObservationInParam, ParamDictType, Param\n",
    "import time"
   ]
  },
  {
   "cell_type": "raw",
   "id": "69287e95-d6ca-4894-9941-2f7b7862705f",
   "metadata": {
    "jupyter": {
     "source_hidden": true
    }
   },
   "source": [
    "n_input = vecenv.single_observation_space.shape[0]\n",
    "n_actions = vecenv.single_action_space.n\n",
    "n_hiddens = 16\n",
    "\n",
    "n_target_update_eps = 60\n",
    "n_episodes = 600\n",
    "update_batch_size = 128\n",
    "learning_rate = 1e-4\n",
    "epsilon_start = 1.0\n",
    "epsilon_end = 0.05\n",
    "epsilon_decay_percent = 0.8\n",
    "\n",
    "param_spaces = [\n",
    "    Param(name=\"n_target_update_eps\", space=LinearSpace(is_integer=True, scale=3, min=10, max=10_000), search_center=60),\n",
    "    Param(name=\"n_episodes\", space=LogSpace(is_integer=True, min=5_000, max=10_000), search_center=8_000),\n",
    "    Param(name=\"update_batch_size\", space=LogSpace(is_integer=True, min=2, max=512), search_center=128),\n",
    "    Param(name=\"learning_rate\", space=LogSpace(scale=0.5), search_center=1e-4),\n",
    "    Param(name=\"epsilon_start\", space=LinearSpace(min=0.5, max=1.0), search_center=1.0),\n",
    "    Param(name=\"epsilon_end\", space=LinearSpace(min=0.0, max=0.5), search_center=0.1),\n",
    "    Param(name=\"epsilon_decay_percent\", space=LogitSpace(), search_center=0.9),\n",
    "]\n",
    "\n",
    "carbs_params = CARBSParams(\n",
    "    is_wandb_logging_enabled=False,\n",
    ")\n",
    "\n",
    "carbs = CARBS(carbs_params, param_spaces)\n",
    "\n",
    "best_return = -1.0\n",
    "best_time = 1e37\n",
    "best_suggestion = None\n",
    "pefects = 0\n",
    "\n",
    "for run in count(1):\n",
    "    suggestion = carbs.suggest().suggestion\n",
    "    \n",
    "    start_time = time.time()\n",
    "    net, mean_return, max_return, t = train(leave_bar=False, **suggestion)\n",
    "    elapsed_time = time.time() - start_time\n",
    "\n",
    "    if mean_return > best_return or (mean_return == best_return and elapsed_time < best_time):\n",
    "        best_return = mean_return\n",
    "        best_time = elapsed_time\n",
    "        best_suggestion = suggestion\n",
    "    \n",
    "    print(f\"Run {run:<3}   \", end=\"\")\n",
    "    print(f\"Time: {elapsed_time:6.2f}s\", end=\"\\t\")\n",
    "    \n",
    "    print(f\"Mean ret: {mean_return:6.2f}, \", end=\"\")\n",
    "    print(f\"Max ret: {max_return:6.2f}\", end=\"\\t\")\n",
    "    print(f\"\\tBest: {best_return:6.2f}, {best_time:6.2f}s\", end=\"\\t\\r\")\n",
    "    \n",
    "    obs_out = carbs.observe(ObservationInParam(input=suggestion, output=mean_return, cost=elapsed_time))\n",
    "\n",
    "    if mean_return >= 500.0:\n",
    "        perfects += 1\n",
    "        if perfects >= 10:\n",
    "            break"
   ]
  },
  {
   "cell_type": "raw",
   "id": "6d966926-d7fb-43bd-9983-54c847f41c3f",
   "metadata": {
    "jupyter": {
     "source_hidden": true
    }
   },
   "source": [
    "from pprint import pprint\n",
    "pprint(best_suggestion)"
   ]
  },
  {
   "cell_type": "raw",
   "id": "5a3019c5-73de-45ab-87f8-c10265bbbdf1",
   "metadata": {
    "jupyter": {
     "source_hidden": true
    }
   },
   "source": [
    "net, mean_last_100, max_last_100, t = train(**best_suggestion)\n",
    "mean_last_100, max_last_100, t"
   ]
  },
  {
   "cell_type": "code",
   "execution_count": null,
   "id": "58ee1511-10f8-47e2-a8be-4933d045bedc",
   "metadata": {},
   "outputs": [],
   "source": [
    "n_input = vecenv.single_observation_space.shape[0]\n",
    "n_actions = vecenv.single_action_space.n\n",
    "n_hiddens = 16\n",
    "\n",
    "n_target_update_eps = 60\n",
    "n_episodes = 8_000\n",
    "update_batch_size = 256\n",
    "learning_rate = 1e-4\n",
    "epsilon_start = 0.9\n",
    "epsilon_end = 0.0\n",
    "epsilon_decay_percent = 0.8\n",
    "\n",
    "project = \"DQN-scratch-CartPole\"\n",
    "config = {\n",
    "    \"num_envs\": num_envs,\n",
    "    \"n_hiddens\": n_hiddens,\n",
    "    \"n_target_update_eps\": n_target_update_eps,\n",
    "    \"n_episodes\": n_episodes,\n",
    "    \"update_batch_size\": update_batch_size,\n",
    "    \"learning_rate\": learning_rate,\n",
    "    \"epsilon_start\": epsilon_start,\n",
    "    \"epsilon_end\": epsilon_end,\n",
    "    \"epsilon_decay_percent\": epsilon_decay_percent,\n",
    "}\n",
    "\n",
    "wandb.init(\n",
    "    project=project,\n",
    "    config=config,\n",
    ")\n",
    "    \n",
    "net, mean_return, max_return, t = train(\n",
    "    n_target_update_eps=n_target_update_eps,\n",
    "    n_episodes=n_episodes,\n",
    "    update_batch_size=update_batch_size,\n",
    "    learning_rate=learning_rate,\n",
    "    epsilon_start=epsilon_start,\n",
    "    epsilon_end=epsilon_end,\n",
    "    epsilon_decay_percent=epsilon_decay_percent,\n",
    ")\n",
    "\n",
    "mean_return, max_return"
   ]
  },
  {
   "cell_type": "code",
   "execution_count": null,
   "id": "1744d8f2-80dc-41a3-9b77-1105a621735d",
   "metadata": {},
   "outputs": [],
   "source": [
    "import gymnasium as gym\n",
    "import numpy as np\n",
    "from datetime import datetime\n",
    "from pathlib import Path\n",
    "\n",
    "timestamp = datetime.now().strftime('%Y%m%d_%H%M%S')\n",
    "video_folder = f\"./videos/DQN_scratch_CartPole_{timestamp}\"\n",
    "\n",
    "env = gym.make(\"CartPole-v1\", render_mode=\"rgb_array\")\n",
    "env = gym.wrappers.RecordVideo(env, video_folder)\n",
    "\n",
    "epsilon = 0.0\n",
    "\n",
    "for _ in range(9):\n",
    "    ob, _ = env.reset()\n",
    "    ob = np.expand_dims(ob, 0)\n",
    "    ret = 0\n",
    "    done, truncated = False, False\n",
    "    while not (done or truncated):\n",
    "        with torch.no_grad():\n",
    "            q_values = net(ob)\n",
    "        actions = select_actions(q_values, epsilon)\n",
    "        ob, reward, done, truncated, _ = env.step(actions[0])\n",
    "        ob = np.expand_dims(ob, 0)\n",
    "        ret += reward\n",
    "    \n",
    "    print(ret)\n",
    "\n",
    "if wandb.run is not None:\n",
    "    latest_video = max(\n",
    "        Path(video_folder).glob(\"*.mp4\"),\n",
    "        key=lambda x: x.stat().st_mtime\n",
    "    )\n",
    "    wandb.log({\n",
    "        \"video\": wandb.Video(str(latest_video))\n",
    "    })\n",
    "    wandb.finish()\n",
    "    \n",
    "env.close()"
   ]
  }
 ],
 "metadata": {
  "kernelspec": {
   "display_name": "Python 3 (ipykernel)",
   "language": "python",
   "name": "python3"
  },
  "language_info": {
   "codemirror_mode": {
    "name": "ipython",
    "version": 3
   },
   "file_extension": ".py",
   "mimetype": "text/x-python",
   "name": "python",
   "nbconvert_exporter": "python",
   "pygments_lexer": "ipython3",
   "version": "3.11.11"
  }
 },
 "nbformat": 4,
 "nbformat_minor": 5
}
