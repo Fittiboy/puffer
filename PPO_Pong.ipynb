{
 "cells": [
  {
   "cell_type": "code",
   "execution_count": 1,
   "id": "fd9339b7-5f15-4349-b4a8-73bb2b27e0d4",
   "metadata": {},
   "outputs": [],
   "source": [
    "import einops\n",
    "import numpy as np\n",
    "import pufferlib, pufferlib.vector\n",
    "from pufferlib.environments import atari"
   ]
  },
  {
   "cell_type": "code",
   "execution_count": 2,
   "id": "404c2cde-21cd-4eb5-af67-b1e213499852",
   "metadata": {},
   "outputs": [],
   "source": [
    "game = \"pong\"\n",
    "num_envs = 12"
   ]
  },
  {
   "cell_type": "code",
   "execution_count": 3,
   "id": "f92823ba-6ae0-4de7-8d77-704e62476f35",
   "metadata": {},
   "outputs": [
    {
     "name": "stderr",
     "output_type": "stream",
     "text": [
      "A.L.E: Arcade Learning Environment (version 0.9.0+750d7f9)\n",
      "[Powered by Stella]\n",
      "Process Process-12:\n",
      "Process Process-6:\n",
      "Process Process-4:\n",
      "Process Process-10:\n",
      "Process Process-11:\n",
      "Process Process-2:\n",
      "Process Process-3:\n",
      "Process Process-1:\n",
      "Process Process-9:\n",
      "Process Process-5:\n",
      "Traceback (most recent call last):\n",
      "Traceback (most recent call last):\n",
      "Traceback (most recent call last):\n",
      "Traceback (most recent call last):\n",
      "Traceback (most recent call last):\n",
      "Traceback (most recent call last):\n",
      "Traceback (most recent call last):\n",
      "Traceback (most recent call last):\n",
      "Traceback (most recent call last):\n",
      "  File \"/home/fitti/.conda/envs/puffer/lib/python3.11/multiprocessing/process.py\", line 314, in _bootstrap\n",
      "    self.run()\n",
      "Traceback (most recent call last):\n",
      "  File \"/home/fitti/.conda/envs/puffer/lib/python3.11/multiprocessing/process.py\", line 314, in _bootstrap\n",
      "    self.run()\n",
      "  File \"/home/fitti/.conda/envs/puffer/lib/python3.11/multiprocessing/process.py\", line 314, in _bootstrap\n",
      "    self.run()\n",
      "  File \"/home/fitti/.conda/envs/puffer/lib/python3.11/multiprocessing/process.py\", line 314, in _bootstrap\n",
      "    self.run()\n",
      "  File \"/home/fitti/.conda/envs/puffer/lib/python3.11/multiprocessing/process.py\", line 314, in _bootstrap\n",
      "    self.run()\n",
      "  File \"/home/fitti/.conda/envs/puffer/lib/python3.11/multiprocessing/process.py\", line 314, in _bootstrap\n",
      "    self.run()\n",
      "  File \"/home/fitti/.conda/envs/puffer/lib/python3.11/multiprocessing/process.py\", line 314, in _bootstrap\n",
      "    self.run()\n",
      "  File \"/home/fitti/.conda/envs/puffer/lib/python3.11/multiprocessing/process.py\", line 108, in run\n",
      "    self._target(*self._args, **self._kwargs)\n",
      "  File \"/home/fitti/.conda/envs/puffer/lib/python3.11/multiprocessing/process.py\", line 314, in _bootstrap\n",
      "    self.run()\n",
      "  File \"/home/fitti/.conda/envs/puffer/lib/python3.11/multiprocessing/process.py\", line 108, in run\n",
      "    self._target(*self._args, **self._kwargs)\n",
      "  File \"/home/fitti/.conda/envs/puffer/lib/python3.11/multiprocessing/process.py\", line 314, in _bootstrap\n",
      "    self.run()\n",
      "  File \"/home/fitti/.conda/envs/puffer/lib/python3.11/multiprocessing/process.py\", line 108, in run\n",
      "    self._target(*self._args, **self._kwargs)\n",
      "  File \"/home/fitti/.conda/envs/puffer/lib/python3.11/multiprocessing/process.py\", line 108, in run\n",
      "    self._target(*self._args, **self._kwargs)\n",
      "  File \"/home/fitti/.conda/envs/puffer/lib/python3.11/multiprocessing/process.py\", line 314, in _bootstrap\n",
      "    self.run()\n",
      "  File \"/home/fitti/.conda/envs/puffer/lib/python3.11/multiprocessing/process.py\", line 108, in run\n",
      "    self._target(*self._args, **self._kwargs)\n",
      "  File \"/home/fitti/.conda/envs/puffer/lib/python3.11/multiprocessing/process.py\", line 108, in run\n",
      "    self._target(*self._args, **self._kwargs)\n",
      "  File \"/home/fitti/.conda/envs/puffer/lib/python3.11/multiprocessing/process.py\", line 108, in run\n",
      "    self._target(*self._args, **self._kwargs)\n",
      "  File \"/home/fitti/.conda/envs/puffer/lib/python3.11/site-packages/pufferlib/vector.py\", line 177, in _worker_process\n",
      "    time.sleep(0.01)\n",
      "  File \"/home/fitti/.conda/envs/puffer/lib/python3.11/multiprocessing/process.py\", line 108, in run\n",
      "    self._target(*self._args, **self._kwargs)\n",
      "  File \"/home/fitti/.conda/envs/puffer/lib/python3.11/site-packages/pufferlib/vector.py\", line 177, in _worker_process\n",
      "    time.sleep(0.01)\n",
      "  File \"/home/fitti/.conda/envs/puffer/lib/python3.11/multiprocessing/process.py\", line 108, in run\n",
      "    self._target(*self._args, **self._kwargs)\n",
      "  File \"/home/fitti/.conda/envs/puffer/lib/python3.11/site-packages/pufferlib/vector.py\", line 177, in _worker_process\n",
      "    time.sleep(0.01)\n",
      "  File \"/home/fitti/.conda/envs/puffer/lib/python3.11/site-packages/pufferlib/vector.py\", line 177, in _worker_process\n",
      "    time.sleep(0.01)\n",
      "  File \"/home/fitti/.conda/envs/puffer/lib/python3.11/multiprocessing/process.py\", line 108, in run\n",
      "    self._target(*self._args, **self._kwargs)\n",
      "  File \"/home/fitti/.conda/envs/puffer/lib/python3.11/site-packages/pufferlib/vector.py\", line 177, in _worker_process\n",
      "    time.sleep(0.01)\n",
      "  File \"/home/fitti/.conda/envs/puffer/lib/python3.11/site-packages/pufferlib/vector.py\", line 177, in _worker_process\n",
      "    time.sleep(0.01)\n",
      "  File \"/home/fitti/.conda/envs/puffer/lib/python3.11/site-packages/pufferlib/vector.py\", line 177, in _worker_process\n",
      "    time.sleep(0.01)\n",
      "KeyboardInterrupt\n",
      "  File \"/home/fitti/.conda/envs/puffer/lib/python3.11/site-packages/pufferlib/vector.py\", line 177, in _worker_process\n",
      "    time.sleep(0.01)\n",
      "KeyboardInterrupt\n",
      "  File \"/home/fitti/.conda/envs/puffer/lib/python3.11/site-packages/pufferlib/vector.py\", line 177, in _worker_process\n",
      "    time.sleep(0.01)\n",
      "KeyboardInterrupt\n",
      "KeyboardInterrupt\n",
      "  File \"/home/fitti/.conda/envs/puffer/lib/python3.11/site-packages/pufferlib/vector.py\", line 177, in _worker_process\n",
      "    time.sleep(0.01)\n",
      "KeyboardInterrupt\n",
      "KeyboardInterrupt\n",
      "KeyboardInterrupt\n",
      "KeyboardInterrupt\n",
      "KeyboardInterrupt\n",
      "KeyboardInterrupt\n",
      "Process Process-7:\n",
      "Traceback (most recent call last):\n",
      "  File \"/home/fitti/.conda/envs/puffer/lib/python3.11/multiprocessing/process.py\", line 314, in _bootstrap\n",
      "    self.run()\n",
      "  File \"/home/fitti/.conda/envs/puffer/lib/python3.11/multiprocessing/process.py\", line 108, in run\n",
      "    self._target(*self._args, **self._kwargs)\n",
      "  File \"/home/fitti/.conda/envs/puffer/lib/python3.11/site-packages/pufferlib/vector.py\", line 177, in _worker_process\n",
      "    time.sleep(0.01)\n",
      "KeyboardInterrupt\n",
      "Process Process-8:\n",
      "Traceback (most recent call last):\n",
      "  File \"/home/fitti/.conda/envs/puffer/lib/python3.11/multiprocessing/process.py\", line 314, in _bootstrap\n",
      "    self.run()\n",
      "  File \"/home/fitti/.conda/envs/puffer/lib/python3.11/multiprocessing/process.py\", line 108, in run\n",
      "    self._target(*self._args, **self._kwargs)\n",
      "  File \"/home/fitti/.conda/envs/puffer/lib/python3.11/site-packages/pufferlib/vector.py\", line 177, in _worker_process\n",
      "    time.sleep(0.01)\n",
      "KeyboardInterrupt\n"
     ]
    }
   ],
   "source": [
    "vecenv = pufferlib.vector.make(\n",
    "    atari.env_creator(game),\n",
    "    num_envs=num_envs,\n",
    "    backend=pufferlib.vector.Multiprocessing,\n",
    "    env_kwargs={\"framestack\": 4},\n",
    ")"
   ]
  },
  {
   "cell_type": "code",
   "execution_count": 4,
   "id": "beae8073-5836-4fdc-aadb-07bdf55023be",
   "metadata": {},
   "outputs": [],
   "source": [
    "import torch\n",
    "from torch import nn"
   ]
  },
  {
   "cell_type": "code",
   "execution_count": 5,
   "id": "f8a70469-b3f6-4b3f-a431-1203c5b6aef9",
   "metadata": {},
   "outputs": [],
   "source": [
    "class PPONetwork(nn.Module):\n",
    "    def __init__(self, obs_shape, n_actions):\n",
    "        super().__init__()\n",
    "        self.convs = nn.Sequential(\n",
    "            nn.Conv2d(in_channels=obs_shape[0], out_channels=16, kernel_size=3, padding=1),\n",
    "            nn.ReLU(),\n",
    "            nn.Conv2d(in_channels=16, out_channels=32, kernel_size=3, padding=1),\n",
    "            nn.ReLU(),\n",
    "            nn.Conv2d(in_channels=32, out_channels=32, kernel_size=3, padding=1),\n",
    "            nn.MaxPool2d(2, 2),\n",
    "            nn.ReLU(),\n",
    "            nn.Conv2d(32, 64, 3, padding=1),\n",
    "            nn.ReLU(),\n",
    "            nn.Conv2d(64, 128, 3, padding=1),\n",
    "            nn.ReLU(),\n",
    "            nn.Conv2d(128, 128, 3, padding=1),\n",
    "            nn.MaxPool2d(2, 2),\n",
    "            nn.ReLU(),\n",
    "            nn.Conv2d(128, 128, 3, padding=1),\n",
    "            nn.ReLU(),\n",
    "            nn.Conv2d(128, 64, 3, padding=1),\n",
    "            nn.ReLU(),\n",
    "            nn.Conv2d(64, 64, 3, padding=1),\n",
    "            nn.MaxPool2d(2, 2),\n",
    "            nn.ReLU(),\n",
    "            nn.Flatten(),\n",
    "        )\n",
    "\n",
    "        dummy_in = torch.zeros(obs_shape).unsqueeze(0)\n",
    "        n_flattened = self.convs(dummy_in).shape[1]\n",
    "\n",
    "        self.policy_head = nn.Linear(n_flattened, n_actions)\n",
    "        self.value_head = nn.Linear(n_flattened, 1)\n",
    "\n",
    "    def forward(self, x):\n",
    "        device = next(self.convs.parameters()).device\n",
    "        if not isinstance(x, torch.Tensor):\n",
    "            x = torch.tensor(np.array(x), dtype=torch.float32, device=device)\n",
    "        x = x.to(device=device)\n",
    "        x = einops.rearrange(x, \"b w c h -> b c h w\")\n",
    "\n",
    "        x = self.convs(x)\n",
    "        logits = self.policy_head(x)\n",
    "        value = self.value_head(x)\n",
    "        \n",
    "        return logits, value"
   ]
  },
  {
   "cell_type": "code",
   "execution_count": 6,
   "id": "3c4d6034-ce52-45d4-b9fd-7d28fab31574",
   "metadata": {},
   "outputs": [],
   "source": [
    "import random"
   ]
  },
  {
   "cell_type": "code",
   "execution_count": 7,
   "id": "b12c0c99-c683-4505-9a65-c3816f0a3d87",
   "metadata": {},
   "outputs": [],
   "source": [
    "def select_actions(logits):\n",
    "    dist = torch.distributions.Categorical(logits=logits) # shape [batch_size, n_actions]\n",
    "    \n",
    "    actions = dist.sample() # Shape: [n_actions]\n",
    "    log_probs = dist.log_prob(actions)\n",
    "\n",
    "    return actions, log_probs"
   ]
  },
  {
   "cell_type": "code",
   "execution_count": 8,
   "id": "bf979014-3a61-4539-9ba3-982976e1192a",
   "metadata": {},
   "outputs": [],
   "source": [
    "device = torch.device(\"cuda\" if torch.cuda.is_available() else \"cpu\")\n",
    "torch.set_float32_matmul_precision('high')"
   ]
  },
  {
   "cell_type": "code",
   "execution_count": 9,
   "id": "eec0e14a-0153-4013-b9ca-e7f6ce219412",
   "metadata": {},
   "outputs": [],
   "source": [
    "from torch import optim\n",
    "\n",
    "from itertools import count\n",
    "from tqdm.auto import tqdm\n",
    "\n",
    "import wandb"
   ]
  },
  {
   "cell_type": "code",
   "execution_count": 10,
   "id": "59c88949-607b-4710-b806-796a5654e963",
   "metadata": {},
   "outputs": [],
   "source": [
    "def train(\n",
    "    max_batches = 8_000,\n",
    "    batch_size = 128,\n",
    "    minibatch_size = 32,\n",
    "    num_epochs = 10,\n",
    "    learning_rate = 1e-4,\n",
    "    gamma = 0.99,\n",
    "    lmbd = 0.95,\n",
    "    value_loss_coef = 0.5,\n",
    "    clip_param = 0.2,\n",
    "    leave_bar = True,\n",
    "):  \n",
    "    assert batch_size % minibatch_size == 0\n",
    "    num_minibatches = int(batch_size / minibatch_size)\n",
    "    net = PPONetwork(obs_shape, n_actions).to(device)\n",
    "    print(\"Compiling model...\", end=\"\\r\")\n",
    "    net.compile()\n",
    "    print(\"Model compiled!   \")\n",
    "    optimizer = optim.Adam(net.parameters(), lr=learning_rate)\n",
    "    \n",
    "    #if wandb.run is not None:\n",
    "        #wandb.watch(net, log=\"all\")\n",
    "        \n",
    "    obs, _ = vecenv.reset()\n",
    "    try:\n",
    "        for batch in tqdm(range(max_batches), leave=leave_bar, desc=\"Batches\"):\n",
    "            batch_states = torch.zeros(\n",
    "                (batch_size + 1, num_envs) + vecenv.single_observation_space.shape,\n",
    "                device=device,\n",
    "            )\n",
    "            batch_values = torch.zeros((batch_size + 1, num_envs), device=device)\n",
    "            batch_actions = torch.zeros((batch_size, num_envs), device=device)\n",
    "            batch_log_probs = torch.zeros((batch_size, num_envs), device=device)\n",
    "            batch_rewards = torch.zeros((batch_size, num_envs), device=device)\n",
    "            batch_dones = torch.zeros((batch_size, num_envs), dtype=torch.bool, device=device)\n",
    "            batch_advantages = torch.zeros((batch_size, num_envs), device=device)\n",
    "            \n",
    "            # Collect one rollout for each env\n",
    "            for t in range(batch_size):\n",
    "                with torch.no_grad():\n",
    "                    logits, values = net(obs)\n",
    "                    actions, log_probs = select_actions(logits)\n",
    "        \n",
    "                next_obs, rewards, dones, truncateds, infos = vecenv.step(actions.cpu())\n",
    "\n",
    "                for i, info in enumerate(infos):\n",
    "                    wandb.log(data={\"return\": info[\"episode_return\"]})\n",
    "                    \n",
    "                batch_states[t] = torch.from_numpy(obs.copy())\n",
    "                batch_values[t] = values.squeeze()\n",
    "                batch_actions[t] = actions.squeeze()\n",
    "                batch_log_probs[t] = log_probs\n",
    "                batch_rewards[t] = torch.from_numpy(rewards.copy())\n",
    "                batch_dones[t] = torch.from_numpy(dones.copy())\n",
    "\n",
    "                obs = next_obs.copy()\n",
    "\n",
    "            # Append the final states and values for computing the final losses\n",
    "            with torch.no_grad():\n",
    "                _, final_values = net(obs)\n",
    "                batch_states[batch_size] = torch.from_numpy(obs.copy())\n",
    "                batch_values[batch_size] = final_values.squeeze()\n",
    "            \n",
    "            # Calculate advantages\n",
    "            advantages = torch.zeros(final_values.shape[0], device=device)\n",
    "            for t in reversed(range(batch_size)):\n",
    "                next_values = batch_values[t+1] * ~batch_dones[t]\n",
    "                td_error = batch_rewards[t] + gamma * next_values - batch_values[t]\n",
    "                advantages = td_error + gamma * lmbd * (advantages * ~batch_dones[t])\n",
    "                adv_mean, adv_std = advantages.mean(), advantages.std()\n",
    "                batch_advantages[t] = (advantages - adv_mean) / (1.0 if adv_std == 0.0 else adv_std)\n",
    "\n",
    "            # Perform updates\n",
    "            for epoch in range(num_epochs):\n",
    "                indices = torch.randperm(batch_size)\n",
    "                for minibatch in range(num_minibatches):\n",
    "                    start = minibatch * minibatch_size\n",
    "                    end = start + minibatch_size\n",
    "                    \n",
    "                    for t in indices[start:end]:\n",
    "                        logits, values = net(batch_states[t])\n",
    "                        dist = torch.distributions.Categorical(logits=logits)\n",
    "                        log_probs = dist.log_prob(batch_actions[t])\n",
    "                        ratio = (log_probs - batch_log_probs[t]).exp()\n",
    "                        \n",
    "                        next_values = batch_values[t+1] * ~batch_dones[t]\n",
    "                        td_target = batch_rewards[t] + gamma * next_values\n",
    "                        value_loss = (value_loss_coef * (td_target - values)**2).mean()\n",
    "                        \n",
    "                        surr1 = ratio * batch_advantages[t]\n",
    "                        surr2 = torch.clamp(ratio, 1.0 - clip_param, 1.0 + clip_param) * batch_advantages[t]\n",
    "                        policy_loss = -torch.min(surr1, surr2).mean()\n",
    "    \n",
    "                        loss = policy_loss + value_loss\n",
    "                        optimizer.zero_grad()\n",
    "                        loss.backward()\n",
    "                        optimizer.step()\n",
    "\n",
    "    except KeyboardInterrupt:\n",
    "        print(\"Training halted manually.\")\n",
    "        \n",
    "    # Finalize the run\n",
    "    model_path = f\"./models/PPO_scratch_{game}_latest.pt\"\n",
    "    torch.save(net.state_dict(), model_path)\n",
    "    wandb.log_model(model_path, \"latest\")\n",
    "    wandb.unwatch()\n",
    "    net.eval()\n",
    "    \n",
    "    return net"
   ]
  },
  {
   "cell_type": "code",
   "execution_count": 11,
   "id": "d4ddfc41-0652-4cd0-9bff-b5367c958a74",
   "metadata": {},
   "outputs": [
    {
     "data": {
      "text/plain": [
       "((4, 105, 80), 6)"
      ]
     },
     "execution_count": 11,
     "metadata": {},
     "output_type": "execute_result"
    }
   ],
   "source": [
    "obs_shape = vecenv.single_observation_space.shape\n",
    "obs_shape = (obs_shape[1], obs_shape[2], obs_shape[0])\n",
    "n_actions = vecenv.single_action_space.n\n",
    "\n",
    "obs_shape, n_actions"
   ]
  },
  {
   "cell_type": "code",
   "execution_count": 12,
   "id": "3c905479-1cb9-4a7d-acf1-3aec7c617e77",
   "metadata": {},
   "outputs": [
    {
     "name": "stderr",
     "output_type": "stream",
     "text": [
      "\u001b[34m\u001b[1mwandb\u001b[0m: Using wandb-core as the SDK backend.  Please refer to https://wandb.me/wandb-core for more information.\n",
      "\u001b[34m\u001b[1mwandb\u001b[0m: Currently logged in as: \u001b[33mfitti\u001b[0m. Use \u001b[1m`wandb login --relogin`\u001b[0m to force relogin\n"
     ]
    },
    {
     "data": {
      "text/html": [
       "Tracking run with wandb version 0.19.1"
      ],
      "text/plain": [
       "<IPython.core.display.HTML object>"
      ]
     },
     "metadata": {},
     "output_type": "display_data"
    },
    {
     "data": {
      "text/html": [
       "Run data is saved locally in <code>/home/fitti/projects/puffer/wandb/run-20250222_074004-jhleumss</code>"
      ],
      "text/plain": [
       "<IPython.core.display.HTML object>"
      ]
     },
     "metadata": {},
     "output_type": "display_data"
    },
    {
     "data": {
      "text/html": [
       "Syncing run <strong><a href='https://wandb.ai/fitti/PPO-scratch-pong/runs/jhleumss' target=\"_blank\">serene-bird-1</a></strong> to <a href='https://wandb.ai/fitti/PPO-scratch-pong' target=\"_blank\">Weights & Biases</a> (<a href='https://wandb.me/developer-guide' target=\"_blank\">docs</a>)<br>"
      ],
      "text/plain": [
       "<IPython.core.display.HTML object>"
      ]
     },
     "metadata": {},
     "output_type": "display_data"
    },
    {
     "data": {
      "text/html": [
       " View project at <a href='https://wandb.ai/fitti/PPO-scratch-pong' target=\"_blank\">https://wandb.ai/fitti/PPO-scratch-pong</a>"
      ],
      "text/plain": [
       "<IPython.core.display.HTML object>"
      ]
     },
     "metadata": {},
     "output_type": "display_data"
    },
    {
     "data": {
      "text/html": [
       " View run at <a href='https://wandb.ai/fitti/PPO-scratch-pong/runs/jhleumss' target=\"_blank\">https://wandb.ai/fitti/PPO-scratch-pong/runs/jhleumss</a>"
      ],
      "text/plain": [
       "<IPython.core.display.HTML object>"
      ]
     },
     "metadata": {},
     "output_type": "display_data"
    },
    {
     "name": "stdout",
     "output_type": "stream",
     "text": [
      "Model compiled!   \n"
     ]
    },
    {
     "data": {
      "application/vnd.jupyter.widget-view+json": {
       "model_id": "a0c6dc04266b481088e064f50a90db9d",
       "version_major": 2,
       "version_minor": 0
      },
      "text/plain": [
       "Batches:   0%|          | 0/2400 [00:00<?, ?it/s]"
      ]
     },
     "metadata": {},
     "output_type": "display_data"
    },
    {
     "name": "stderr",
     "output_type": "stream",
     "text": [
      "/home/fitti/.conda/envs/puffer/lib/python3.11/site-packages/torch/_dynamo/utils.py:2586: UserWarning: To copy construct from a tensor, it is recommended to use sourceTensor.clone().detach() or sourceTensor.clone().detach().requires_grad_(True), rather than torch.tensor(sourceTensor).\n",
      "  return node.target(*args, **kwargs)\n",
      "/home/fitti/.conda/envs/puffer/lib/python3.11/site-packages/torch/fx/interpreter.py:310: UserWarning: To copy construct from a tensor, it is recommended to use sourceTensor.clone().detach() or sourceTensor.clone().detach().requires_grad_(True), rather than torch.tensor(sourceTensor).\n",
      "  return target(*args, **kwargs)\n",
      "/home/fitti/.conda/envs/puffer/lib/python3.11/site-packages/torch/fx/experimental/proxy_tensor.py:1241: UserWarning: To copy construct from a tensor, it is recommended to use sourceTensor.clone().detach() or sourceTensor.clone().detach().requires_grad_(True), rather than torch.tensor(sourceTensor).\n",
      "  return func(*args, **kwargs)\n",
      "W0222 07:40:07.010000 12336 site-packages/torch/_inductor/utils.py:1137] [0/0] Not enough SMs to use max_autotune_gemm mode\n"
     ]
    },
    {
     "name": "stdout",
     "output_type": "stream",
     "text": [
      "Training halted manually.\n"
     ]
    }
   ],
   "source": [
    "max_batches = 2_400\n",
    "batch_size = 128\n",
    "minibatch_size = 32\n",
    "num_epochs = 3\n",
    "learning_rate = 2.5e-4\n",
    "gamma = 0.99\n",
    "lmbd = 0.95\n",
    "value_loss_coef = 0.25\n",
    "clip_param = 0.2\n",
    "leave_bar = True\n",
    "\n",
    "project = f\"PPO-scratch-{game}\"\n",
    "config = {\n",
    "    \"num_envs\": num_envs,\n",
    "    \"batch_size\": batch_size,\n",
    "    \"minibatch_size\": minibatch_size,\n",
    "    \"num_epochs\": num_epochs,\n",
    "    \"learning_rate\": learning_rate,\n",
    "    \"gamma\": gamma,\n",
    "    \"lambda\": lmbd,\n",
    "    \"value_loss_coef\": value_loss_coef,\n",
    "    \"clip_param\": clip_param,\n",
    "}\n",
    "\n",
    "wandb.init(\n",
    "    project=project,\n",
    "    config=config,\n",
    ")\n",
    "    \n",
    "net = train(\n",
    "    max_batches=max_batches,\n",
    "    batch_size=batch_size,\n",
    "    minibatch_size=minibatch_size,\n",
    "    num_epochs=num_epochs,\n",
    "    learning_rate=learning_rate,\n",
    "    gamma=gamma,\n",
    "    lmbd=lmbd,\n",
    "    value_loss_coef=value_loss_coef,\n",
    "    clip_param=clip_param,\n",
    "    leave_bar=leave_bar,\n",
    ")"
   ]
  },
  {
   "cell_type": "code",
   "execution_count": 13,
   "id": "7f35df13-e596-41f9-a99d-8cfcedb51d88",
   "metadata": {},
   "outputs": [
    {
     "name": "stdout",
     "output_type": "stream",
     "text": [
      "(1, 80, 4, 105)\n"
     ]
    }
   ],
   "source": [
    "import gymnasium as gym\n",
    "import ale_py\n",
    "env = gym.make(\"ALE/Pong-v5\", render_mode=\"rgb_array\")\n",
    "\n",
    "from datetime import datetime\n",
    "\n",
    "timestamp = datetime.now().strftime('%Y%m%d_%H%M%S')\n",
    "video_folder = f\"./videos/{project}_{timestamp}\"\n",
    "env = gym.wrappers.RecordVideo(env, video_folder)\n",
    "\n",
    "env = gym.wrappers.GrayScaleObservation(env=env)\n",
    "env = gym.wrappers.ResizeObservation(env=env, shape=(105, 80))\n",
    "env = gym.wrappers.FrameStack(env=env, num_stack=4)\n",
    "\n",
    "ob, _ = env.reset()\n",
    "ob = np.expand_dims(np.array(ob).transpose(2, 0, 1), 0)\n",
    "print(ob.shape)"
   ]
  },
  {
   "cell_type": "code",
   "execution_count": 14,
   "id": "1744d8f2-80dc-41a3-9b77-1105a621735d",
   "metadata": {},
   "outputs": [
    {
     "name": "stderr",
     "output_type": "stream",
     "text": [
      "/home/fitti/.conda/envs/puffer/lib/python3.11/site-packages/torch/_dynamo/utils.py:2586: UserWarning: To copy construct from a tensor, it is recommended to use sourceTensor.clone().detach() or sourceTensor.clone().detach().requires_grad_(True), rather than torch.tensor(sourceTensor).\n",
      "  return node.target(*args, **kwargs)\n",
      "/home/fitti/.conda/envs/puffer/lib/python3.11/site-packages/torch/fx/interpreter.py:310: UserWarning: To copy construct from a tensor, it is recommended to use sourceTensor.clone().detach() or sourceTensor.clone().detach().requires_grad_(True), rather than torch.tensor(sourceTensor).\n",
      "  return target(*args, **kwargs)\n",
      "/home/fitti/.conda/envs/puffer/lib/python3.11/site-packages/torch/fx/experimental/proxy_tensor.py:1241: UserWarning: To copy construct from a tensor, it is recommended to use sourceTensor.clone().detach() or sourceTensor.clone().detach().requires_grad_(True), rather than torch.tensor(sourceTensor).\n",
      "  return func(*args, **kwargs)\n"
     ]
    },
    {
     "name": "stdout",
     "output_type": "stream",
     "text": [
      "MoviePy - Building video /home/fitti/projects/puffer/videos/PPO-scratch-pong_20250222_082927/rl-video-episode-0.mp4.\n",
      "MoviePy - Writing video /home/fitti/projects/puffer/videos/PPO-scratch-pong_20250222_082927/rl-video-episode-0.mp4\n",
      "\n"
     ]
    },
    {
     "name": "stderr",
     "output_type": "stream",
     "text": [
      "                                                              "
     ]
    },
    {
     "name": "stdout",
     "output_type": "stream",
     "text": [
      "MoviePy - Done !\n",
      "MoviePy - video ready /home/fitti/projects/puffer/videos/PPO-scratch-pong_20250222_082927/rl-video-episode-0.mp4\n",
      "-21.0\n"
     ]
    },
    {
     "name": "stderr",
     "output_type": "stream",
     "text": []
    },
    {
     "name": "stdout",
     "output_type": "stream",
     "text": [
      "MoviePy - Building video /home/fitti/projects/puffer/videos/PPO-scratch-pong_20250222_082927/rl-video-episode-1.mp4.\n",
      "MoviePy - Writing video /home/fitti/projects/puffer/videos/PPO-scratch-pong_20250222_082927/rl-video-episode-1.mp4\n",
      "\n"
     ]
    },
    {
     "name": "stderr",
     "output_type": "stream",
     "text": [
      "                                                              "
     ]
    },
    {
     "name": "stdout",
     "output_type": "stream",
     "text": [
      "MoviePy - Done !\n",
      "MoviePy - video ready /home/fitti/projects/puffer/videos/PPO-scratch-pong_20250222_082927/rl-video-episode-1.mp4\n",
      "-21.0\n"
     ]
    },
    {
     "name": "stderr",
     "output_type": "stream",
     "text": []
    },
    {
     "name": "stdout",
     "output_type": "stream",
     "text": [
      "-21.0\n",
      "-21.0\n",
      "-21.0\n",
      "-21.0\n",
      "-21.0\n",
      "-21.0\n",
      "MoviePy - Building video /home/fitti/projects/puffer/videos/PPO-scratch-pong_20250222_082927/rl-video-episode-8.mp4.\n",
      "MoviePy - Writing video /home/fitti/projects/puffer/videos/PPO-scratch-pong_20250222_082927/rl-video-episode-8.mp4\n",
      "\n"
     ]
    },
    {
     "name": "stderr",
     "output_type": "stream",
     "text": [
      "                                                              "
     ]
    },
    {
     "name": "stdout",
     "output_type": "stream",
     "text": [
      "MoviePy - Done !\n",
      "MoviePy - video ready /home/fitti/projects/puffer/videos/PPO-scratch-pong_20250222_082927/rl-video-episode-8.mp4\n",
      "-21.0\n"
     ]
    },
    {
     "name": "stderr",
     "output_type": "stream",
     "text": []
    },
    {
     "data": {
      "text/html": [],
      "text/plain": [
       "<IPython.core.display.HTML object>"
      ]
     },
     "metadata": {},
     "output_type": "display_data"
    },
    {
     "data": {
      "text/html": [
       "<br>    <style><br>        .wandb-row {<br>            display: flex;<br>            flex-direction: row;<br>            flex-wrap: wrap;<br>            justify-content: flex-start;<br>            width: 100%;<br>        }<br>        .wandb-col {<br>            display: flex;<br>            flex-direction: column;<br>            flex-basis: 100%;<br>            flex: 1;<br>            padding: 10px;<br>        }<br>    </style><br><div class=\"wandb-row\"><div class=\"wandb-col\"><h3>Run history:</h3><br/><table class=\"wandb\"><tr><td>return</td><td>█▁▁▁▁▁▁█▁▁█▁▁▁▁▁▁▁▁▁█▁▁██▁▁▁▁▁▁▁▁▁▁▁▁▁▁▁</td></tr></table><br/></div><div class=\"wandb-col\"><h3>Run summary:</h3><br/><table class=\"wandb\"><tr><td>return</td><td>-21</td></tr></table><br/></div></div>"
      ],
      "text/plain": [
       "<IPython.core.display.HTML object>"
      ]
     },
     "metadata": {},
     "output_type": "display_data"
    },
    {
     "data": {
      "text/html": [
       " View run <strong style=\"color:#cdcd00\">serene-bird-1</strong> at: <a href='https://wandb.ai/fitti/PPO-scratch-pong/runs/jhleumss' target=\"_blank\">https://wandb.ai/fitti/PPO-scratch-pong/runs/jhleumss</a><br> View project at: <a href='https://wandb.ai/fitti/PPO-scratch-pong' target=\"_blank\">https://wandb.ai/fitti/PPO-scratch-pong</a><br>Synced 5 W&B file(s), 0 media file(s), 2 artifact file(s) and 1 other file(s)"
      ],
      "text/plain": [
       "<IPython.core.display.HTML object>"
      ]
     },
     "metadata": {},
     "output_type": "display_data"
    },
    {
     "data": {
      "text/html": [
       "Find logs at: <code>./wandb/run-20250222_074004-jhleumss/logs</code>"
      ],
      "text/plain": [
       "<IPython.core.display.HTML object>"
      ]
     },
     "metadata": {},
     "output_type": "display_data"
    }
   ],
   "source": [
    "import gymnasium as gym\n",
    "import numpy as np\n",
    "from datetime import datetime\n",
    "from pathlib import Path\n",
    "\n",
    "#timestamp = datetime.now().strftime('%Y%m%d_%H%M%S')\n",
    "#video_folder = f\"./videos/PPO_scratch_Breakout_{timestamp}\"\n",
    "\n",
    "#env = gym.make(\"\", render_mode=\"rgb_array\")\n",
    "#env = gym.wrappers.RecordVideo(env, video_folder)\n",
    "\n",
    "for _ in range(9):\n",
    "    ob, _ = env.reset()\n",
    "    ob = np.expand_dims(np.array(ob).transpose(2, 0, 1), 0)\n",
    "    ret = 0\n",
    "    done, truncated = False, False\n",
    "    while not (done or truncated):\n",
    "        logits, _ = net(ob)\n",
    "        actions, *_ = select_actions(logits)\n",
    "        ob, reward, done, truncated, _ = env.step(actions[0].cpu().numpy())\n",
    "        ob = np.expand_dims(np.array(ob).transpose(2, 0, 1), 0)\n",
    "        ret += reward\n",
    "    \n",
    "    print(ret)\n",
    "\n",
    "if wandb.run is not None:\n",
    "    latest_video = max(\n",
    "        Path(video_folder).glob(\"*.mp4\"),\n",
    "        key=lambda x: x.stat().st_mtime\n",
    "    )\n",
    "    wandb.log({\n",
    "        \"video\": wandb.Video(str(latest_video))\n",
    "    })\n",
    "    wandb.finish()\n",
    "    \n",
    "env.close()"
   ]
  }
 ],
 "metadata": {
  "kernelspec": {
   "display_name": "Python 3 (ipykernel)",
   "language": "python",
   "name": "python3"
  },
  "language_info": {
   "codemirror_mode": {
    "name": "ipython",
    "version": 3
   },
   "file_extension": ".py",
   "mimetype": "text/x-python",
   "name": "python",
   "nbconvert_exporter": "python",
   "pygments_lexer": "ipython3",
   "version": "3.11.11"
  }
 },
 "nbformat": 4,
 "nbformat_minor": 5
}
