{
 "cells": [
  {
   "cell_type": "code",
   "execution_count": 1,
   "id": "fd9339b7-5f15-4349-b4a8-73bb2b27e0d4",
   "metadata": {},
   "outputs": [],
   "source": [
    "import numpy as np\n",
    "import pufferlib, pufferlib.vector\n",
    "from pufferlib.environments import classic_control"
   ]
  },
  {
   "cell_type": "code",
   "execution_count": 2,
   "id": "404c2cde-21cd-4eb5-af67-b1e213499852",
   "metadata": {},
   "outputs": [],
   "source": [
    "num_envs = 12"
   ]
  },
  {
   "cell_type": "code",
   "execution_count": 3,
   "id": "f92823ba-6ae0-4de7-8d77-704e62476f35",
   "metadata": {},
   "outputs": [
    {
     "name": "stderr",
     "output_type": "stream",
     "text": [
      "Process Process-4:\n",
      "Process Process-7:\n",
      "Process Process-5:\n",
      "Process Process-1:\n",
      "Process Process-2:\n",
      "Process Process-11:\n",
      "Process Process-6:\n",
      "Process Process-12:\n",
      "Process Process-3:\n",
      "Process Process-10:\n",
      "Traceback (most recent call last):\n",
      "Traceback (most recent call last):\n",
      "Traceback (most recent call last):\n",
      "Traceback (most recent call last):\n",
      "Traceback (most recent call last):\n",
      "Traceback (most recent call last):\n",
      "Traceback (most recent call last):\n",
      "Traceback (most recent call last):\n",
      "  File \"/home/fitti/.conda/envs/puffer/lib/python3.11/multiprocessing/process.py\", line 314, in _bootstrap\n",
      "    self.run()\n",
      "Traceback (most recent call last):\n",
      "Traceback (most recent call last):\n",
      "  File \"/home/fitti/.conda/envs/puffer/lib/python3.11/multiprocessing/process.py\", line 314, in _bootstrap\n",
      "    self.run()\n",
      "  File \"/home/fitti/.conda/envs/puffer/lib/python3.11/multiprocessing/process.py\", line 314, in _bootstrap\n",
      "    self.run()\n",
      "  File \"/home/fitti/.conda/envs/puffer/lib/python3.11/multiprocessing/process.py\", line 314, in _bootstrap\n",
      "    self.run()\n",
      "  File \"/home/fitti/.conda/envs/puffer/lib/python3.11/multiprocessing/process.py\", line 314, in _bootstrap\n",
      "    self.run()\n",
      "  File \"/home/fitti/.conda/envs/puffer/lib/python3.11/multiprocessing/process.py\", line 314, in _bootstrap\n",
      "    self.run()\n",
      "  File \"/home/fitti/.conda/envs/puffer/lib/python3.11/multiprocessing/process.py\", line 314, in _bootstrap\n",
      "    self.run()\n",
      "  File \"/home/fitti/.conda/envs/puffer/lib/python3.11/multiprocessing/process.py\", line 314, in _bootstrap\n",
      "    self.run()\n",
      "  File \"/home/fitti/.conda/envs/puffer/lib/python3.11/multiprocessing/process.py\", line 108, in run\n",
      "    self._target(*self._args, **self._kwargs)\n",
      "  File \"/home/fitti/.conda/envs/puffer/lib/python3.11/multiprocessing/process.py\", line 108, in run\n",
      "    self._target(*self._args, **self._kwargs)\n",
      "  File \"/home/fitti/.conda/envs/puffer/lib/python3.11/multiprocessing/process.py\", line 314, in _bootstrap\n",
      "    self.run()\n",
      "  File \"/home/fitti/.conda/envs/puffer/lib/python3.11/multiprocessing/process.py\", line 108, in run\n",
      "    self._target(*self._args, **self._kwargs)\n",
      "  File \"/home/fitti/.conda/envs/puffer/lib/python3.11/multiprocessing/process.py\", line 314, in _bootstrap\n",
      "    self.run()\n",
      "  File \"/home/fitti/.conda/envs/puffer/lib/python3.11/multiprocessing/process.py\", line 108, in run\n",
      "    self._target(*self._args, **self._kwargs)\n",
      "  File \"/home/fitti/.conda/envs/puffer/lib/python3.11/multiprocessing/process.py\", line 108, in run\n",
      "    self._target(*self._args, **self._kwargs)\n",
      "  File \"/home/fitti/.conda/envs/puffer/lib/python3.11/multiprocessing/process.py\", line 108, in run\n",
      "    self._target(*self._args, **self._kwargs)\n",
      "  File \"/home/fitti/.conda/envs/puffer/lib/python3.11/multiprocessing/process.py\", line 108, in run\n",
      "    self._target(*self._args, **self._kwargs)\n",
      "  File \"/home/fitti/.conda/envs/puffer/lib/python3.11/multiprocessing/process.py\", line 108, in run\n",
      "    self._target(*self._args, **self._kwargs)\n",
      "  File \"/home/fitti/.conda/envs/puffer/lib/python3.11/site-packages/pufferlib/vector.py\", line 177, in _worker_process\n",
      "    time.sleep(0.01)\n",
      "  File \"/home/fitti/.conda/envs/puffer/lib/python3.11/multiprocessing/process.py\", line 108, in run\n",
      "    self._target(*self._args, **self._kwargs)\n",
      "  File \"/home/fitti/.conda/envs/puffer/lib/python3.11/site-packages/pufferlib/vector.py\", line 177, in _worker_process\n",
      "    time.sleep(0.01)\n",
      "  File \"/home/fitti/.conda/envs/puffer/lib/python3.11/site-packages/pufferlib/vector.py\", line 177, in _worker_process\n",
      "    time.sleep(0.01)\n",
      "  File \"/home/fitti/.conda/envs/puffer/lib/python3.11/multiprocessing/process.py\", line 108, in run\n",
      "    self._target(*self._args, **self._kwargs)\n",
      "  File \"/home/fitti/.conda/envs/puffer/lib/python3.11/site-packages/pufferlib/vector.py\", line 177, in _worker_process\n",
      "    time.sleep(0.01)\n",
      "  File \"/home/fitti/.conda/envs/puffer/lib/python3.11/site-packages/pufferlib/vector.py\", line 177, in _worker_process\n",
      "    time.sleep(0.01)\n",
      "  File \"/home/fitti/.conda/envs/puffer/lib/python3.11/site-packages/pufferlib/vector.py\", line 177, in _worker_process\n",
      "    time.sleep(0.01)\n",
      "  File \"/home/fitti/.conda/envs/puffer/lib/python3.11/site-packages/pufferlib/vector.py\", line 177, in _worker_process\n",
      "    time.sleep(0.01)\n",
      "  File \"/home/fitti/.conda/envs/puffer/lib/python3.11/site-packages/pufferlib/vector.py\", line 177, in _worker_process\n",
      "    time.sleep(0.01)\n",
      "  File \"/home/fitti/.conda/envs/puffer/lib/python3.11/site-packages/pufferlib/vector.py\", line 177, in _worker_process\n",
      "    time.sleep(0.01)\n",
      "KeyboardInterrupt\n",
      "KeyboardInterrupt\n",
      "KeyboardInterrupt\n",
      "KeyboardInterrupt\n",
      "KeyboardInterrupt\n",
      "  File \"/home/fitti/.conda/envs/puffer/lib/python3.11/site-packages/pufferlib/vector.py\", line 177, in _worker_process\n",
      "    time.sleep(0.01)\n",
      "KeyboardInterrupt\n",
      "KeyboardInterrupt\n",
      "KeyboardInterrupt\n",
      "KeyboardInterrupt\n",
      "KeyboardInterrupt\n",
      "Process Process-8:\n",
      "Traceback (most recent call last):\n",
      "  File \"/home/fitti/.conda/envs/puffer/lib/python3.11/multiprocessing/process.py\", line 314, in _bootstrap\n",
      "    self.run()\n",
      "  File \"/home/fitti/.conda/envs/puffer/lib/python3.11/multiprocessing/process.py\", line 108, in run\n",
      "    self._target(*self._args, **self._kwargs)\n",
      "  File \"/home/fitti/.conda/envs/puffer/lib/python3.11/site-packages/pufferlib/vector.py\", line 177, in _worker_process\n",
      "    time.sleep(0.01)\n",
      "KeyboardInterrupt\n",
      "Process Process-9:\n",
      "Traceback (most recent call last):\n",
      "  File \"/home/fitti/.conda/envs/puffer/lib/python3.11/multiprocessing/process.py\", line 314, in _bootstrap\n",
      "    self.run()\n",
      "  File \"/home/fitti/.conda/envs/puffer/lib/python3.11/multiprocessing/process.py\", line 108, in run\n",
      "    self._target(*self._args, **self._kwargs)\n",
      "  File \"/home/fitti/.conda/envs/puffer/lib/python3.11/site-packages/pufferlib/vector.py\", line 177, in _worker_process\n",
      "    time.sleep(0.01)\n",
      "KeyboardInterrupt\n"
     ]
    }
   ],
   "source": [
    "vecenv = pufferlib.vector.make(\n",
    "    classic_control.env_creator(\"CartPole-v1\"),\n",
    "    num_envs=num_envs,\n",
    "    backend=pufferlib.vector.Multiprocessing,\n",
    ")"
   ]
  },
  {
   "cell_type": "code",
   "execution_count": 4,
   "id": "bbf3a594-1e0c-48d4-aca0-a751953057d6",
   "metadata": {},
   "outputs": [
    {
     "data": {
      "text/plain": [
       "(22.166, 1946)"
      ]
     },
     "execution_count": 4,
     "metadata": {},
     "output_type": "execute_result"
    }
   ],
   "source": [
    "env_rewards = [list() for _ in range(num_envs)]\n",
    "env_rewards\n",
    "\n",
    "returns = []\n",
    "\n",
    "from itertools import count\n",
    "\n",
    "dones = np.array([False] * num_envs)\n",
    "truncateds = np.array([False] * num_envs)\n",
    "dones, truncateds\n",
    "\n",
    "obs, _ = vecenv.reset()\n",
    "episodes = 0\n",
    "for t in count():\n",
    "    obs, rewards, dones, truncateds, _ = vecenv.step(vecenv.action_space.sample())\n",
    "    for i, reward in enumerate(rewards):\n",
    "        env_rewards[i].append(reward)\n",
    "    for i in np.where(dones | truncateds)[0]:\n",
    "        returns.append(sum(env_rewards[i]))\n",
    "        env_rewards[i] = []\n",
    "        episodes += 1\n",
    "    if episodes >= 1_000:\n",
    "        break\n",
    "\n",
    "np.mean([np.sum(rets) for rets in returns]), t"
   ]
  },
  {
   "cell_type": "code",
   "execution_count": 5,
   "id": "beae8073-5836-4fdc-aadb-07bdf55023be",
   "metadata": {},
   "outputs": [],
   "source": [
    "import torch\n",
    "from torch import nn"
   ]
  },
  {
   "cell_type": "code",
   "execution_count": 6,
   "id": "f8a70469-b3f6-4b3f-a431-1203c5b6aef9",
   "metadata": {},
   "outputs": [],
   "source": [
    "class PolicyNetwork(nn.Module):\n",
    "    def __init__(self, n_input, n_hiddens, n_actions):\n",
    "        super().__init__()\n",
    "        self.mlp = nn.Sequential(\n",
    "            nn.Linear(n_input, n_hiddens),\n",
    "            nn.ReLU(),\n",
    "            nn.Linear(n_hiddens, n_actions),\n",
    "        )\n",
    "\n",
    "    def forward(self, x):\n",
    "        device = next(self.mlp.parameters()).device\n",
    "        x = torch.tensor(np.array(x), dtype=torch.float32, device=device)\n",
    "        \n",
    "        return self.mlp(x)"
   ]
  },
  {
   "cell_type": "code",
   "execution_count": 7,
   "id": "3c4d6034-ce52-45d4-b9fd-7d28fab31574",
   "metadata": {},
   "outputs": [],
   "source": [
    "import random"
   ]
  },
  {
   "cell_type": "code",
   "execution_count": 8,
   "id": "b12c0c99-c683-4505-9a65-c3816f0a3d87",
   "metadata": {},
   "outputs": [],
   "source": [
    "def select_actions(logits):\n",
    "    dist = torch.distributions.Categorical(logits=logits) # shape [batch_size, n_actions]\n",
    "    \n",
    "    actions = dist.sample() # Shape: [n_actions]\n",
    "    log_probs = dist.log_prob(actions)\n",
    "    entropies = dist.entropy()\n",
    "\n",
    "    return actions.detach().cpu(), log_probs, entropies"
   ]
  },
  {
   "cell_type": "markdown",
   "id": "c1a952ef-d1d5-4ee9-af85-47933ef0ba7f",
   "metadata": {},
   "source": [
    "* We need to perform gradient ascent on the objective, $\\nabla_\\theta J(\\theta)=\\nabla_\\theta\\operatorname{log}\\pi_\\theta(a_t|s_t)G_t$, which means descending the negative $\\operatorname{log}$ gradient\n",
    "* We have to store rewards at each step, as well as log probs\n",
    "* Tracking entropy can be useful for diagnosing issues"
   ]
  },
  {
   "cell_type": "code",
   "execution_count": 9,
   "id": "bf979014-3a61-4539-9ba3-982976e1192a",
   "metadata": {},
   "outputs": [],
   "source": [
    "device = torch.device(\"cuda\" if torch.cuda.is_available() else \"cpu\")"
   ]
  },
  {
   "cell_type": "code",
   "execution_count": 10,
   "id": "eec0e14a-0153-4013-b9ca-e7f6ce219412",
   "metadata": {},
   "outputs": [],
   "source": [
    "from torch import optim\n",
    "\n",
    "from itertools import count\n",
    "from tqdm.auto import tqdm\n",
    "\n",
    "import wandb"
   ]
  },
  {
   "cell_type": "code",
   "execution_count": 11,
   "id": "59c88949-607b-4710-b806-796a5654e963",
   "metadata": {},
   "outputs": [],
   "source": [
    "def train(\n",
    "    n_episodes = 8_000,\n",
    "    learning_rate = 1e-4,\n",
    "    gamma = 0.99,\n",
    "    entropy_coef = 0.01,\n",
    "    min_update_batch_size = 16,\n",
    "    leave_bar = True,\n",
    "    suggestion_uuid = None,\n",
    "):  \n",
    "    net = PolicyNetwork(n_input, n_hiddens, n_actions).to(device)\n",
    "\n",
    "    if wandb.run is not None:\n",
    "        wandb.watch(net, log=\"all\")\n",
    "\n",
    "    env_log_probs = [list() for _ in range(num_envs)]\n",
    "    env_entropies = [list() for _ in range(num_envs)]\n",
    "    env_rewards = [list() for _ in range(num_envs)]\n",
    "    returns = []\n",
    "    losses = []\n",
    "    loss = None\n",
    "    trailing_return = None\n",
    "    return_alpha = 0.99\n",
    "    \n",
    "    optimizer = optim.Adam(net.parameters(), lr=learning_rate)\n",
    "    \n",
    "    obs, _ = vecenv.reset()\n",
    "    episodes = 0\n",
    "    bar = tqdm(\n",
    "        desc=\"Episodes\",\n",
    "        total=n_episodes,\n",
    "        initial=0,\n",
    "        leave=leave_bar,\n",
    "    )\n",
    "    \n",
    "    try:\n",
    "        for t in count():\n",
    "            logits = net(obs)\n",
    "            actions, log_probs, entropies = select_actions(logits)\n",
    "    \n",
    "            obs, rewards, dones, truncateds, _ = vecenv.step(actions)\n",
    "        \n",
    "            for i, (log_prob, entropy, reward) in enumerate(zip(log_probs, entropies, rewards)):\n",
    "                env_log_probs[i].append(log_prob)\n",
    "                env_entropies[i].append(entropy)\n",
    "                env_rewards[i].append(reward / 500.0)\n",
    "\n",
    "            for i in np.where(dones | truncateds)[0]:\n",
    "                full_return = sum(env_rewards[i])\n",
    "                \n",
    "                good_episode = False\n",
    "                if trailing_return is None:\n",
    "                    trailing_return = full_return\n",
    "                    good_episode = True\n",
    "                else:\n",
    "                    trailing_return = trailing_return * return_alpha + full_return * (1 - return_alpha)\n",
    "                    good_episode = full_return > trailing_return\n",
    "\n",
    "                \n",
    "                episode_return = 0.0\n",
    "                loss = 0.0\n",
    "                \n",
    "                T = len(env_rewards[i])\n",
    "                for t in reversed(range(T)):\n",
    "                    episode_return = env_rewards[i][t] + gamma * episode_return\n",
    "                    # Note: This trick only works because there are no negative returns in CartPole!\n",
    "                    loss += env_log_probs[i][t] * (-1 if good_episode else 1) * episode_return\n",
    "                    loss -= env_entropies[i][t] * entropy_coef\n",
    "\n",
    "                loss /= T\n",
    "                losses.append(loss)\n",
    "\n",
    "                with torch.no_grad():\n",
    "                    avg_entropy = sum(env_entropies[i]) / T\n",
    "\n",
    "                full_return = sum(env_rewards[i])\n",
    "                if wandb.run is not None:\n",
    "                    wandb.log(\n",
    "                        data={\n",
    "                            \"return\": full_return,\n",
    "                            \"avg_entropy\": avg_entropy.item(),\n",
    "                            \"loss\": abs(loss.item()),\n",
    "                        },\n",
    "                        commit=True,\n",
    "                    )\n",
    "                \n",
    "                returns.append(full_return)\n",
    "                \n",
    "                env_log_probs[i] = []\n",
    "                env_entropies[i] = []\n",
    "                env_rewards[i] = []\n",
    "\n",
    "                episodes += 1\n",
    "                bar.update()\n",
    "\n",
    "            if len(losses) >= min_update_batch_size:\n",
    "                mean_loss = sum(losses) / len(losses)\n",
    "                \n",
    "                optimizer.zero_grad()\n",
    "                mean_loss.backward()\n",
    "                optimizer.step()\n",
    "\n",
    "                env_log_probs = [list() for _ in range(num_envs)]\n",
    "                env_entropies = [list() for _ in range(num_envs)]\n",
    "                env_rewards = [list() for _ in range(num_envs)]\n",
    "                returns = []\n",
    "                losses = []\n",
    "                loss = None\n",
    "                \n",
    "                obs, _ = vecenv.reset()\n",
    "        \n",
    "            if episodes >= n_episodes:\n",
    "                bar.close()\n",
    "                model_path = \"./models/REINFORCE_scratch_CartPole_latest.pt\"\n",
    "                torch.save(net.state_dict(), model_path)\n",
    "                wandb.log_model(model_path, \"latest\")\n",
    "                wandb.unwatch()\n",
    "                net.eval()\n",
    "                break\n",
    "\n",
    "    except KeyboardInterrupt:\n",
    "        print(\"Training halted manually.\")\n",
    "    \n",
    "    mean_last_100 = np.mean([np.sum(rets) for rets in returns[-100:]])\n",
    "    max_last_100 = np.max([np.sum(rets) for rets in returns[-100:]])\n",
    "    return net, mean_last_100, max_last_100, t"
   ]
  },
  {
   "cell_type": "code",
   "execution_count": 12,
   "id": "58ee1511-10f8-47e2-a8be-4933d045bedc",
   "metadata": {},
   "outputs": [
    {
     "name": "stderr",
     "output_type": "stream",
     "text": [
      "\u001b[34m\u001b[1mwandb\u001b[0m: Using wandb-core as the SDK backend.  Please refer to https://wandb.me/wandb-core for more information.\n",
      "\u001b[34m\u001b[1mwandb\u001b[0m: Currently logged in as: \u001b[33mfitti\u001b[0m. Use \u001b[1m`wandb login --relogin`\u001b[0m to force relogin\n"
     ]
    },
    {
     "data": {
      "text/html": [
       "Tracking run with wandb version 0.19.1"
      ],
      "text/plain": [
       "<IPython.core.display.HTML object>"
      ]
     },
     "metadata": {},
     "output_type": "display_data"
    },
    {
     "data": {
      "text/html": [
       "Run data is saved locally in <code>/home/fitti/projects/puffer/wandb/run-20250217_082125-ogpmj2bu</code>"
      ],
      "text/plain": [
       "<IPython.core.display.HTML object>"
      ]
     },
     "metadata": {},
     "output_type": "display_data"
    },
    {
     "data": {
      "text/html": [
       "Syncing run <strong><a href='https://wandb.ai/fitti/REINFORCE-scratch-CartPole/runs/ogpmj2bu' target=\"_blank\">peachy-violet-30</a></strong> to <a href='https://wandb.ai/fitti/REINFORCE-scratch-CartPole' target=\"_blank\">Weights & Biases</a> (<a href='https://wandb.me/developer-guide' target=\"_blank\">docs</a>)<br>"
      ],
      "text/plain": [
       "<IPython.core.display.HTML object>"
      ]
     },
     "metadata": {},
     "output_type": "display_data"
    },
    {
     "data": {
      "text/html": [
       " View project at <a href='https://wandb.ai/fitti/REINFORCE-scratch-CartPole' target=\"_blank\">https://wandb.ai/fitti/REINFORCE-scratch-CartPole</a>"
      ],
      "text/plain": [
       "<IPython.core.display.HTML object>"
      ]
     },
     "metadata": {},
     "output_type": "display_data"
    },
    {
     "data": {
      "text/html": [
       " View run at <a href='https://wandb.ai/fitti/REINFORCE-scratch-CartPole/runs/ogpmj2bu' target=\"_blank\">https://wandb.ai/fitti/REINFORCE-scratch-CartPole/runs/ogpmj2bu</a>"
      ],
      "text/plain": [
       "<IPython.core.display.HTML object>"
      ]
     },
     "metadata": {},
     "output_type": "display_data"
    },
    {
     "data": {
      "application/vnd.jupyter.widget-view+json": {
       "model_id": "39a02d6abd04476087d743f856b9e150",
       "version_major": 2,
       "version_minor": 0
      },
      "text/plain": [
       "Episodes:   0%|          | 0/100000 [00:00<?, ?it/s]"
      ]
     },
     "metadata": {},
     "output_type": "display_data"
    },
    {
     "name": "stdout",
     "output_type": "stream",
     "text": [
      "Training halted manually.\n",
      "Mean: 500.00, Max: 500.00\n"
     ]
    }
   ],
   "source": [
    "n_input = vecenv.single_observation_space.shape[0]\n",
    "n_actions = vecenv.single_action_space.n\n",
    "n_hiddens = 16\n",
    "\n",
    "n_episodes = 100_000\n",
    "learning_rate = 1e-3\n",
    "gamma = 0.99\n",
    "entropy_coef = 0.0\n",
    "min_update_batch_size = 16\n",
    "\n",
    "project = \"REINFORCE-scratch-CartPole\"\n",
    "config = {\n",
    "    \"num_envs\": num_envs,\n",
    "    \"n_hiddens\": n_hiddens,\n",
    "    \"n_episodes\": n_episodes,\n",
    "    \"learning_rate\": learning_rate,\n",
    "    \"entropy_coef\": entropy_coef,\n",
    "    \"min_update_batch_size\": min_update_batch_size,\n",
    "}\n",
    "\n",
    "wandb.init(\n",
    "    project=project,\n",
    "    config=config,\n",
    ")\n",
    "    \n",
    "net, mean_return, max_return, t = train(\n",
    "    n_episodes=n_episodes,\n",
    "    learning_rate=learning_rate,\n",
    "    gamma=gamma,\n",
    "    entropy_coef=entropy_coef,\n",
    "    min_update_batch_size=min_update_batch_size,\n",
    ")\n",
    "\n",
    "print(f\"Mean: {mean_return * 500:.2f}, Max: {max_return * 500:.2f}\")"
   ]
  },
  {
   "cell_type": "code",
   "execution_count": 13,
   "id": "1744d8f2-80dc-41a3-9b77-1105a621735d",
   "metadata": {},
   "outputs": [
    {
     "name": "stdout",
     "output_type": "stream",
     "text": [
      "MoviePy - Building video /home/fitti/projects/puffer/videos/REINFORCE_scratch_CartPole_20250217_084004/rl-video-episode-0.mp4.\n",
      "MoviePy - Writing video /home/fitti/projects/puffer/videos/REINFORCE_scratch_CartPole_20250217_084004/rl-video-episode-0.mp4\n",
      "\n"
     ]
    },
    {
     "name": "stderr",
     "output_type": "stream",
     "text": [
      "\n",
      "\u001b[Ame_index:   0%|          | 0/500 [00:00<?, ?it/s, now=None]\n",
      "\u001b[Ame_index:  24%|██▍       | 119/500 [00:00<00:00, 1182.12it/s, now=None]\n",
      "\u001b[Ame_index:  53%|█████▎    | 263/500 [00:00<00:00, 1330.45it/s, now=None]\n",
      "\u001b[Ame_index:  82%|████████▏ | 409/500 [00:00<00:00, 1388.85it/s, now=None]\n",
      "\u001b[A                                                                       "
     ]
    },
    {
     "name": "stdout",
     "output_type": "stream",
     "text": [
      "MoviePy - Done !\n",
      "MoviePy - video ready /home/fitti/projects/puffer/videos/REINFORCE_scratch_CartPole_20250217_084004/rl-video-episode-0.mp4\n",
      "500.0\n",
      "MoviePy - Building video /home/fitti/projects/puffer/videos/REINFORCE_scratch_CartPole_20250217_084004/rl-video-episode-1.mp4.\n",
      "MoviePy - Writing video /home/fitti/projects/puffer/videos/REINFORCE_scratch_CartPole_20250217_084004/rl-video-episode-1.mp4\n",
      "\n"
     ]
    },
    {
     "name": "stderr",
     "output_type": "stream",
     "text": [
      "\n",
      "\u001b[Ame_index:   0%|          | 0/500 [00:00<?, ?it/s, now=None]\n",
      "\u001b[Ame_index:  24%|██▎       | 118/500 [00:00<00:00, 1178.23it/s, now=None]\n",
      "\u001b[Ame_index:  52%|█████▏    | 262/500 [00:00<00:00, 1328.72it/s, now=None]\n",
      "\u001b[Ame_index:  80%|████████  | 402/500 [00:00<00:00, 1358.74it/s, now=None]\n",
      "\u001b[A                                                                       "
     ]
    },
    {
     "name": "stdout",
     "output_type": "stream",
     "text": [
      "MoviePy - Done !\n",
      "MoviePy - video ready /home/fitti/projects/puffer/videos/REINFORCE_scratch_CartPole_20250217_084004/rl-video-episode-1.mp4\n",
      "500.0\n",
      "500.0\n",
      "500.0\n",
      "500.0\n",
      "500.0\n",
      "500.0\n",
      "500.0\n",
      "MoviePy - Building video /home/fitti/projects/puffer/videos/REINFORCE_scratch_CartPole_20250217_084004/rl-video-episode-8.mp4.\n",
      "MoviePy - Writing video /home/fitti/projects/puffer/videos/REINFORCE_scratch_CartPole_20250217_084004/rl-video-episode-8.mp4\n",
      "\n"
     ]
    },
    {
     "name": "stderr",
     "output_type": "stream",
     "text": [
      "\n",
      "\u001b[Ame_index:   0%|          | 0/500 [00:00<?, ?it/s, now=None]\n",
      "\u001b[Ame_index:  25%|██▍       | 124/500 [00:00<00:00, 1234.57it/s, now=None]\n",
      "\u001b[Ame_index:  53%|█████▎    | 267/500 [00:00<00:00, 1348.54it/s, now=None]\n",
      "\u001b[Ame_index:  82%|████████▏ | 410/500 [00:00<00:00, 1381.91it/s, now=None]\n",
      "\u001b[A                                                                       "
     ]
    },
    {
     "name": "stdout",
     "output_type": "stream",
     "text": [
      "MoviePy - Done !\n",
      "MoviePy - video ready /home/fitti/projects/puffer/videos/REINFORCE_scratch_CartPole_20250217_084004/rl-video-episode-8.mp4\n",
      "500.0\n"
     ]
    },
    {
     "data": {
      "text/html": [],
      "text/plain": [
       "<IPython.core.display.HTML object>"
      ]
     },
     "metadata": {},
     "output_type": "display_data"
    },
    {
     "data": {
      "text/html": [
       "<br>    <style><br>        .wandb-row {<br>            display: flex;<br>            flex-direction: row;<br>            flex-wrap: wrap;<br>            justify-content: flex-start;<br>            width: 100%;<br>        }<br>        .wandb-col {<br>            display: flex;<br>            flex-direction: column;<br>            flex-basis: 100%;<br>            flex: 1;<br>            padding: 10px;<br>        }<br>    </style><br><div class=\"wandb-row\"><div class=\"wandb-col\"><h3>Run history:</h3><br/><table class=\"wandb\"><tr><td>avg_entropy</td><td>▇▇▇███████▇▃▇▆▄▂▅▄▄▅▃▃▃▃▃▂▃▁▂▃▂▃▂▂▃▂▂▂▂▂</td></tr><tr><td>loss</td><td>▁▁▁▁▂▂▃▂▃▆▅█████████▇█▇█████▇▇▇█▇▇██████</td></tr><tr><td>return</td><td>▁▁▁▁▁▁▁▁▁▂▅▃▂█▅█████████████████████████</td></tr></table><br/></div><div class=\"wandb-col\"><h3>Run summary:</h3><br/><table class=\"wandb\"><tr><td>avg_entropy</td><td>0.54114</td></tr><tr><td>loss</td><td>0.08903</td></tr><tr><td>return</td><td>1.0</td></tr></table><br/></div></div>"
      ],
      "text/plain": [
       "<IPython.core.display.HTML object>"
      ]
     },
     "metadata": {},
     "output_type": "display_data"
    },
    {
     "data": {
      "text/html": [
       " View run <strong style=\"color:#cdcd00\">peachy-violet-30</strong> at: <a href='https://wandb.ai/fitti/REINFORCE-scratch-CartPole/runs/ogpmj2bu' target=\"_blank\">https://wandb.ai/fitti/REINFORCE-scratch-CartPole/runs/ogpmj2bu</a><br> View project at: <a href='https://wandb.ai/fitti/REINFORCE-scratch-CartPole' target=\"_blank\">https://wandb.ai/fitti/REINFORCE-scratch-CartPole</a><br>Synced 5 W&B file(s), 0 media file(s), 0 artifact file(s) and 1 other file(s)"
      ],
      "text/plain": [
       "<IPython.core.display.HTML object>"
      ]
     },
     "metadata": {},
     "output_type": "display_data"
    },
    {
     "data": {
      "text/html": [
       "Find logs at: <code>./wandb/run-20250217_082125-ogpmj2bu/logs</code>"
      ],
      "text/plain": [
       "<IPython.core.display.HTML object>"
      ]
     },
     "metadata": {},
     "output_type": "display_data"
    }
   ],
   "source": [
    "import gymnasium as gym\n",
    "import numpy as np\n",
    "from datetime import datetime\n",
    "from pathlib import Path\n",
    "\n",
    "timestamp = datetime.now().strftime('%Y%m%d_%H%M%S')\n",
    "video_folder = f\"./videos/REINFORCE_scratch_CartPole_{timestamp}\"\n",
    "\n",
    "env = gym.make(\"CartPole-v1\", render_mode=\"rgb_array\")\n",
    "env = gym.wrappers.RecordVideo(env, video_folder)\n",
    "\n",
    "epsilon = 0.0\n",
    "\n",
    "for _ in range(9):\n",
    "    ob, _ = env.reset()\n",
    "    ob = np.expand_dims(ob, 0)\n",
    "    ret = 0\n",
    "    done, truncated = False, False\n",
    "    while not (done or truncated):\n",
    "        logits = net(ob)\n",
    "        actions, *_ = select_actions(logits)\n",
    "        ob, reward, done, truncated, _ = env.step(actions[0].numpy())\n",
    "        ob = np.expand_dims(ob, 0)\n",
    "        ret += reward\n",
    "    \n",
    "    print(ret)\n",
    "\n",
    "if wandb.run is not None:\n",
    "    latest_video = max(\n",
    "        Path(video_folder).glob(\"*.mp4\"),\n",
    "        key=lambda x: x.stat().st_mtime\n",
    "    )\n",
    "    wandb.log({\n",
    "        \"video\": wandb.Video(str(latest_video))\n",
    "    })\n",
    "    wandb.finish()\n",
    "    \n",
    "env.close()"
   ]
  }
 ],
 "metadata": {
  "kernelspec": {
   "display_name": "Python 3 (ipykernel)",
   "language": "python",
   "name": "python3"
  },
  "language_info": {
   "codemirror_mode": {
    "name": "ipython",
    "version": 3
   },
   "file_extension": ".py",
   "mimetype": "text/x-python",
   "name": "python",
   "nbconvert_exporter": "python",
   "pygments_lexer": "ipython3",
   "version": "3.11.11"
  }
 },
 "nbformat": 4,
 "nbformat_minor": 5
}
