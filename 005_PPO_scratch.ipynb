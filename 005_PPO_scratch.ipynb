{
 "cells": [
  {
   "cell_type": "code",
   "execution_count": 1,
   "id": "fd9339b7-5f15-4349-b4a8-73bb2b27e0d4",
   "metadata": {},
   "outputs": [],
   "source": [
    "import numpy as np\n",
    "import pufferlib, pufferlib.vector\n",
    "from pufferlib.environments import classic_control"
   ]
  },
  {
   "cell_type": "code",
   "execution_count": 2,
   "id": "404c2cde-21cd-4eb5-af67-b1e213499852",
   "metadata": {},
   "outputs": [],
   "source": [
    "num_envs = 12"
   ]
  },
  {
   "cell_type": "code",
   "execution_count": 3,
   "id": "f92823ba-6ae0-4de7-8d77-704e62476f35",
   "metadata": {},
   "outputs": [],
   "source": [
    "vecenv = pufferlib.vector.make(\n",
    "    classic_control.env_creator(\"CartPole-v1\"),\n",
    "    num_envs=num_envs,\n",
    "    backend=pufferlib.vector.Multiprocessing,\n",
    ")"
   ]
  },
  {
   "cell_type": "code",
   "execution_count": 4,
   "id": "bbf3a594-1e0c-48d4-aca0-a751953057d6",
   "metadata": {},
   "outputs": [
    {
     "data": {
      "text/plain": [
       "(22.007, 1924)"
      ]
     },
     "execution_count": 4,
     "metadata": {},
     "output_type": "execute_result"
    }
   ],
   "source": [
    "env_rewards = [list() for _ in range(num_envs)]\n",
    "env_rewards\n",
    "\n",
    "returns = []\n",
    "\n",
    "from itertools import count\n",
    "\n",
    "dones = np.array([False] * num_envs)\n",
    "truncateds = np.array([False] * num_envs)\n",
    "dones, truncateds\n",
    "\n",
    "obs, _ = vecenv.reset()\n",
    "episodes = 0\n",
    "for t in count():\n",
    "    obs, rewards, dones, truncateds, _ = vecenv.step(vecenv.action_space.sample())\n",
    "    for i, reward in enumerate(rewards):\n",
    "        env_rewards[i].append(reward)\n",
    "    for i in np.where(dones | truncateds)[0]:\n",
    "        returns.append(sum(env_rewards[i]))\n",
    "        env_rewards[i] = []\n",
    "        episodes += 1\n",
    "    if episodes >= 1_000:\n",
    "        break\n",
    "\n",
    "np.mean([np.sum(rets) for rets in returns]), t"
   ]
  },
  {
   "cell_type": "code",
   "execution_count": 5,
   "id": "beae8073-5836-4fdc-aadb-07bdf55023be",
   "metadata": {},
   "outputs": [],
   "source": [
    "import torch\n",
    "from torch import nn"
   ]
  },
  {
   "cell_type": "code",
   "execution_count": 6,
   "id": "f8a70469-b3f6-4b3f-a431-1203c5b6aef9",
   "metadata": {},
   "outputs": [],
   "source": [
    "class PPONetwork(nn.Module):\n",
    "    def __init__(self, n_input, n_hiddens, n_actions):\n",
    "        super().__init__()\n",
    "        self.mlp = nn.Sequential(\n",
    "            nn.Linear(n_input, n_hiddens),\n",
    "            nn.ReLU(),\n",
    "        )\n",
    "\n",
    "        self.policy_head = nn.Linear(n_hiddens, n_actions)\n",
    "        self.value_head = nn.Linear(n_hiddens, 1)\n",
    "\n",
    "    def forward(self, x):\n",
    "        device = next(self.mlp.parameters()).device\n",
    "        x = torch.tensor(np.array(x), dtype=torch.float32, device=device)\n",
    "\n",
    "        x = self.mlp(x)\n",
    "        logits = self.policy_head(x)\n",
    "        value = self.value_head(x)\n",
    "        \n",
    "        return logits, value"
   ]
  },
  {
   "cell_type": "code",
   "execution_count": 7,
   "id": "3c4d6034-ce52-45d4-b9fd-7d28fab31574",
   "metadata": {},
   "outputs": [],
   "source": [
    "import random"
   ]
  },
  {
   "cell_type": "code",
   "execution_count": 8,
   "id": "b12c0c99-c683-4505-9a65-c3816f0a3d87",
   "metadata": {},
   "outputs": [],
   "source": [
    "def select_actions(logits):\n",
    "    dist = torch.distributions.Categorical(logits=logits) # shape [batch_size, n_actions]\n",
    "    \n",
    "    actions = dist.sample() # Shape: [n_actions]\n",
    "    probs = dist.probs\n",
    "\n",
    "    return actions.detach().cpu(), probs.detach().cpu()"
   ]
  },
  {
   "cell_type": "code",
   "execution_count": 9,
   "id": "bf979014-3a61-4539-9ba3-982976e1192a",
   "metadata": {},
   "outputs": [],
   "source": [
    "device = torch.device(\"cuda\" if torch.cuda.is_available() else \"cpu\")"
   ]
  },
  {
   "cell_type": "code",
   "execution_count": 10,
   "id": "eec0e14a-0153-4013-b9ca-e7f6ce219412",
   "metadata": {},
   "outputs": [],
   "source": [
    "from torch import optim\n",
    "\n",
    "from itertools import count\n",
    "from tqdm.auto import tqdm\n",
    "\n",
    "import wandb"
   ]
  },
  {
   "cell_type": "code",
   "execution_count": null,
   "id": "59c88949-607b-4710-b806-796a5654e963",
   "metadata": {},
   "outputs": [],
   "source": [
    "def train(\n",
    "    n_epochs = 8_000,\n",
    "    batch_size = 128,\n",
    "    learning_rate = 1e-4,\n",
    "    gamma = 0.99,\n",
    "    clip_param = 0.2,\n",
    "    leave_bar = True,\n",
    "):  \n",
    "    net = PPONetwork(n_input, n_hiddens, n_actions).to(device)\n",
    "    optimizer = optim.Adam(net.parameters(), lr=learning_rate)\n",
    "\n",
    "    if wandb.run is not None:\n",
    "        wandb.watch(net, log=\"all\")\n",
    "\n",
    "    batch_states = []\n",
    "    batch_values = []\n",
    "    batch_actions = []\n",
    "    batch_probs = []\n",
    "    batch_rewards = []\n",
    "    \n",
    "    obs, _ = vecenv.reset()\n",
    "    \n",
    "    try:\n",
    "        for epoch in tqdm(num_epochs, Epochs\", leave=leave_bar, desc=\"Epochs\"):\n",
    "            # Collect one rollout for each env\n",
    "            for t in range(batch_size):\n",
    "                with torch.no_grad():\n",
    "                    logits, values = net(obs)\n",
    "                    actions, probs = select_actions(logits)\n",
    "        \n",
    "                next_obs, rewards, dones, truncateds, _ = vecenv.step(actions)\n",
    "\n",
    "                batch_states.append(obs.copy())\n",
    "                batch_values.append(values)\n",
    "                batch_actions.append(actions)\n",
    "                batch_probs.append(probs)\n",
    "                batch_rewards.append(rewards / 500.0)\n",
    "                batch_dones.append(dones | truncateds)\n",
    "\n",
    "                obs = next_obs.copy()\n",
    "\n",
    "            # Append the final states and values for computing the final losses\n",
    "            with torch.no_grad():\n",
    "                _, final_values = net(obs)\n",
    "                batch_states[i].append(o.copy())\n",
    "                batch_values[i].append(v)\n",
    "\n",
    "            # Initialize the losses\n",
    "            value_loss = 0.0\n",
    "            policy_loss = 0.0\n",
    "            \n",
    "            # Calculate losses for each step in the batch\n",
    "            for t in reversed(range(batch_size)):\n",
    "                pass\n",
    "                    \n",
    "            batch_states = []\n",
    "            batch_values = []\n",
    "            batch_actions = []\n",
    "            batch_probs = []\n",
    "            batch_rewards = []\n",
    "\n",
    "    except KeyboardInterrupt:\n",
    "        print(\"Training halted manually.\")\n",
    "        \n",
    "    # Finalize the run\n",
    "    model_path = \"./models/PPO_scratch_CartPole_latest.pt\"\n",
    "    torch.save(net.state_dict(), model_path)\n",
    "    wandb.log_model(model_path, \"latest\")\n",
    "    wandb.unwatch()\n",
    "    net.eval()\n",
    "    \n",
    "    return net"
   ]
  },
  {
   "cell_type": "code",
   "execution_count": null,
   "id": "58ee1511-10f8-47e2-a8be-4933d045bedc",
   "metadata": {},
   "outputs": [],
   "source": [
    "n_input = vecenv.single_observation_space.shape[0]\n",
    "n_actions = vecenv.single_action_space.n\n",
    "n_hiddens = 16\n",
    "\n",
    "n_episodes = 100_000\n",
    "learning_rate = 1e-3\n",
    "gamma = 0.99\n",
    "entropy_coef = 0.0\n",
    "min_update_batch_size = 16\n",
    "\n",
    "project = \"REINFORCE-scratch-CartPole\"\n",
    "config = {\n",
    "    \"num_envs\": num_envs,\n",
    "    \"n_hiddens\": n_hiddens,\n",
    "    \"n_episodes\": n_episodes,\n",
    "    \"learning_rate\": learning_rate,\n",
    "    \"entropy_coef\": entropy_coef,\n",
    "    \"min_update_batch_size\": min_update_batch_size,\n",
    "}\n",
    "\n",
    "wandb.init(\n",
    "    project=project,\n",
    "    config=config,\n",
    ")\n",
    "    \n",
    "net, mean_return, max_return, t = train(\n",
    "    n_episodes=n_episodes,\n",
    "    learning_rate=learning_rate,\n",
    "    gamma=gamma,\n",
    "    entropy_coef=entropy_coef,\n",
    "    min_update_batch_size=min_update_batch_size,\n",
    ")\n",
    "\n",
    "print(f\"Mean: {mean_return * 500:.2f}, Max: {max_return * 500:.2f}\")"
   ]
  },
  {
   "cell_type": "code",
   "execution_count": null,
   "id": "1744d8f2-80dc-41a3-9b77-1105a621735d",
   "metadata": {},
   "outputs": [],
   "source": [
    "import gymnasium as gym\n",
    "import numpy as np\n",
    "from datetime import datetime\n",
    "from pathlib import Path\n",
    "\n",
    "timestamp = datetime.now().strftime('%Y%m%d_%H%M%S')\n",
    "video_folder = f\"./videos/REINFORCE_scratch_CartPole_{timestamp}\"\n",
    "\n",
    "env = gym.make(\"CartPole-v1\", render_mode=\"rgb_array\")\n",
    "env = gym.wrappers.RecordVideo(env, video_folder)\n",
    "\n",
    "epsilon = 0.0\n",
    "\n",
    "for _ in range(9):\n",
    "    ob, _ = env.reset()\n",
    "    ob = np.expand_dims(ob, 0)\n",
    "    ret = 0\n",
    "    done, truncated = False, False\n",
    "    while not (done or truncated):\n",
    "        logits = net(ob)\n",
    "        actions, *_ = select_actions(logits)\n",
    "        ob, reward, done, truncated, _ = env.step(actions[0].numpy())\n",
    "        ob = np.expand_dims(ob, 0)\n",
    "        ret += reward\n",
    "    \n",
    "    print(ret)\n",
    "\n",
    "if wandb.run is not None:\n",
    "    latest_video = max(\n",
    "        Path(video_folder).glob(\"*.mp4\"),\n",
    "        key=lambda x: x.stat().st_mtime\n",
    "    )\n",
    "    wandb.log({\n",
    "        \"video\": wandb.Video(str(latest_video))\n",
    "    })\n",
    "    wandb.finish()\n",
    "    \n",
    "env.close()"
   ]
  }
 ],
 "metadata": {
  "kernelspec": {
   "display_name": "Python 3 (ipykernel)",
   "language": "python",
   "name": "python3"
  },
  "language_info": {
   "codemirror_mode": {
    "name": "ipython",
    "version": 3
   },
   "file_extension": ".py",
   "mimetype": "text/x-python",
   "name": "python",
   "nbconvert_exporter": "python",
   "pygments_lexer": "ipython3",
   "version": "3.11.11"
  }
 },
 "nbformat": 4,
 "nbformat_minor": 5
}
