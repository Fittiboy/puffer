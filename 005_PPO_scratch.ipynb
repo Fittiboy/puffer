{
 "cells": [
  {
   "cell_type": "code",
   "execution_count": 1,
   "id": "fd9339b7-5f15-4349-b4a8-73bb2b27e0d4",
   "metadata": {},
   "outputs": [],
   "source": [
    "import numpy as np\n",
    "import pufferlib, pufferlib.vector\n",
    "from pufferlib.environments import classic_control"
   ]
  },
  {
   "cell_type": "code",
   "execution_count": 2,
   "id": "404c2cde-21cd-4eb5-af67-b1e213499852",
   "metadata": {},
   "outputs": [],
   "source": [
    "num_envs = 12"
   ]
  },
  {
   "cell_type": "code",
   "execution_count": 3,
   "id": "f92823ba-6ae0-4de7-8d77-704e62476f35",
   "metadata": {},
   "outputs": [
    {
     "name": "stderr",
     "output_type": "stream",
     "text": [
      "Process Process-11:\n",
      "Process Process-3:\n",
      "Process Process-1:\n",
      "Process Process-7:\n",
      "Traceback (most recent call last):\n",
      "Traceback (most recent call last):\n",
      "Process Process-5:\n",
      "Process Process-4:\n",
      "Process Process-12:\n",
      "Process Process-10:\n",
      "Process Process-6:\n",
      "Process Process-2:\n",
      "Traceback (most recent call last):\n",
      "Traceback (most recent call last):\n",
      "Traceback (most recent call last):\n",
      "Traceback (most recent call last):\n",
      "Traceback (most recent call last):\n",
      "  File \"/home/fitti/.conda/envs/puffer/lib/python3.11/multiprocessing/process.py\", line 314, in _bootstrap\n",
      "    self.run()\n",
      "  File \"/home/fitti/.conda/envs/puffer/lib/python3.11/multiprocessing/process.py\", line 314, in _bootstrap\n",
      "    self.run()\n",
      "Traceback (most recent call last):\n",
      "Traceback (most recent call last):\n",
      "Traceback (most recent call last):\n",
      "  File \"/home/fitti/.conda/envs/puffer/lib/python3.11/multiprocessing/process.py\", line 314, in _bootstrap\n",
      "    self.run()\n",
      "  File \"/home/fitti/.conda/envs/puffer/lib/python3.11/multiprocessing/process.py\", line 314, in _bootstrap\n",
      "    self.run()\n",
      "  File \"/home/fitti/.conda/envs/puffer/lib/python3.11/multiprocessing/process.py\", line 108, in run\n",
      "    self._target(*self._args, **self._kwargs)\n",
      "  File \"/home/fitti/.conda/envs/puffer/lib/python3.11/multiprocessing/process.py\", line 108, in run\n",
      "    self._target(*self._args, **self._kwargs)\n",
      "  File \"/home/fitti/.conda/envs/puffer/lib/python3.11/multiprocessing/process.py\", line 314, in _bootstrap\n",
      "    self.run()\n",
      "  File \"/home/fitti/.conda/envs/puffer/lib/python3.11/multiprocessing/process.py\", line 314, in _bootstrap\n",
      "    self.run()\n",
      "  File \"/home/fitti/.conda/envs/puffer/lib/python3.11/multiprocessing/process.py\", line 314, in _bootstrap\n",
      "    self.run()\n",
      "  File \"/home/fitti/.conda/envs/puffer/lib/python3.11/multiprocessing/process.py\", line 314, in _bootstrap\n",
      "    self.run()\n",
      "  File \"/home/fitti/.conda/envs/puffer/lib/python3.11/multiprocessing/process.py\", line 314, in _bootstrap\n",
      "    self.run()\n",
      "  File \"/home/fitti/.conda/envs/puffer/lib/python3.11/multiprocessing/process.py\", line 108, in run\n",
      "    self._target(*self._args, **self._kwargs)\n",
      "  File \"/home/fitti/.conda/envs/puffer/lib/python3.11/site-packages/pufferlib/vector.py\", line 176, in _worker_process\n",
      "    if time.time() - start > 0.5:\n",
      "       ^^^^^^^^^^^\n",
      "  File \"/home/fitti/.conda/envs/puffer/lib/python3.11/multiprocessing/process.py\", line 108, in run\n",
      "    self._target(*self._args, **self._kwargs)\n",
      "  File \"/home/fitti/.conda/envs/puffer/lib/python3.11/multiprocessing/process.py\", line 108, in run\n",
      "    self._target(*self._args, **self._kwargs)\n",
      "  File \"/home/fitti/.conda/envs/puffer/lib/python3.11/multiprocessing/process.py\", line 314, in _bootstrap\n",
      "    self.run()\n",
      "  File \"/home/fitti/.conda/envs/puffer/lib/python3.11/site-packages/pufferlib/vector.py\", line 176, in _worker_process\n",
      "    if time.time() - start > 0.5:\n",
      "       ^^^^^^^^^^^\n",
      "  File \"/home/fitti/.conda/envs/puffer/lib/python3.11/multiprocessing/process.py\", line 108, in run\n",
      "    self._target(*self._args, **self._kwargs)\n",
      "  File \"/home/fitti/.conda/envs/puffer/lib/python3.11/multiprocessing/process.py\", line 108, in run\n",
      "    self._target(*self._args, **self._kwargs)\n",
      "  File \"/home/fitti/.conda/envs/puffer/lib/python3.11/multiprocessing/process.py\", line 108, in run\n",
      "    self._target(*self._args, **self._kwargs)\n",
      "  File \"/home/fitti/.conda/envs/puffer/lib/python3.11/multiprocessing/process.py\", line 108, in run\n",
      "    self._target(*self._args, **self._kwargs)\n",
      "  File \"/home/fitti/.conda/envs/puffer/lib/python3.11/site-packages/pufferlib/vector.py\", line 176, in _worker_process\n",
      "    if time.time() - start > 0.5:\n",
      "       ^^^^^^^^^^^\n",
      "  File \"/home/fitti/.conda/envs/puffer/lib/python3.11/multiprocessing/process.py\", line 108, in run\n",
      "    self._target(*self._args, **self._kwargs)\n",
      "KeyboardInterrupt\n",
      "  File \"/home/fitti/.conda/envs/puffer/lib/python3.11/site-packages/pufferlib/vector.py\", line 176, in _worker_process\n",
      "    if time.time() - start > 0.5:\n",
      "       ^^^^^^^^^^^\n",
      "  File \"/home/fitti/.conda/envs/puffer/lib/python3.11/site-packages/pufferlib/vector.py\", line 176, in _worker_process\n",
      "    if time.time() - start > 0.5:\n",
      "       ^^^^^^^^^^^\n",
      "  File \"/home/fitti/.conda/envs/puffer/lib/python3.11/site-packages/pufferlib/vector.py\", line 176, in _worker_process\n",
      "    if time.time() - start > 0.5:\n",
      "       ^^^^^^^^^^^\n",
      "  File \"/home/fitti/.conda/envs/puffer/lib/python3.11/site-packages/pufferlib/vector.py\", line 176, in _worker_process\n",
      "    if time.time() - start > 0.5:\n",
      "       ^^^^^^^^^^^\n",
      "  File \"/home/fitti/.conda/envs/puffer/lib/python3.11/site-packages/pufferlib/vector.py\", line 176, in _worker_process\n",
      "    if time.time() - start > 0.5:\n",
      "       ^^^^^^^^^^^\n",
      "KeyboardInterrupt\n",
      "  File \"/home/fitti/.conda/envs/puffer/lib/python3.11/site-packages/pufferlib/vector.py\", line 176, in _worker_process\n",
      "    if time.time() - start > 0.5:\n",
      "       ^^^^^^^^^^^\n",
      "  File \"/home/fitti/.conda/envs/puffer/lib/python3.11/site-packages/pufferlib/vector.py\", line 176, in _worker_process\n",
      "    if time.time() - start > 0.5:\n",
      "       ^^^^^^^^^^^\n",
      "KeyboardInterrupt\n",
      "KeyboardInterrupt\n",
      "KeyboardInterrupt\n",
      "KeyboardInterrupt\n",
      "KeyboardInterrupt\n",
      "KeyboardInterrupt\n",
      "KeyboardInterrupt\n",
      "KeyboardInterrupt\n",
      "Process Process-8:\n",
      "Traceback (most recent call last):\n",
      "  File \"/home/fitti/.conda/envs/puffer/lib/python3.11/multiprocessing/process.py\", line 314, in _bootstrap\n",
      "    self.run()\n",
      "  File \"/home/fitti/.conda/envs/puffer/lib/python3.11/multiprocessing/process.py\", line 108, in run\n",
      "    self._target(*self._args, **self._kwargs)\n",
      "Process Process-9:\n",
      "  File \"/home/fitti/.conda/envs/puffer/lib/python3.11/site-packages/pufferlib/vector.py\", line 176, in _worker_process\n",
      "    if time.time() - start > 0.5:\n",
      "       ^^^^^^^^^^^\n",
      "KeyboardInterrupt\n",
      "Traceback (most recent call last):\n",
      "  File \"/home/fitti/.conda/envs/puffer/lib/python3.11/multiprocessing/process.py\", line 314, in _bootstrap\n",
      "    self.run()\n",
      "  File \"/home/fitti/.conda/envs/puffer/lib/python3.11/multiprocessing/process.py\", line 108, in run\n",
      "    self._target(*self._args, **self._kwargs)\n",
      "KeyboardInterrupt\n",
      "  File \"/home/fitti/.conda/envs/puffer/lib/python3.11/site-packages/pufferlib/vector.py\", line 176, in _worker_process\n",
      "    if time.time() - start > 0.5:\n",
      "       ^^^^^^^^^^^\n"
     ]
    }
   ],
   "source": [
    "vecenv = pufferlib.vector.make(\n",
    "    classic_control.env_creator(\"CartPole-v1\"),\n",
    "    num_envs=num_envs,\n",
    "    backend=pufferlib.vector.Multiprocessing,\n",
    ")"
   ]
  },
  {
   "cell_type": "code",
   "execution_count": 4,
   "id": "bbf3a594-1e0c-48d4-aca0-a751953057d6",
   "metadata": {},
   "outputs": [
    {
     "data": {
      "text/plain": [
       "(22.278, 1949)"
      ]
     },
     "execution_count": 4,
     "metadata": {},
     "output_type": "execute_result"
    }
   ],
   "source": [
    "env_rewards = [list() for _ in range(num_envs)]\n",
    "env_rewards\n",
    "\n",
    "returns = []\n",
    "\n",
    "from itertools import count\n",
    "\n",
    "dones = np.array([False] * num_envs)\n",
    "truncateds = np.array([False] * num_envs)\n",
    "dones, truncateds\n",
    "\n",
    "obs, _ = vecenv.reset()\n",
    "episodes = 0\n",
    "for t in count():\n",
    "    obs, rewards, dones, truncateds, _ = vecenv.step(vecenv.action_space.sample())\n",
    "    for i, reward in enumerate(rewards):\n",
    "        env_rewards[i].append(reward)\n",
    "    for i in np.where(dones | truncateds)[0]:\n",
    "        returns.append(sum(env_rewards[i]))\n",
    "        env_rewards[i] = []\n",
    "        episodes += 1\n",
    "    if episodes >= 1_000:\n",
    "        break\n",
    "\n",
    "np.mean([np.sum(rets) for rets in returns]), t"
   ]
  },
  {
   "cell_type": "code",
   "execution_count": 5,
   "id": "beae8073-5836-4fdc-aadb-07bdf55023be",
   "metadata": {},
   "outputs": [],
   "source": [
    "import torch\n",
    "from torch import nn"
   ]
  },
  {
   "cell_type": "code",
   "execution_count": 6,
   "id": "f8a70469-b3f6-4b3f-a431-1203c5b6aef9",
   "metadata": {},
   "outputs": [],
   "source": [
    "class PPONetwork(nn.Module):\n",
    "    def __init__(self, n_input, n_hiddens, n_actions):\n",
    "        super().__init__()\n",
    "        self.mlp = nn.Sequential(\n",
    "            nn.Linear(n_input, n_hiddens),\n",
    "            nn.ReLU(),\n",
    "        )\n",
    "\n",
    "        self.policy_head = nn.Linear(n_hiddens, n_actions)\n",
    "        self.value_head = nn.Linear(n_hiddens, 1)\n",
    "\n",
    "    def forward(self, x):\n",
    "        device = next(self.mlp.parameters()).device\n",
    "        if not isinstance(x, torch.Tensor):\n",
    "            x = torch.tensor(np.array(x), dtype=torch.float32, device=device)\n",
    "        x = x.to(device=device)\n",
    "\n",
    "        x = self.mlp(x)\n",
    "        logits = self.policy_head(x)\n",
    "        value = self.value_head(x)\n",
    "        \n",
    "        return logits, value"
   ]
  },
  {
   "cell_type": "code",
   "execution_count": 7,
   "id": "3c4d6034-ce52-45d4-b9fd-7d28fab31574",
   "metadata": {},
   "outputs": [],
   "source": [
    "import random"
   ]
  },
  {
   "cell_type": "code",
   "execution_count": 8,
   "id": "b12c0c99-c683-4505-9a65-c3816f0a3d87",
   "metadata": {},
   "outputs": [],
   "source": [
    "def select_actions(logits):\n",
    "    dist = torch.distributions.Categorical(logits=logits) # shape [batch_size, n_actions]\n",
    "    \n",
    "    actions = dist.sample() # Shape: [n_actions]\n",
    "    log_probs = dist.log_prob(actions)\n",
    "\n",
    "    return actions, log_probs"
   ]
  },
  {
   "cell_type": "code",
   "execution_count": 9,
   "id": "bf979014-3a61-4539-9ba3-982976e1192a",
   "metadata": {},
   "outputs": [],
   "source": [
    "device = torch.device(\"cuda\" if torch.cuda.is_available() else \"cpu\")"
   ]
  },
  {
   "cell_type": "code",
   "execution_count": 10,
   "id": "eec0e14a-0153-4013-b9ca-e7f6ce219412",
   "metadata": {},
   "outputs": [],
   "source": [
    "from torch import optim\n",
    "\n",
    "from itertools import count\n",
    "from tqdm.auto import tqdm\n",
    "\n",
    "import wandb"
   ]
  },
  {
   "cell_type": "code",
   "execution_count": 11,
   "id": "59c88949-607b-4710-b806-796a5654e963",
   "metadata": {},
   "outputs": [],
   "source": [
    "def train(\n",
    "    max_batches = 8_000,\n",
    "    batch_size = 2048,\n",
    "    minibatch_size = 64,\n",
    "    num_epochs = 10,\n",
    "    learning_rate = 1e-4,\n",
    "    gamma = 0.99,\n",
    "    lmbd = 0.95,\n",
    "    value_loss_coef = 0.5,\n",
    "    clip_param = 0.2,\n",
    "    leave_bar = True,\n",
    "):  \n",
    "    assert batch_size % minibatch_size == 0\n",
    "    num_minibatches = int(batch_size / minibatch_size)\n",
    "    net = PPONetwork(n_input, n_hiddens, n_actions).to(device)\n",
    "    optimizer = optim.Adam(net.parameters(), lr=learning_rate)\n",
    "    \n",
    "    if wandb.run is not None:\n",
    "        wandb.watch(net, log=\"all\")\n",
    "        \n",
    "    obs, _ = vecenv.reset()\n",
    "    try:\n",
    "        for batch in tqdm(range(max_batches), leave=leave_bar, desc=\"Batches\"):\n",
    "            batch_states = torch.zeros((batch_size + 1, num_envs, n_input), device=device)\n",
    "            batch_values = torch.zeros((batch_size + 1, num_envs), device=device)\n",
    "            batch_actions = torch.zeros((batch_size, num_envs), device=device)\n",
    "            batch_log_probs = torch.zeros((batch_size, num_envs), device=device)\n",
    "            batch_rewards = torch.zeros((batch_size, num_envs), device=device)\n",
    "            batch_dones = torch.zeros((batch_size, num_envs), dtype=torch.bool, device=device)\n",
    "            batch_advantages = torch.zeros((batch_size, num_envs), device=device)\n",
    "            \n",
    "            # Collect one rollout for each env\n",
    "            for t in range(batch_size):\n",
    "                with torch.no_grad():\n",
    "                    logits, values = net(obs)\n",
    "                    actions, log_probs = select_actions(logits)\n",
    "        \n",
    "                next_obs, rewards, dones, truncateds, infos = vecenv.step(actions.cpu())\n",
    "\n",
    "                for i, info in enumerate(infos):\n",
    "                    wandb.log(data={\"return\": info[\"episode_length\"]})\n",
    "                    \n",
    "                batch_states[t] = torch.from_numpy(obs.copy())\n",
    "                batch_values[t] = values.squeeze()\n",
    "                batch_actions[t] = actions.squeeze()\n",
    "                batch_log_probs[t] = log_probs\n",
    "                batch_rewards[t] = torch.from_numpy(rewards.copy())\n",
    "                batch_dones[t] = torch.from_numpy(dones.copy())\n",
    "\n",
    "                obs = next_obs.copy()\n",
    "\n",
    "            # Append the final states and values for computing the final losses\n",
    "            with torch.no_grad():\n",
    "                _, final_values = net(obs)\n",
    "                batch_states[batch_size] = torch.from_numpy(obs.copy())\n",
    "                batch_values[batch_size] = final_values.squeeze()\n",
    "            \n",
    "            # Calculate advantages\n",
    "            advantages = torch.zeros(final_values.shape[0], device=device)\n",
    "            for t in reversed(range(batch_size)):\n",
    "                next_values = batch_values[t+1] * ~batch_dones[t]\n",
    "                td_error = batch_rewards[t] + gamma * next_values - batch_values[t]\n",
    "                advantages = td_error + gamma * lmbd * (advantages * ~batch_dones[t])\n",
    "                adv_mean, adv_std = advantages.mean(), advantages.std()\n",
    "                batch_advantages[t] = (advantages - adv_mean) / (1.0 if adv_std == 0.0 else adv_std)\n",
    "\n",
    "            # Perform updates\n",
    "            for epoch in range(num_epochs):\n",
    "                indices = torch.randperm(batch_size)\n",
    "                for minibatch in range(num_minibatches):\n",
    "                    start = minibatch * minibatch_size\n",
    "                    end = start + minibatch_size\n",
    "                    \n",
    "                    for t in indices[start:end]:\n",
    "                        logits, values = net(batch_states[t])\n",
    "                        dist = torch.distributions.Categorical(logits=logits)\n",
    "                        log_probs = dist.log_prob(batch_actions[t])\n",
    "                        ratio = (log_probs - batch_log_probs[t]).exp()\n",
    "                        \n",
    "                        next_values = batch_values[t+1] * ~batch_dones[t]\n",
    "                        td_target = batch_rewards[t] + gamma * next_values\n",
    "                        value_loss = (value_loss_coef * (td_target - values)**2).mean()\n",
    "                        \n",
    "                        surr1 = ratio * batch_advantages[t]\n",
    "                        surr2 = torch.clamp(ratio, 1.0 - clip_param, 1.0 + clip_param) * batch_advantages[t]\n",
    "                        policy_loss = -torch.min(surr1, surr2).mean()\n",
    "    \n",
    "                        loss = policy_loss + value_loss\n",
    "                        optimizer.zero_grad()\n",
    "                        loss.backward()\n",
    "                        optimizer.step()\n",
    "\n",
    "    except KeyboardInterrupt:\n",
    "        print(\"Training halted manually.\")\n",
    "        \n",
    "    # Finalize the run\n",
    "    model_path = \"./models/PPO_scratch_CartPole_latest.pt\"\n",
    "    torch.save(net.state_dict(), model_path)\n",
    "    wandb.log_model(model_path, \"latest\")\n",
    "    wandb.unwatch()\n",
    "    net.eval()\n",
    "    \n",
    "    return net"
   ]
  },
  {
   "cell_type": "code",
   "execution_count": 12,
   "id": "58ee1511-10f8-47e2-a8be-4933d045bedc",
   "metadata": {},
   "outputs": [
    {
     "name": "stderr",
     "output_type": "stream",
     "text": [
      "\u001b[34m\u001b[1mwandb\u001b[0m: Using wandb-core as the SDK backend.  Please refer to https://wandb.me/wandb-core for more information.\n",
      "\u001b[34m\u001b[1mwandb\u001b[0m: Currently logged in as: \u001b[33mfitti\u001b[0m. Use \u001b[1m`wandb login --relogin`\u001b[0m to force relogin\n"
     ]
    },
    {
     "data": {
      "text/html": [
       "Tracking run with wandb version 0.19.1"
      ],
      "text/plain": [
       "<IPython.core.display.HTML object>"
      ]
     },
     "metadata": {},
     "output_type": "display_data"
    },
    {
     "data": {
      "text/html": [
       "Run data is saved locally in <code>/home/fitti/projects/puffer/wandb/run-20250221_152724-5b1ic088</code>"
      ],
      "text/plain": [
       "<IPython.core.display.HTML object>"
      ]
     },
     "metadata": {},
     "output_type": "display_data"
    },
    {
     "data": {
      "text/html": [
       "Syncing run <strong><a href='https://wandb.ai/fitti/PPO-scratch-CartPole/runs/5b1ic088' target=\"_blank\">firm-donkey-62</a></strong> to <a href='https://wandb.ai/fitti/PPO-scratch-CartPole' target=\"_blank\">Weights & Biases</a> (<a href='https://wandb.me/developer-guide' target=\"_blank\">docs</a>)<br>"
      ],
      "text/plain": [
       "<IPython.core.display.HTML object>"
      ]
     },
     "metadata": {},
     "output_type": "display_data"
    },
    {
     "data": {
      "text/html": [
       " View project at <a href='https://wandb.ai/fitti/PPO-scratch-CartPole' target=\"_blank\">https://wandb.ai/fitti/PPO-scratch-CartPole</a>"
      ],
      "text/plain": [
       "<IPython.core.display.HTML object>"
      ]
     },
     "metadata": {},
     "output_type": "display_data"
    },
    {
     "data": {
      "text/html": [
       " View run at <a href='https://wandb.ai/fitti/PPO-scratch-CartPole/runs/5b1ic088' target=\"_blank\">https://wandb.ai/fitti/PPO-scratch-CartPole/runs/5b1ic088</a>"
      ],
      "text/plain": [
       "<IPython.core.display.HTML object>"
      ]
     },
     "metadata": {},
     "output_type": "display_data"
    },
    {
     "data": {
      "application/vnd.jupyter.widget-view+json": {
       "model_id": "1973b4a34642460ea3ead406d484805c",
       "version_major": 2,
       "version_minor": 0
      },
      "text/plain": [
       "Batches:   0%|          | 0/2400 [00:00<?, ?it/s]"
      ]
     },
     "metadata": {},
     "output_type": "display_data"
    },
    {
     "name": "stdout",
     "output_type": "stream",
     "text": [
      "Training halted manually.\n"
     ]
    }
   ],
   "source": [
    "n_input = vecenv.single_observation_space.shape[0]\n",
    "n_actions = vecenv.single_action_space.n\n",
    "n_hiddens = 16\n",
    "\n",
    "max_batches = 2_400\n",
    "batch_size = 1024\n",
    "minibatch_size = 128\n",
    "num_epochs = 10\n",
    "learning_rate = 1e-4\n",
    "gamma = 0.99\n",
    "lmbd = 0.95\n",
    "value_loss_coef = 0.5\n",
    "clip_param = 0.2\n",
    "leave_bar = True\n",
    "\n",
    "project = \"PPO-scratch-CartPole\"\n",
    "config = {\n",
    "    \"num_envs\": num_envs,\n",
    "    \"n_hiddens\": n_hiddens,\n",
    "    \"batch_size\": batch_size,\n",
    "    \"minibatch_size\": minibatch_size,\n",
    "    \"num_epochs\": num_epochs,\n",
    "    \"learning_rate\": learning_rate,\n",
    "    \"gamma\": gamma,\n",
    "    \"lambda\": lmbd,\n",
    "    \"value_loss_coef\": value_loss_coef,\n",
    "    \"clip_param\": clip_param,\n",
    "}\n",
    "\n",
    "wandb.init(\n",
    "    project=project,\n",
    "    config=config,\n",
    ")\n",
    "    \n",
    "net = train(\n",
    "    max_batches=max_batches,\n",
    "    batch_size=batch_size,\n",
    "    minibatch_size=minibatch_size,\n",
    "    num_epochs=num_epochs,\n",
    "    learning_rate=learning_rate,\n",
    "    gamma=gamma,\n",
    "    lmbd=lmbd,\n",
    "    value_loss_coef=value_loss_coef,\n",
    "    clip_param=clip_param,\n",
    "    leave_bar=leave_bar,\n",
    ")"
   ]
  },
  {
   "cell_type": "code",
   "execution_count": 13,
   "id": "1744d8f2-80dc-41a3-9b77-1105a621735d",
   "metadata": {},
   "outputs": [
    {
     "name": "stdout",
     "output_type": "stream",
     "text": [
      "MoviePy - Building video /home/fitti/projects/puffer/videos/PPO_scratch_CartPole_20250221_153133/rl-video-episode-0.mp4.\n",
      "MoviePy - Writing video /home/fitti/projects/puffer/videos/PPO_scratch_CartPole_20250221_153133/rl-video-episode-0.mp4\n",
      "\n"
     ]
    },
    {
     "name": "stderr",
     "output_type": "stream",
     "text": [
      "                                                                          "
     ]
    },
    {
     "name": "stdout",
     "output_type": "stream",
     "text": [
      "MoviePy - Done !\n",
      "MoviePy - video ready /home/fitti/projects/puffer/videos/PPO_scratch_CartPole_20250221_153133/rl-video-episode-0.mp4\n",
      "500.0\n",
      "MoviePy - Building video /home/fitti/projects/puffer/videos/PPO_scratch_CartPole_20250221_153133/rl-video-episode-1.mp4.\n",
      "MoviePy - Writing video /home/fitti/projects/puffer/videos/PPO_scratch_CartPole_20250221_153133/rl-video-episode-1.mp4\n",
      "\n"
     ]
    },
    {
     "name": "stderr",
     "output_type": "stream",
     "text": [
      "                                                                          "
     ]
    },
    {
     "name": "stdout",
     "output_type": "stream",
     "text": [
      "MoviePy - Done !\n",
      "MoviePy - video ready /home/fitti/projects/puffer/videos/PPO_scratch_CartPole_20250221_153133/rl-video-episode-1.mp4\n",
      "500.0\n",
      "500.0\n",
      "500.0\n",
      "500.0\n",
      "500.0\n",
      "500.0\n",
      "500.0\n",
      "MoviePy - Building video /home/fitti/projects/puffer/videos/PPO_scratch_CartPole_20250221_153133/rl-video-episode-8.mp4.\n",
      "MoviePy - Writing video /home/fitti/projects/puffer/videos/PPO_scratch_CartPole_20250221_153133/rl-video-episode-8.mp4\n",
      "\n"
     ]
    },
    {
     "name": "stderr",
     "output_type": "stream",
     "text": [
      "                                                                          "
     ]
    },
    {
     "name": "stdout",
     "output_type": "stream",
     "text": [
      "MoviePy - Done !\n",
      "MoviePy - video ready /home/fitti/projects/puffer/videos/PPO_scratch_CartPole_20250221_153133/rl-video-episode-8.mp4\n",
      "500.0\n"
     ]
    },
    {
     "name": "stderr",
     "output_type": "stream",
     "text": []
    },
    {
     "data": {
      "text/html": [],
      "text/plain": [
       "<IPython.core.display.HTML object>"
      ]
     },
     "metadata": {},
     "output_type": "display_data"
    },
    {
     "data": {
      "text/html": [
       "<br>    <style><br>        .wandb-row {<br>            display: flex;<br>            flex-direction: row;<br>            flex-wrap: wrap;<br>            justify-content: flex-start;<br>            width: 100%;<br>        }<br>        .wandb-col {<br>            display: flex;<br>            flex-direction: column;<br>            flex-basis: 100%;<br>            flex: 1;<br>            padding: 10px;<br>        }<br>    </style><br><div class=\"wandb-row\"><div class=\"wandb-col\"><h3>Run history:</h3><br/><table class=\"wandb\"><tr><td>return</td><td>▁▁▁▁▁▁▁▁▁▂▁▁▂▁▁▁▁▁▁▂▂▂▃▃▂▄▂▄▄▃▄▆█▃█▆▇█▆█</td></tr></table><br/></div><div class=\"wandb-col\"><h3>Run summary:</h3><br/><table class=\"wandb\"><tr><td>return</td><td>500</td></tr></table><br/></div></div>"
      ],
      "text/plain": [
       "<IPython.core.display.HTML object>"
      ]
     },
     "metadata": {},
     "output_type": "display_data"
    },
    {
     "data": {
      "text/html": [
       " View run <strong style=\"color:#cdcd00\">firm-donkey-62</strong> at: <a href='https://wandb.ai/fitti/PPO-scratch-CartPole/runs/5b1ic088' target=\"_blank\">https://wandb.ai/fitti/PPO-scratch-CartPole/runs/5b1ic088</a><br> View project at: <a href='https://wandb.ai/fitti/PPO-scratch-CartPole' target=\"_blank\">https://wandb.ai/fitti/PPO-scratch-CartPole</a><br>Synced 5 W&B file(s), 0 media file(s), 2 artifact file(s) and 1 other file(s)"
      ],
      "text/plain": [
       "<IPython.core.display.HTML object>"
      ]
     },
     "metadata": {},
     "output_type": "display_data"
    },
    {
     "data": {
      "text/html": [
       "Find logs at: <code>./wandb/run-20250221_152724-5b1ic088/logs</code>"
      ],
      "text/plain": [
       "<IPython.core.display.HTML object>"
      ]
     },
     "metadata": {},
     "output_type": "display_data"
    }
   ],
   "source": [
    "import gymnasium as gym\n",
    "import numpy as np\n",
    "from datetime import datetime\n",
    "from pathlib import Path\n",
    "\n",
    "timestamp = datetime.now().strftime('%Y%m%d_%H%M%S')\n",
    "video_folder = f\"./videos/PPO_scratch_CartPole_{timestamp}\"\n",
    "\n",
    "env = gym.make(\"CartPole-v1\", render_mode=\"rgb_array\")\n",
    "env = gym.wrappers.RecordVideo(env, video_folder)\n",
    "\n",
    "epsilon = 0.0\n",
    "\n",
    "for _ in range(9):\n",
    "    ob, _ = env.reset()\n",
    "    ob = np.expand_dims(ob, 0)\n",
    "    ret = 0\n",
    "    done, truncated = False, False\n",
    "    while not (done or truncated):\n",
    "        logits, _ = net(ob)\n",
    "        actions, *_ = select_actions(logits)\n",
    "        ob, reward, done, truncated, _ = env.step(actions[0].cpu().numpy())\n",
    "        ob = np.expand_dims(ob, 0)\n",
    "        ret += reward\n",
    "    \n",
    "    print(ret)\n",
    "\n",
    "if wandb.run is not None:\n",
    "    latest_video = max(\n",
    "        Path(video_folder).glob(\"*.mp4\"),\n",
    "        key=lambda x: x.stat().st_mtime\n",
    "    )\n",
    "    wandb.log({\n",
    "        \"video\": wandb.Video(str(latest_video))\n",
    "    })\n",
    "    wandb.finish()\n",
    "    \n",
    "env.close()"
   ]
  }
 ],
 "metadata": {
  "kernelspec": {
   "display_name": "Python 3 (ipykernel)",
   "language": "python",
   "name": "python3"
  },
  "language_info": {
   "codemirror_mode": {
    "name": "ipython",
    "version": 3
   },
   "file_extension": ".py",
   "mimetype": "text/x-python",
   "name": "python",
   "nbconvert_exporter": "python",
   "pygments_lexer": "ipython3",
   "version": "3.11.11"
  }
 },
 "nbformat": 4,
 "nbformat_minor": 5
}
