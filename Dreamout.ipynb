{
 "cells": [
  {
   "cell_type": "code",
   "execution_count": 1,
   "id": "e26a86c3-4dbf-48e7-bf82-91a9d1742091",
   "metadata": {},
   "outputs": [
    {
     "name": "stderr",
     "output_type": "stream",
     "text": [
      "/home/fitti/.conda/envs/puffer/lib/python3.11/site-packages/gymnasium/envs/registration.py:596: UserWarning: \u001b[33mWARN: plugin: shimmy.registration:register_gymnasium_envs raised Traceback (most recent call last):\n",
      "  File \"/home/fitti/.conda/envs/puffer/lib/python3.11/site-packages/gymnasium/envs/registration.py\", line 594, in load_plugin_envs\n",
      "    fn()\n",
      "  File \"/home/fitti/.conda/envs/puffer/lib/python3.11/site-packages/shimmy/registration.py\", line 304, in register_gymnasium_envs\n",
      "    _register_atari_envs()\n",
      "  File \"/home/fitti/.conda/envs/puffer/lib/python3.11/site-packages/shimmy/registration.py\", line 205, in _register_atari_envs\n",
      "    import ale_py\n",
      "  File \"/home/fitti/.conda/envs/puffer/lib/python3.11/site-packages/ale_py/__init__.py\", line 66, in <module>\n",
      "    register_v0_v4_envs()\n",
      "  File \"/home/fitti/.conda/envs/puffer/lib/python3.11/site-packages/ale_py/registration.py\", line 176, in register_v0_v4_envs\n",
      "    _register_rom_configs(legacy_games, obs_types, versions)\n",
      "  File \"/home/fitti/.conda/envs/puffer/lib/python3.11/site-packages/ale_py/registration.py\", line 62, in _register_rom_configs\n",
      "    gymnasium.register(\n",
      "    ^^^^^^^^^^^^^^^^^^\n",
      "AttributeError: partially initialized module 'gymnasium' has no attribute 'register' (most likely due to a circular import)\n",
      "\u001b[0m\n",
      "  logger.warn(f\"plugin: {plugin.value} raised {traceback.format_exc()}\")\n"
     ]
    }
   ],
   "source": [
    "import gymnasium as gym\n",
    "import ale_py\n",
    "import torch\n",
    "from torch import nn\n",
    "\n",
    "from math import prod"
   ]
  },
  {
   "cell_type": "code",
   "execution_count": 2,
   "id": "e7fb39da-d5bc-4ece-9fac-61b81affe120",
   "metadata": {},
   "outputs": [
    {
     "name": "stderr",
     "output_type": "stream",
     "text": [
      "A.L.E: Arcade Learning Environment (version 0.9.0+750d7f9)\n",
      "[Powered by Stella]\n"
     ]
    }
   ],
   "source": [
    "env = gym.make(\"ALE/Breakout-v5\")"
   ]
  },
  {
   "cell_type": "code",
   "execution_count": 3,
   "id": "841f7e7d-32b6-4339-af17-15daa43f9f8f",
   "metadata": {},
   "outputs": [],
   "source": [
    "ob_shape, n_actions = env.observation_space.shape, env.action_space.n"
   ]
  },
  {
   "cell_type": "code",
   "execution_count": 4,
   "id": "7308fd94-a689-4f75-8ec6-867aa28d7ac9",
   "metadata": {},
   "outputs": [],
   "source": [
    "class EncoderBlock(nn.Module):\n",
    "    def __init__(self, in_channels, first_channels, second_channels, out_channels):\n",
    "        super().__init__()\n",
    "        self.encoder = nn.Sequential(\n",
    "            nn.Conv2d(in_channels, first_channels, kernel_size=3, padding=1),\n",
    "            nn.ReLU(),\n",
    "            nn.Conv2d(first_channels, second_channels, kernel_size=3, padding=1),\n",
    "            nn.ReLU(),\n",
    "            nn.Conv2d(second_channels, out_channels, kernel_size=3, padding=1),\n",
    "            nn.ReLU(),\n",
    "            nn.MaxPool2d(2, 2),\n",
    "        )\n",
    "\n",
    "    def forward(self, x):\n",
    "        return self.encoder(x)"
   ]
  },
  {
   "cell_type": "code",
   "execution_count": 5,
   "id": "007b9492-a210-4497-b4ca-0ef1e0198093",
   "metadata": {},
   "outputs": [],
   "source": [
    "class DecoderBlock(nn.Module):\n",
    "    def __init__(self, in_channels, first_channels, second_channels, out_channels, out_size=None):\n",
    "        super().__init__()\n",
    "        if out_size:\n",
    "            upsampler = nn.UpsamplingBilinear2d(size=out_size)\n",
    "        else:\n",
    "            upsampler = nn.UpsamplingBilinear2d(scale_factor=2)\n",
    "        self.decoder = nn.Sequential(\n",
    "            upsampler,\n",
    "            nn.Conv2d(in_channels, first_channels, kernel_size=3, padding=1),\n",
    "            nn.ReLU(),\n",
    "            nn.Conv2d(first_channels, second_channels, kernel_size=3, padding=1),\n",
    "            nn.ReLU(),\n",
    "            nn.Conv2d(second_channels, out_channels, kernel_size=3, padding=1),\n",
    "            nn.ReLU(),\n",
    "        )\n",
    "\n",
    "    def forward(self, x):\n",
    "        return self.decoder(x)"
   ]
  },
  {
   "cell_type": "code",
   "execution_count": 6,
   "id": "3a4365c8-159b-4352-8b3b-0ae3bc618183",
   "metadata": {},
   "outputs": [],
   "source": [
    "class Encoder(nn.Module):\n",
    "    def __init__(self, ob_shape):\n",
    "        super().__init__()\n",
    "        c, h, w = ob_shape\n",
    "        self.encoder = nn.Sequential(\n",
    "            EncoderBlock(c, 16, 32, 32),\n",
    "            EncoderBlock(32, 48, 48, 64),\n",
    "            EncoderBlock(64, 128, 128, 64),\n",
    "        )\n",
    "\n",
    "    def forward(self, x):\n",
    "        return self.encoder(x)"
   ]
  },
  {
   "cell_type": "code",
   "execution_count": 7,
   "id": "b0c06869-b3bc-4733-acc1-9da89bb28ce0",
   "metadata": {},
   "outputs": [],
   "source": [
    "class Decoder(nn.Module):\n",
    "    def __init__(self, ob_shape):\n",
    "        super().__init__()\n",
    "        c, h, w = ob_shape\n",
    "        self.decoder = nn.Sequential(\n",
    "            DecoderBlock(64, 128, 128, 64),\n",
    "            DecoderBlock(64, 48, 48, 32),\n",
    "            DecoderBlock(32, 32, 16, c, out_size=[h, w]),\n",
    "        )\n",
    "\n",
    "    def forward(self, x):\n",
    "        return self.decoder(x)"
   ]
  },
  {
   "cell_type": "code",
   "execution_count": 8,
   "id": "9d098e9f-b394-4434-8a31-638b175b8de3",
   "metadata": {},
   "outputs": [],
   "source": [
    "class PolicyNetwork(nn.Module):\n",
    "    def __init__(self, in_shape, n_hiddens, n_actions):\n",
    "        super().__init__()\n",
    "        self.input = nn.Sequential(\n",
    "            nn.Flatten(),\n",
    "            nn.Linear(prod(in_shape), n_hiddens),\n",
    "        )\n",
    "        self.step = nn.Linear(n_hiddens, n_hiddens)\n",
    "        self.out = nn.Linear(n_hiddens, n_actions)\n",
    "        \n",
    "    def forward(self, x, state):\n",
    "        state = self.step(state) + self.input(x)\n",
    "        out = self.out(state)\n",
    "\n",
    "        return out, state"
   ]
  }
 ],
 "metadata": {
  "kernelspec": {
   "display_name": "Python 3 (ipykernel)",
   "language": "python",
   "name": "python3"
  },
  "language_info": {
   "codemirror_mode": {
    "name": "ipython",
    "version": 3
   },
   "file_extension": ".py",
   "mimetype": "text/x-python",
   "name": "python",
   "nbconvert_exporter": "python",
   "pygments_lexer": "ipython3",
   "version": "3.11.11"
  }
 },
 "nbformat": 4,
 "nbformat_minor": 5
}
