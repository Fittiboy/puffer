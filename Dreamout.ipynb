{
 "cells": [
  {
   "cell_type": "code",
   "execution_count": 1,
   "id": "e26a86c3-4dbf-48e7-bf82-91a9d1742091",
   "metadata": {},
   "outputs": [
    {
     "name": "stderr",
     "output_type": "stream",
     "text": [
      "/home/fitti/.conda/envs/puffer/lib/python3.11/site-packages/gymnasium/envs/registration.py:596: UserWarning: \u001b[33mWARN: plugin: shimmy.registration:register_gymnasium_envs raised Traceback (most recent call last):\n",
      "  File \"/home/fitti/.conda/envs/puffer/lib/python3.11/site-packages/gymnasium/envs/registration.py\", line 594, in load_plugin_envs\n",
      "    fn()\n",
      "  File \"/home/fitti/.conda/envs/puffer/lib/python3.11/site-packages/shimmy/registration.py\", line 304, in register_gymnasium_envs\n",
      "    _register_atari_envs()\n",
      "  File \"/home/fitti/.conda/envs/puffer/lib/python3.11/site-packages/shimmy/registration.py\", line 205, in _register_atari_envs\n",
      "    import ale_py\n",
      "  File \"/home/fitti/.conda/envs/puffer/lib/python3.11/site-packages/ale_py/__init__.py\", line 66, in <module>\n",
      "    register_v0_v4_envs()\n",
      "  File \"/home/fitti/.conda/envs/puffer/lib/python3.11/site-packages/ale_py/registration.py\", line 176, in register_v0_v4_envs\n",
      "    _register_rom_configs(legacy_games, obs_types, versions)\n",
      "  File \"/home/fitti/.conda/envs/puffer/lib/python3.11/site-packages/ale_py/registration.py\", line 62, in _register_rom_configs\n",
      "    gymnasium.register(\n",
      "    ^^^^^^^^^^^^^^^^^^\n",
      "AttributeError: partially initialized module 'gymnasium' has no attribute 'register' (most likely due to a circular import)\n",
      "\u001b[0m\n",
      "  logger.warn(f\"plugin: {plugin.value} raised {traceback.format_exc()}\")\n"
     ]
    }
   ],
   "source": [
    "from einops import rearrange\n",
    "import numpy as np\n",
    "import gymnasium as gym\n",
    "import ale_py\n",
    "import torch\n",
    "from torch import nn, optim\n",
    "\n",
    "from math import prod"
   ]
  },
  {
   "cell_type": "code",
   "execution_count": 2,
   "id": "215f2b36-862b-47b4-85c3-f2e7d7f97229",
   "metadata": {},
   "outputs": [],
   "source": [
    "device = torch.device(\"cuda\" if torch.cuda.is_available() else \"cpu\")"
   ]
  },
  {
   "cell_type": "code",
   "execution_count": 3,
   "id": "e7fb39da-d5bc-4ece-9fac-61b81affe120",
   "metadata": {},
   "outputs": [
    {
     "name": "stderr",
     "output_type": "stream",
     "text": [
      "A.L.E: Arcade Learning Environment (version 0.9.0+750d7f9)\n",
      "[Powered by Stella]\n"
     ]
    }
   ],
   "source": [
    "env = gym.make(\"ALE/Breakout-v5\")\n",
    "env = gym.wrappers.TransformObservation(env, lambda x: rearrange(x, \"h w c -> c h w\"))"
   ]
  },
  {
   "cell_type": "code",
   "execution_count": 4,
   "id": "841f7e7d-32b6-4339-af17-15daa43f9f8f",
   "metadata": {},
   "outputs": [
    {
     "data": {
      "text/plain": [
       "((3, 210, 160), 4)"
      ]
     },
     "execution_count": 4,
     "metadata": {},
     "output_type": "execute_result"
    }
   ],
   "source": [
    "ob_shape, n_actions = env.observation_space.shape, env.action_space.n\n",
    "ob_shape = (ob_shape[2], ob_shape[0], ob_shape[1])\n",
    "ob_shape, n_actions"
   ]
  },
  {
   "cell_type": "code",
   "execution_count": 5,
   "id": "7308fd94-a689-4f75-8ec6-867aa28d7ac9",
   "metadata": {},
   "outputs": [],
   "source": [
    "class EncoderBlock(nn.Module):\n",
    "    def __init__(self, in_channels, first_channels, second_channels, out_channels):\n",
    "        super().__init__()\n",
    "        self.encoder = nn.Sequential(\n",
    "            nn.Conv2d(in_channels, first_channels, kernel_size=3, padding=1),\n",
    "            nn.ReLU(),\n",
    "            nn.Conv2d(first_channels, second_channels, kernel_size=3, padding=1),\n",
    "            nn.ReLU(),\n",
    "            nn.Conv2d(second_channels, out_channels, kernel_size=3, padding=1),\n",
    "            nn.ReLU(),\n",
    "            nn.MaxPool2d(2, 2),\n",
    "            nn.BatchNorm2d(out_channels),\n",
    "        )\n",
    "\n",
    "    def forward(self, x):\n",
    "        return self.encoder(x)"
   ]
  },
  {
   "cell_type": "code",
   "execution_count": 6,
   "id": "007b9492-a210-4497-b4ca-0ef1e0198093",
   "metadata": {},
   "outputs": [],
   "source": [
    "class DecoderBlock(nn.Module):\n",
    "    def __init__(self, in_channels, first_channels, second_channels, out_channels, out_size=None):\n",
    "        super().__init__()\n",
    "        if out_size:\n",
    "            upsampler = nn.UpsamplingBilinear2d(size=out_size)\n",
    "        else:\n",
    "            upsampler = nn.UpsamplingBilinear2d(scale_factor=2)\n",
    "        self.decoder = nn.Sequential(\n",
    "            upsampler,\n",
    "            nn.Conv2d(in_channels, first_channels, kernel_size=3, padding=1),\n",
    "            nn.ReLU(),\n",
    "            nn.Conv2d(first_channels, second_channels, kernel_size=3, padding=1),\n",
    "            nn.ReLU(),\n",
    "            nn.Conv2d(second_channels, out_channels, kernel_size=3, padding=1),\n",
    "            nn.ReLU(),\n",
    "        )\n",
    "\n",
    "    def forward(self, x):\n",
    "        return self.decoder(x)"
   ]
  },
  {
   "cell_type": "code",
   "execution_count": 7,
   "id": "3a4365c8-159b-4352-8b3b-0ae3bc618183",
   "metadata": {},
   "outputs": [],
   "source": [
    "class Encoder(nn.Module):\n",
    "    def __init__(self, ob_shape):\n",
    "        super().__init__()\n",
    "        c, h, w = ob_shape\n",
    "        self.encoder = nn.Sequential(\n",
    "            EncoderBlock(c, 16, 32, 32),\n",
    "            EncoderBlock(32, 48, 48, 64),\n",
    "            EncoderBlock(64, 128, 128, 64),\n",
    "            EncoderBlock(64, 48, 32, 32),\n",
    "        )\n",
    "\n",
    "        dummy_in = torch.zeros((1,) + tuple(ob_shape))\n",
    "        self.out_shape = self.encoder(dummy_in).shape[1:]\n",
    "\n",
    "    def forward(self, x):\n",
    "        return self.encoder(x)"
   ]
  },
  {
   "cell_type": "code",
   "execution_count": 8,
   "id": "a606a822-bae4-42c0-af32-51e7243ed463",
   "metadata": {},
   "outputs": [
    {
     "data": {
      "text/plain": [
       "torch.Size([32, 13, 10])"
      ]
     },
     "execution_count": 8,
     "metadata": {},
     "output_type": "execute_result"
    }
   ],
   "source": [
    "enc = Encoder(ob_shape)\n",
    "enc.out_shape"
   ]
  },
  {
   "cell_type": "code",
   "execution_count": 9,
   "id": "b0c06869-b3bc-4733-acc1-9da89bb28ce0",
   "metadata": {},
   "outputs": [],
   "source": [
    "class Decoder(nn.Module):\n",
    "    def __init__(self, ob_shape):\n",
    "        super().__init__()\n",
    "        c, h, w = ob_shape\n",
    "        self.decoder = nn.Sequential(\n",
    "            DecoderBlock(32, 32, 48, 64),\n",
    "            DecoderBlock(64, 32, 16, c, out_size=[h, w]),\n",
    "        )\n",
    "\n",
    "    def forward(self, x):\n",
    "        return self.decoder(x)"
   ]
  },
  {
   "cell_type": "code",
   "execution_count": 10,
   "id": "9d098e9f-b394-4434-8a31-638b175b8de3",
   "metadata": {},
   "outputs": [],
   "source": [
    "class RecurrentNetwork(nn.Module):\n",
    "    def __init__(self, in_shape, n_hiddens):\n",
    "        super().__init__()\n",
    "        self.n_hiddens = n_hiddens\n",
    "        self.step = nn.Linear(prod(in_shape) + n_hiddens, n_hiddens)\n",
    "\n",
    "    def init_memory(self):\n",
    "        return torch.zeros(self.n_hiddens, dtype=torch.float32).unsqueeze(0)\n",
    "\n",
    "    def forward(self, state, memory):\n",
    "        x = torch.cat((state.flatten(1), memory), dim=1)\n",
    "        return self.step(x)"
   ]
  },
  {
   "cell_type": "code",
   "execution_count": 11,
   "id": "7de7b12b-7f95-4d3b-a165-c63035a59288",
   "metadata": {},
   "outputs": [],
   "source": [
    "class PredictionNetwork(nn.Module):\n",
    "    def __init__(self, n_hiddens, out_shape):\n",
    "        super().__init__()\n",
    "        self.input = nn.Linear(1, prod(out_shape))\n",
    "        self.step = nn.Linear(n_hiddens, prod(out_shape))\n",
    "\n",
    "    def forward(self, memory, action):\n",
    "        return self.step(memory) + self.input(action)"
   ]
  },
  {
   "cell_type": "code",
   "execution_count": 12,
   "id": "c18059b5-73ee-4e48-8365-b59a520b64a0",
   "metadata": {},
   "outputs": [],
   "source": [
    "class PolicyNetwork(nn.Module):\n",
    "    def __init__(self, n_hiddens, n_actions):\n",
    "        super().__init__()\n",
    "        self.head = nn.Linear(n_hiddens, n_actions)\n",
    "\n",
    "    def forward(self, x):\n",
    "        return self.head(x)"
   ]
  },
  {
   "cell_type": "code",
   "execution_count": 13,
   "id": "b651ec76-9ccb-45d4-9cb2-26d9b1f81776",
   "metadata": {},
   "outputs": [],
   "source": [
    "class ValueNetwork(nn.Module):\n",
    "    def __init__(self, n_hiddens):\n",
    "        super().__init__()\n",
    "        self.head = nn.Linear(n_hiddens, 1)\n",
    "\n",
    "    def forward(self, x):\n",
    "        return self.head(x)"
   ]
  },
  {
   "cell_type": "code",
   "execution_count": 14,
   "id": "3c4d6034-ce52-45d4-b9fd-7d28fab31574",
   "metadata": {},
   "outputs": [],
   "source": [
    "import random"
   ]
  },
  {
   "cell_type": "code",
   "execution_count": 15,
   "id": "b12c0c99-c683-4505-9a65-c3816f0a3d87",
   "metadata": {},
   "outputs": [],
   "source": [
    "def select_action(logits):\n",
    "    dist = torch.distributions.Categorical(logits=logits) # shape [batch_size, n_actions]\n",
    "    \n",
    "    action = dist.sample() # Shape: [n_actions]\n",
    "    log_prob = dist.log_prob(action)\n",
    "\n",
    "    return action, log_prob"
   ]
  },
  {
   "cell_type": "code",
   "execution_count": 16,
   "id": "250b035a-d545-4134-9e4e-6309f724d699",
   "metadata": {},
   "outputs": [],
   "source": [
    "n_hiddens = 128\n",
    "gamma = 0.99\n",
    "enc_lr = 6e-5\n",
    "dec_lr = 5e-5\n",
    "rec_lr = 4e-5\n",
    "prd_lr = 3e-5\n",
    "val_lr = 2e-5\n",
    "pol_lr = 1e-5\n",
    "\n",
    "enc_net = Encoder(ob_shape).to(device=device)\n",
    "dec_net = Decoder(ob_shape).to(device=device)\n",
    "rec_net = RecurrentNetwork(enc_net.out_shape, n_hiddens).to(device=device)\n",
    "prd_net = PredictionNetwork(n_hiddens, enc_net.out_shape).to(device=device)\n",
    "pol_net = PolicyNetwork(n_hiddens, n_actions).to(device=device)\n",
    "val_net = ValueNetwork(n_hiddens).to(device=device)"
   ]
  },
  {
   "cell_type": "code",
   "execution_count": 17,
   "id": "324e62fb-4dd0-4b9d-809b-983f8eb1f944",
   "metadata": {},
   "outputs": [],
   "source": [
    "mse_loss_fn = nn.MSELoss()\n",
    "\n",
    "enc_optimizer = optim.Adam(enc_net.parameters(), lr=enc_lr)\n",
    "dec_optimizer = optim.Adam(dec_net.parameters(), lr=dec_lr)\n",
    "rec_optimizer = optim.Adam(rec_net.parameters(), lr=rec_lr)\n",
    "prd_optimizer = optim.Adam(prd_net.parameters(), lr=prd_lr)\n",
    "val_optimizer = optim.Adam(val_net.parameters(), lr=val_lr)\n",
    "pol_optimizer = optim.Adam(pol_net.parameters(), lr=pol_lr)"
   ]
  },
  {
   "cell_type": "code",
   "execution_count": 18,
   "id": "78e08eb5-398b-4035-8559-edfd4fb79e99",
   "metadata": {},
   "outputs": [
    {
     "name": "stdout",
     "output_type": "stream",
     "text": [
      "Episode 2 Best return: 7.0\t\t"
     ]
    },
    {
     "ename": "ValueError",
     "evalue": "Expected parameter logits (Tensor of shape (1, 4)) of distribution Categorical(logits: torch.Size([1, 4])) to satisfy the constraint IndependentConstraint(Real(), 1), but found invalid values:\ntensor([[nan, nan, nan, nan]], device='cuda:0', grad_fn=<SubBackward0>)",
     "output_type": "error",
     "traceback": [
      "\u001b[0;31m---------------------------------------------------------------------------\u001b[0m",
      "\u001b[0;31mValueError\u001b[0m                                Traceback (most recent call last)",
      "Cell \u001b[0;32mIn[18], line 15\u001b[0m\n\u001b[1;32m     13\u001b[0m value \u001b[38;5;241m=\u001b[39m val_net(memory)\n\u001b[1;32m     14\u001b[0m logits \u001b[38;5;241m=\u001b[39m pol_net(memory)\n\u001b[0;32m---> 15\u001b[0m action, log_prob \u001b[38;5;241m=\u001b[39m \u001b[43mselect_action\u001b[49m\u001b[43m(\u001b[49m\u001b[43mlogits\u001b[49m\u001b[43m)\u001b[49m\n\u001b[1;32m     16\u001b[0m pred_state \u001b[38;5;241m=\u001b[39m prd_net(memory\u001b[38;5;241m.\u001b[39mdetach(), action\u001b[38;5;241m.\u001b[39mdetach()\u001b[38;5;241m.\u001b[39mto(dtype\u001b[38;5;241m=\u001b[39mtorch\u001b[38;5;241m.\u001b[39mfloat32))\n\u001b[1;32m     18\u001b[0m next_ob, reward, done, truncated, _ \u001b[38;5;241m=\u001b[39m env\u001b[38;5;241m.\u001b[39mstep(action)\n",
      "Cell \u001b[0;32mIn[15], line 2\u001b[0m, in \u001b[0;36mselect_action\u001b[0;34m(logits)\u001b[0m\n\u001b[1;32m      1\u001b[0m \u001b[38;5;28;01mdef\u001b[39;00m\u001b[38;5;250m \u001b[39m\u001b[38;5;21mselect_action\u001b[39m(logits):\n\u001b[0;32m----> 2\u001b[0m     dist \u001b[38;5;241m=\u001b[39m \u001b[43mtorch\u001b[49m\u001b[38;5;241;43m.\u001b[39;49m\u001b[43mdistributions\u001b[49m\u001b[38;5;241;43m.\u001b[39;49m\u001b[43mCategorical\u001b[49m\u001b[43m(\u001b[49m\u001b[43mlogits\u001b[49m\u001b[38;5;241;43m=\u001b[39;49m\u001b[43mlogits\u001b[49m\u001b[43m)\u001b[49m \u001b[38;5;66;03m# shape [batch_size, n_actions]\u001b[39;00m\n\u001b[1;32m      4\u001b[0m     action \u001b[38;5;241m=\u001b[39m dist\u001b[38;5;241m.\u001b[39msample() \u001b[38;5;66;03m# Shape: [n_actions]\u001b[39;00m\n\u001b[1;32m      5\u001b[0m     log_prob \u001b[38;5;241m=\u001b[39m dist\u001b[38;5;241m.\u001b[39mlog_prob(action)\n",
      "File \u001b[0;32m~/.conda/envs/puffer/lib/python3.11/site-packages/torch/distributions/categorical.py:72\u001b[0m, in \u001b[0;36mCategorical.__init__\u001b[0;34m(self, probs, logits, validate_args)\u001b[0m\n\u001b[1;32m     68\u001b[0m \u001b[38;5;28mself\u001b[39m\u001b[38;5;241m.\u001b[39m_num_events \u001b[38;5;241m=\u001b[39m \u001b[38;5;28mself\u001b[39m\u001b[38;5;241m.\u001b[39m_param\u001b[38;5;241m.\u001b[39msize()[\u001b[38;5;241m-\u001b[39m\u001b[38;5;241m1\u001b[39m]\n\u001b[1;32m     69\u001b[0m batch_shape \u001b[38;5;241m=\u001b[39m (\n\u001b[1;32m     70\u001b[0m     \u001b[38;5;28mself\u001b[39m\u001b[38;5;241m.\u001b[39m_param\u001b[38;5;241m.\u001b[39msize()[:\u001b[38;5;241m-\u001b[39m\u001b[38;5;241m1\u001b[39m] \u001b[38;5;28;01mif\u001b[39;00m \u001b[38;5;28mself\u001b[39m\u001b[38;5;241m.\u001b[39m_param\u001b[38;5;241m.\u001b[39mndimension() \u001b[38;5;241m>\u001b[39m \u001b[38;5;241m1\u001b[39m \u001b[38;5;28;01melse\u001b[39;00m torch\u001b[38;5;241m.\u001b[39mSize()\n\u001b[1;32m     71\u001b[0m )\n\u001b[0;32m---> 72\u001b[0m \u001b[38;5;28;43msuper\u001b[39;49m\u001b[43m(\u001b[49m\u001b[43m)\u001b[49m\u001b[38;5;241;43m.\u001b[39;49m\u001b[38;5;21;43m__init__\u001b[39;49m\u001b[43m(\u001b[49m\u001b[43mbatch_shape\u001b[49m\u001b[43m,\u001b[49m\u001b[43m \u001b[49m\u001b[43mvalidate_args\u001b[49m\u001b[38;5;241;43m=\u001b[39;49m\u001b[43mvalidate_args\u001b[49m\u001b[43m)\u001b[49m\n",
      "File \u001b[0;32m~/.conda/envs/puffer/lib/python3.11/site-packages/torch/distributions/distribution.py:71\u001b[0m, in \u001b[0;36mDistribution.__init__\u001b[0;34m(self, batch_shape, event_shape, validate_args)\u001b[0m\n\u001b[1;32m     69\u001b[0m         valid \u001b[38;5;241m=\u001b[39m constraint\u001b[38;5;241m.\u001b[39mcheck(value)\n\u001b[1;32m     70\u001b[0m         \u001b[38;5;28;01mif\u001b[39;00m \u001b[38;5;129;01mnot\u001b[39;00m valid\u001b[38;5;241m.\u001b[39mall():\n\u001b[0;32m---> 71\u001b[0m             \u001b[38;5;28;01mraise\u001b[39;00m \u001b[38;5;167;01mValueError\u001b[39;00m(\n\u001b[1;32m     72\u001b[0m                 \u001b[38;5;124mf\u001b[39m\u001b[38;5;124m\"\u001b[39m\u001b[38;5;124mExpected parameter \u001b[39m\u001b[38;5;132;01m{\u001b[39;00mparam\u001b[38;5;132;01m}\u001b[39;00m\u001b[38;5;124m \u001b[39m\u001b[38;5;124m\"\u001b[39m\n\u001b[1;32m     73\u001b[0m                 \u001b[38;5;124mf\u001b[39m\u001b[38;5;124m\"\u001b[39m\u001b[38;5;124m(\u001b[39m\u001b[38;5;132;01m{\u001b[39;00m\u001b[38;5;28mtype\u001b[39m(value)\u001b[38;5;241m.\u001b[39m\u001b[38;5;18m__name__\u001b[39m\u001b[38;5;132;01m}\u001b[39;00m\u001b[38;5;124m of shape \u001b[39m\u001b[38;5;132;01m{\u001b[39;00m\u001b[38;5;28mtuple\u001b[39m(value\u001b[38;5;241m.\u001b[39mshape)\u001b[38;5;132;01m}\u001b[39;00m\u001b[38;5;124m) \u001b[39m\u001b[38;5;124m\"\u001b[39m\n\u001b[1;32m     74\u001b[0m                 \u001b[38;5;124mf\u001b[39m\u001b[38;5;124m\"\u001b[39m\u001b[38;5;124mof distribution \u001b[39m\u001b[38;5;132;01m{\u001b[39;00m\u001b[38;5;28mrepr\u001b[39m(\u001b[38;5;28mself\u001b[39m)\u001b[38;5;132;01m}\u001b[39;00m\u001b[38;5;124m \u001b[39m\u001b[38;5;124m\"\u001b[39m\n\u001b[1;32m     75\u001b[0m                 \u001b[38;5;124mf\u001b[39m\u001b[38;5;124m\"\u001b[39m\u001b[38;5;124mto satisfy the constraint \u001b[39m\u001b[38;5;132;01m{\u001b[39;00m\u001b[38;5;28mrepr\u001b[39m(constraint)\u001b[38;5;132;01m}\u001b[39;00m\u001b[38;5;124m, \u001b[39m\u001b[38;5;124m\"\u001b[39m\n\u001b[1;32m     76\u001b[0m                 \u001b[38;5;124mf\u001b[39m\u001b[38;5;124m\"\u001b[39m\u001b[38;5;124mbut found invalid values:\u001b[39m\u001b[38;5;130;01m\\n\u001b[39;00m\u001b[38;5;132;01m{\u001b[39;00mvalue\u001b[38;5;132;01m}\u001b[39;00m\u001b[38;5;124m\"\u001b[39m\n\u001b[1;32m     77\u001b[0m             )\n\u001b[1;32m     78\u001b[0m \u001b[38;5;28msuper\u001b[39m()\u001b[38;5;241m.\u001b[39m\u001b[38;5;21m__init__\u001b[39m()\n",
      "\u001b[0;31mValueError\u001b[0m: Expected parameter logits (Tensor of shape (1, 4)) of distribution Categorical(logits: torch.Size([1, 4])) to satisfy the constraint IndependentConstraint(Real(), 1), but found invalid values:\ntensor([[nan, nan, nan, nan]], device='cuda:0', grad_fn=<SubBackward0>)"
     ]
    }
   ],
   "source": [
    "ob, _ = env.reset()\n",
    "ob = torch.from_numpy(ob).to(device=device, dtype=torch.float32, non_blocking=True).unsqueeze(0)\n",
    "memory = rec_net.init_memory().to(device=device, non_blocking=True)\n",
    "\n",
    "ret = 0\n",
    "best_ret = 0\n",
    "episodes = 0\n",
    "while True:\n",
    "    state = enc_net(ob)\n",
    "    memory = rec_net(state.detach(), memory.detach())\n",
    "    \n",
    "    decoded = dec_net(state)\n",
    "    value = val_net(memory)\n",
    "    logits = pol_net(memory)\n",
    "    action, log_prob = select_action(logits)\n",
    "    pred_state = prd_net(memory.detach(), action.detach().to(dtype=torch.float32))\n",
    "    \n",
    "    next_ob, reward, done, truncated, _ = env.step(action)\n",
    "    \n",
    "    if done or truncated:\n",
    "        next_ob, _ = env.reset()\n",
    "        \n",
    "    next_ob = torch.from_numpy(next_ob).to(device=device, dtype=torch.float32, non_blocking=True).unsqueeze(0)\n",
    "    ret += reward\n",
    "\n",
    "    if done or truncated:\n",
    "        episodes += 1\n",
    "        if ret > best_ret:\n",
    "            best_ret = ret\n",
    "        print(\"Episode\", episodes, \"Best return:\", best_ret, end=\"\\t\\t\\r\")\n",
    "        ret = 0\n",
    "\n",
    "    with torch.no_grad():\n",
    "        next_state = enc_net(next_ob)\n",
    "        next_memory = rec_net(next_state, memory)\n",
    "        next_value = val_net(next_memory)\n",
    "        \n",
    "    surprise = mse_loss_fn(next_state.flatten(1), pred_state)\n",
    "    td_target = (reward + surprise.detach()) + gamma * next_value * ~(done | truncated)\n",
    "    \n",
    "    with torch.no_grad():\n",
    "        advantage = (td_target - value)\n",
    "    \n",
    "    dec_loss = mse_loss_fn(next_ob, decoded)\n",
    "    prd_loss = surprise\n",
    "    val_loss = mse_loss_fn(td_target, value)\n",
    "    pol_loss = -log_prob * advantage\n",
    "\n",
    "    loss = dec_loss + 0.5 * prd_loss + 0.25 * val_loss + 0.125 * pol_loss\n",
    "\n",
    "    enc_optimizer.zero_grad()\n",
    "    dec_optimizer.zero_grad()\n",
    "    rec_optimizer.zero_grad()\n",
    "    prd_optimizer.zero_grad()\n",
    "    val_optimizer.zero_grad()\n",
    "    pol_optimizer.zero_grad()\n",
    "    loss.backward()\n",
    "    enc_optimizer.step()\n",
    "    dec_optimizer.step()\n",
    "    rec_optimizer.step()\n",
    "    prd_optimizer.step()\n",
    "    val_optimizer.step()\n",
    "    pol_optimizer.step()\n",
    "\n",
    "    ob = next_ob"
   ]
  }
 ],
 "metadata": {
  "kernelspec": {
   "display_name": "Python 3 (ipykernel)",
   "language": "python",
   "name": "python3"
  },
  "language_info": {
   "codemirror_mode": {
    "name": "ipython",
    "version": 3
   },
   "file_extension": ".py",
   "mimetype": "text/x-python",
   "name": "python",
   "nbconvert_exporter": "python",
   "pygments_lexer": "ipython3",
   "version": "3.11.11"
  }
 },
 "nbformat": 4,
 "nbformat_minor": 5
}
